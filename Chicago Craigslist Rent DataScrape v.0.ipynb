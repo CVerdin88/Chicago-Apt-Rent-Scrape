{
  "nbformat": 4,
  "nbformat_minor": 0,
  "metadata": {
    "colab": {
      "name": "Chicago Craigslist Rent Data Scrape v.0",
      "provenance": [],
      "collapsed_sections": []
    },
    "kernelspec": {
      "display_name": "Python 3",
      "name": "python3"
    }
  },
  "cells": [
    {
      "cell_type": "markdown",
      "metadata": {
        "id": "NF6SzytEJo8h",
        "colab_type": "text"
      },
      "source": [
        "Chicago Craigslist Rent Data Scrape v.0"
      ]
    },
    {
      "cell_type": "code",
      "metadata": {
        "id": "o9-frlZ_EmMf",
        "colab_type": "code",
        "colab": {}
      },
      "source": [
        "#import get to call a get request on the site\n",
        "from requests import get"
      ],
      "execution_count": 0,
      "outputs": []
    },
    {
      "cell_type": "code",
      "metadata": {
        "id": "Dt5PuViGEmKn",
        "colab_type": "code",
        "colab": {
          "base_uri": "https://localhost:8080/",
          "height": 156
        },
        "outputId": "5fe0677e-04da-4952-ef27-824bb84379e0"
      },
      "source": [
        "\n",
        "#get the first page of the city of chicago housing prices\n",
        "response = get('https://chicago.craigslist.org/search/chc/apa?') #get rid of those lame-o's that post a housing option without a pic using their filter\n",
        "\n",
        "print(response.text[:500])"
      ],
      "execution_count": 5,
      "outputs": [
        {
          "output_type": "stream",
          "text": [
            "﻿<!DOCTYPE html>\n",
            "<html class=\"no-js\"><head>\n",
            "    <title>chicago apts/housing for rent  - craigslist</title>\n",
            "\n",
            "    <meta name=\"description\" content=\"chicago apts/housing for rent  - craigslist\">\n",
            "    <meta http-equiv=\"X-UA-Compatible\" content=\"IE=Edge\"/>\n",
            "    <link rel=\"canonical\" href=\"https://chicago.craigslist.org/search/chc/apa\">\n",
            "    <link rel=\"alternate\" type=\"application/rss+xml\" href=\"https://chicago.craigslist.org/search/chc/apa?format=rss\" title=\"RSS feed for craigslist | chicago apts/housin\n"
          ],
          "name": "stdout"
        }
      ]
    },
    {
      "cell_type": "code",
      "metadata": {
        "id": "wiNMYxeuEmIm",
        "colab_type": "code",
        "colab": {}
      },
      "source": [
        "from bs4 import BeautifulSoup\n",
        "import pandas as pd\n",
        "import numpy as np"
      ],
      "execution_count": 0,
      "outputs": []
    },
    {
      "cell_type": "code",
      "metadata": {
        "id": "7ISNBuSzEmGp",
        "colab_type": "code",
        "colab": {
          "base_uri": "https://localhost:8080/",
          "height": 34
        },
        "outputId": "5195a6da-035b-4e1f-8c06-0188abeb9229"
      },
      "source": [
        "#grab the HTML as a BS4 soup object\n",
        "html_soup = BeautifulSoup(response.text, 'html.parser')\n",
        "type(html_soup)"
      ],
      "execution_count": 8,
      "outputs": [
        {
          "output_type": "execute_result",
          "data": {
            "text/plain": [
              "bs4.BeautifulSoup"
            ]
          },
          "metadata": {
            "tags": []
          },
          "execution_count": 8
        }
      ]
    },
    {
      "cell_type": "code",
      "metadata": {
        "id": "qoyIHNz-EmEn",
        "colab_type": "code",
        "colab": {
          "base_uri": "https://localhost:8080/",
          "height": 52
        },
        "outputId": "7ed59704-8d5e-490e-d046-f39c20e912c3"
      },
      "source": [
        "#get the macro-container for the housing posts\n",
        "posts = html_soup.find_all('li', class_= 'result-row')\n",
        "print(type(posts)) #to double check that I got a ResultSet\n",
        "print(len(posts)) #to double check I got 50 (elements/page)"
      ],
      "execution_count": 9,
      "outputs": [
        {
          "output_type": "stream",
          "text": [
            "<class 'bs4.element.ResultSet'>\n",
            "120\n"
          ],
          "name": "stdout"
        }
      ]
    },
    {
      "cell_type": "code",
      "metadata": {
        "id": "H_TeFO09EmBz",
        "colab_type": "code",
        "colab": {
          "base_uri": "https://localhost:8080/",
          "height": 554
        },
        "outputId": "1d139bc6-2536-45da-eaf7-74ff4351f70e"
      },
      "source": [
        "#grab the first post\n",
        "post_one = posts[0]\n",
        "post_one"
      ],
      "execution_count": 10,
      "outputs": [
        {
          "output_type": "execute_result",
          "data": {
            "text/plain": [
              "<li class=\"result-row\" data-pid=\"7036524103\" data-repost-of=\"3428031990\">\n",
              "<a class=\"result-image gallery\" data-ids=\"1:00d0d_i9Rtn2Y8p0Z,1:01414_lO50rwiu1ol,1:00s0s_a8RonfcaXvl,1:00n0n_7Jx7J293Slb,1:00a0a_hnZy8XSUT2w,1:00606_jK6Xvc1vNmj\" href=\"https://chicago.craigslist.org/chc/apa/d/chicago-1-bravail-1-1pets-okfits-kingin/7036524103.html\">\n",
              "<span class=\"result-price\">$1000</span>\n",
              "</a>\n",
              "<p class=\"result-info\">\n",
              "<span class=\"icon icon-star\" role=\"button\">\n",
              "<span class=\"screen-reader-text\">favorite this post</span>\n",
              "</span>\n",
              "<time class=\"result-date\" datetime=\"2019-12-11 11:36\" title=\"Wed 11 Dec 11:36:48 AM\">Dec 11</time>\n",
              "<a class=\"result-title hdrlnk\" data-id=\"7036524103\" href=\"https://chicago.craigslist.org/chc/apa/d/chicago-1-bravail-1-1pets-okfits-kingin/7036524103.html\">1 BR****AVAIL 1/1**pets ok**FITS KING***IN UNIT LAUNDRY!!!!**</a>\n",
              "<span class=\"result-meta\">\n",
              "<span class=\"result-price\">$1000</span>\n",
              "<span class=\"housing\">\n",
              "                    1br -\n",
              "                    900ft<sup>2</sup> -\n",
              "                </span>\n",
              "<span class=\"result-hood\"> (PILSEN)</span>\n",
              "<span class=\"result-tags\">\n",
              "<span class=\"pictag\">pic</span>\n",
              "</span>\n",
              "<span class=\"banish icon icon-trash\" role=\"button\">\n",
              "<span class=\"screen-reader-text\">hide this posting</span>\n",
              "</span>\n",
              "<span aria-hidden=\"true\" class=\"unbanish icon icon-trash red\" role=\"button\"></span>\n",
              "<a class=\"restore-link\" href=\"#\">\n",
              "<span class=\"restore-narrow-text\">restore</span>\n",
              "<span class=\"restore-wide-text\">restore this posting</span>\n",
              "</a>\n",
              "</span>\n",
              "</p>\n",
              "</li>"
            ]
          },
          "metadata": {
            "tags": []
          },
          "execution_count": 10
        }
      ]
    },
    {
      "cell_type": "code",
      "metadata": {
        "id": "KjZ51MysEl9K",
        "colab_type": "code",
        "colab": {
          "base_uri": "https://localhost:8080/",
          "height": 34
        },
        "outputId": "e0047cc1-cf42-4603-bcaf-ef1bb07234f5"
      },
      "source": [
        "#grab the price of the first post\n",
        "post_one_price = post_one.a.text\n",
        "post_one_price"
      ],
      "execution_count": 11,
      "outputs": [
        {
          "output_type": "execute_result",
          "data": {
            "text/plain": [
              "'\\n$1000\\n'"
            ]
          },
          "metadata": {
            "tags": []
          },
          "execution_count": 11
        }
      ]
    },
    {
      "cell_type": "code",
      "metadata": {
        "id": "Uh3dN6cbFIHo",
        "colab_type": "code",
        "colab": {
          "base_uri": "https://localhost:8080/",
          "height": 34
        },
        "outputId": "81a4020a-ffda-48d9-9a10-3f5f4f307f76"
      },
      "source": [
        "\n",
        "#grab the time of the post in datetime format to save on cleaning efforts\n",
        "post_one_time = post_one.find('time', class_= 'result-date')\n",
        "post_one_datetime = post_one_time['datetime']\n",
        "\n",
        "#split them and grab each element of the resulting list to get date and time\n",
        "post_one_datetime = post_one_datetime.split(' ')\n",
        "post_one_date = post_one_datetime[0]\n",
        "post_one_date\n",
        "\n",
        "#element 2 is the time\n",
        "post_one_time = post_one_datetime[1]\n",
        "\n",
        "post_one_time"
      ],
      "execution_count": 12,
      "outputs": [
        {
          "output_type": "execute_result",
          "data": {
            "text/plain": [
              "'11:36'"
            ]
          },
          "metadata": {
            "tags": []
          },
          "execution_count": 12
        }
      ]
    },
    {
      "cell_type": "code",
      "metadata": {
        "id": "7lsVoGW2FIFN",
        "colab_type": "code",
        "colab": {
          "base_uri": "https://localhost:8080/",
          "height": 34
        },
        "outputId": "8d222d7f-9b38-420d-b7a3-25e62d44813c"
      },
      "source": [
        "#title is a and that class, link is grabbing the href attribute of that variable\n",
        "post_one_title = post_one.find('a', class_='result-title hdrlnk')\n",
        "post_one_link = post_one_title['href']\n",
        "post_one_link"
      ],
      "execution_count": 13,
      "outputs": [
        {
          "output_type": "execute_result",
          "data": {
            "text/plain": [
              "'https://chicago.craigslist.org/chc/apa/d/chicago-1-bravail-1-1pets-okfits-kingin/7036524103.html'"
            ]
          },
          "metadata": {
            "tags": []
          },
          "execution_count": 13
        }
      ]
    },
    {
      "cell_type": "code",
      "metadata": {
        "id": "ZddqvtODFIDP",
        "colab_type": "code",
        "colab": {
          "base_uri": "https://localhost:8080/",
          "height": 34
        },
        "outputId": "e9fb809f-fdfc-476c-a195-d723a7ce09d5"
      },
      "source": [
        "#easy to grab the post title by taking the text element of the title variable\n",
        "post_one_title_text = post_one_title.text\n",
        "post_one_title_text"
      ],
      "execution_count": 14,
      "outputs": [
        {
          "output_type": "execute_result",
          "data": {
            "text/plain": [
              "'1 BR****AVAIL 1/1**pets ok**FITS KING***IN UNIT LAUNDRY!!!!**'"
            ]
          },
          "metadata": {
            "tags": []
          },
          "execution_count": 14
        }
      ]
    },
    {
      "cell_type": "code",
      "metadata": {
        "id": "3Y526HabFIA9",
        "colab_type": "code",
        "colab": {
          "base_uri": "https://localhost:8080/",
          "height": 34
        },
        "outputId": "2a42823b-1b38-4132-8a2c-77d4196102cc"
      },
      "source": [
        "#the neighborhood is grabbed by finding the span class 'result-hood' and pulling the text element from that\n",
        "post_one_hood = post_one.find('span', class_= 'result-hood').text\n",
        "post_one_hood"
      ],
      "execution_count": 15,
      "outputs": [
        {
          "output_type": "execute_result",
          "data": {
            "text/plain": [
              "' (PILSEN)'"
            ]
          },
          "metadata": {
            "tags": []
          },
          "execution_count": 15
        }
      ]
    },
    {
      "cell_type": "code",
      "metadata": {
        "id": "lTPyM_nmFH94",
        "colab_type": "code",
        "colab": {
          "base_uri": "https://localhost:8080/",
          "height": 450
        },
        "outputId": "38a6ab76-cd39-4178-b4f7-0f22555afc77"
      },
      "source": [
        "#build out the loop\n",
        "from time import sleep\n",
        "from random import randint\n",
        "from warnings import warn\n",
        "from time import time\n",
        "from IPython.core.display import clear_output\n",
        "import numpy as np\n",
        "\n",
        "#find the total number of posts to find the limit of the pagination\n",
        "results_num = html_soup.find('div', class_= 'search-legend')\n",
        "results_total = int(results_num.find('span', class_='totalcount').text)\n",
        "\n",
        "pages = np.arange(0, results_total, 120)\n",
        "\n",
        "iterations = 0\n",
        "\n",
        "post_timing = []\n",
        "post_hoods = []\n",
        "post_title_texts = []\n",
        "post_links = []\n",
        "post_prices = []\n",
        "\n",
        "for page in pages:\n",
        "    \n",
        "    #get request\n",
        "    response = get(\"https://chicago.craigslist.org/search/chc/apa?\" \n",
        "                   + \"s=\" \n",
        "                   + str(page) \n",
        "                   + \"&hasPic=1\"\n",
        "                   + \"&availabilityMode=0\")\n",
        "\n",
        "    sleep(randint(1,5))\n",
        "     \n",
        "    #throw warning for status codes that are not 200\n",
        "    if response.status_code != 200:\n",
        "        warn('Request: {}; Status code: {}'.format(requests, response.status_code))\n",
        "        \n",
        "    #define the html text\n",
        "    page_html = BeautifulSoup(response.text, 'html.parser')\n",
        "    \n",
        "    #define the posts\n",
        "    posts = html_soup.find_all('li', class_= 'result-row')\n",
        "        \n",
        "    #extract data item-wise\n",
        "    for post in posts:\n",
        "\n",
        "        if post.find('span', class_ = 'result-hood') is not None:\n",
        "\n",
        "            #posting date\n",
        "            #grab the datetime element 0 for date and 1 for time\n",
        "            post_datetime = post.find('time', class_= 'result-date')['datetime']\n",
        "            post_timing.append(post_datetime)\n",
        "\n",
        "            #neighborhoods\n",
        "            post_hood = post.find('span', class_= 'result-hood').text\n",
        "            post_hoods.append(post_hood)\n",
        "\n",
        "            #title text\n",
        "            post_title = post.find('a', class_='result-title hdrlnk')\n",
        "            post_title_text = post_title.text\n",
        "            post_title_texts.append(post_title_text)\n",
        "\n",
        "            #post link\n",
        "            post_link = post_title['href']\n",
        "            post_links.append(post_link)\n",
        "\n",
        "            post_price = post.a.text\n",
        "            post_prices.append(post_price)\n",
        "\n",
        "\n",
        "    iterations += 1\n",
        "    print(\"Finished iteration: \" + str(iterations))"
      ],
      "execution_count": 17,
      "outputs": [
        {
          "output_type": "stream",
          "text": [
            "Finished iteration: 1\n",
            "Finished iteration: 2\n",
            "Finished iteration: 3\n",
            "Finished iteration: 4\n",
            "Finished iteration: 5\n",
            "Finished iteration: 6\n",
            "Finished iteration: 7\n",
            "Finished iteration: 8\n",
            "Finished iteration: 9\n",
            "Finished iteration: 10\n",
            "Finished iteration: 11\n",
            "Finished iteration: 12\n",
            "Finished iteration: 13\n",
            "Finished iteration: 14\n",
            "Finished iteration: 15\n",
            "Finished iteration: 16\n",
            "Finished iteration: 17\n",
            "Finished iteration: 18\n",
            "Finished iteration: 19\n",
            "Finished iteration: 20\n",
            "Finished iteration: 21\n",
            "Finished iteration: 22\n",
            "Finished iteration: 23\n",
            "Finished iteration: 24\n",
            "Finished iteration: 25\n"
          ],
          "name": "stdout"
        }
      ]
    },
    {
      "cell_type": "code",
      "metadata": {
        "id": "pzGTkVXGFH60",
        "colab_type": "code",
        "colab": {
          "base_uri": "https://localhost:8080/",
          "height": 546
        },
        "outputId": "110638bd-e07d-4a14-b539-65e8a9326f99"
      },
      "source": [
        "import pandas as pd\n",
        "\n",
        "eb_rooms = pd.DataFrame({'posted': post_timing,\n",
        "                       'neighborhood': post_hoods,\n",
        "                       'post title': post_title_texts,\n",
        "                       'URL': post_links,\n",
        "                       'price': post_prices})\n",
        "print(eb_rooms.info())\n",
        "eb_rooms.tail(10)"
      ],
      "execution_count": 18,
      "outputs": [
        {
          "output_type": "stream",
          "text": [
            "<class 'pandas.core.frame.DataFrame'>\n",
            "RangeIndex: 2975 entries, 0 to 2974\n",
            "Data columns (total 5 columns):\n",
            "posted          2975 non-null object\n",
            "neighborhood    2975 non-null object\n",
            "post title      2975 non-null object\n",
            "URL             2975 non-null object\n",
            "price           2975 non-null object\n",
            "dtypes: object(5)\n",
            "memory usage: 116.3+ KB\n",
            "None\n"
          ],
          "name": "stdout"
        },
        {
          "output_type": "execute_result",
          "data": {
            "text/html": [
              "<div>\n",
              "<style scoped>\n",
              "    .dataframe tbody tr th:only-of-type {\n",
              "        vertical-align: middle;\n",
              "    }\n",
              "\n",
              "    .dataframe tbody tr th {\n",
              "        vertical-align: top;\n",
              "    }\n",
              "\n",
              "    .dataframe thead th {\n",
              "        text-align: right;\n",
              "    }\n",
              "</style>\n",
              "<table border=\"1\" class=\"dataframe\">\n",
              "  <thead>\n",
              "    <tr style=\"text-align: right;\">\n",
              "      <th></th>\n",
              "      <th>posted</th>\n",
              "      <th>neighborhood</th>\n",
              "      <th>post title</th>\n",
              "      <th>URL</th>\n",
              "      <th>price</th>\n",
              "    </tr>\n",
              "  </thead>\n",
              "  <tbody>\n",
              "    <tr>\n",
              "      <th>2965</th>\n",
              "      <td>2019-12-10 15:56</td>\n",
              "      <td>(922 W. Eastwood)</td>\n",
              "      <td>Eastwood St Remodeled Studios Walk To The Lake</td>\n",
              "      <td>https://chicago.craigslist.org/chc/apa/d/chica...</td>\n",
              "      <td>\\n$750\\n</td>\n",
              "    </tr>\n",
              "    <tr>\n",
              "      <th>2966</th>\n",
              "      <td>2019-12-10 15:54</td>\n",
              "      <td>(Andersonville-Ravenswood)</td>\n",
              "      <td>Beautiful Newly Gut Rehabbed Andersonville-Rav...</td>\n",
              "      <td>https://chicago.craigslist.org/chc/apa/d/chica...</td>\n",
              "      <td>\\n$1650\\n</td>\n",
              "    </tr>\n",
              "    <tr>\n",
              "      <th>2967</th>\n",
              "      <td>2019-12-10 15:49</td>\n",
              "      <td>(Lincoln Park)</td>\n",
              "      <td>2 Bedroom</td>\n",
              "      <td>https://chicago.craigslist.org/chc/apa/d/chica...</td>\n",
              "      <td>\\n$1800\\n</td>\n",
              "    </tr>\n",
              "    <tr>\n",
              "      <th>2968</th>\n",
              "      <td>2019-12-10 15:47</td>\n",
              "      <td>(Logan Square)</td>\n",
              "      <td>Studio Apartment - One block from Logan Square...</td>\n",
              "      <td>https://chicago.craigslist.org/chc/apa/d/chica...</td>\n",
              "      <td>\\n$995\\n</td>\n",
              "    </tr>\n",
              "    <tr>\n",
              "      <th>2969</th>\n",
              "      <td>2019-12-10 15:44</td>\n",
              "      <td>(7445 N. Claremont)</td>\n",
              "      <td>Claremont St. 1 Bedroom In Rogers Park</td>\n",
              "      <td>https://chicago.craigslist.org/chc/apa/d/evans...</td>\n",
              "      <td>\\n$925\\n</td>\n",
              "    </tr>\n",
              "    <tr>\n",
              "      <th>2970</th>\n",
              "      <td>2019-12-10 15:42</td>\n",
              "      <td>(Gold Coast)</td>\n",
              "      <td>Great Value - Two bedroom apartment near lake ...</td>\n",
              "      <td>https://chicago.craigslist.org/chc/apa/d/great...</td>\n",
              "      <td>\\n$3220\\n</td>\n",
              "    </tr>\n",
              "    <tr>\n",
              "      <th>2971</th>\n",
              "      <td>2019-12-10 15:42</td>\n",
              "      <td>(Logan Square)</td>\n",
              "      <td>Spacious Studio 1 Block from Logan Square Blue...</td>\n",
              "      <td>https://chicago.craigslist.org/chc/apa/d/chica...</td>\n",
              "      <td>\\n$1095\\n</td>\n",
              "    </tr>\n",
              "    <tr>\n",
              "      <th>2972</th>\n",
              "      <td>2019-12-10 15:40</td>\n",
              "      <td>(Logan Square)</td>\n",
              "      <td>Newly renovated 2 brm 1st floor apartment</td>\n",
              "      <td>https://chicago.craigslist.org/chc/apa/d/chica...</td>\n",
              "      <td>\\n$1450\\n</td>\n",
              "    </tr>\n",
              "    <tr>\n",
              "      <th>2973</th>\n",
              "      <td>2019-12-10 15:38</td>\n",
              "      <td>(KENMORE AND CATALPA, EDGEWATER)</td>\n",
              "      <td>BRYN MAWR REDLINE NEW REMODELED S/S 2BR! HWF,M...</td>\n",
              "      <td>https://chicago.craigslist.org/chc/apa/d/chica...</td>\n",
              "      <td>\\n$1695\\n</td>\n",
              "    </tr>\n",
              "    <tr>\n",
              "      <th>2974</th>\n",
              "      <td>2019-12-10 15:37</td>\n",
              "      <td>(Chicago: Edgewater)</td>\n",
              "      <td>Affordable One Bed In Edgewater: Available Now!</td>\n",
              "      <td>https://chicago.craigslist.org/chc/apa/d/chica...</td>\n",
              "      <td>\\n$1050\\n</td>\n",
              "    </tr>\n",
              "  </tbody>\n",
              "</table>\n",
              "</div>"
            ],
            "text/plain": [
              "                posted  ...      price\n",
              "2965  2019-12-10 15:56  ...   \\n$750\\n\n",
              "2966  2019-12-10 15:54  ...  \\n$1650\\n\n",
              "2967  2019-12-10 15:49  ...  \\n$1800\\n\n",
              "2968  2019-12-10 15:47  ...   \\n$995\\n\n",
              "2969  2019-12-10 15:44  ...   \\n$925\\n\n",
              "2970  2019-12-10 15:42  ...  \\n$3220\\n\n",
              "2971  2019-12-10 15:42  ...  \\n$1095\\n\n",
              "2972  2019-12-10 15:40  ...  \\n$1450\\n\n",
              "2973  2019-12-10 15:38  ...  \\n$1695\\n\n",
              "2974  2019-12-10 15:37  ...  \\n$1050\\n\n",
              "\n",
              "[10 rows x 5 columns]"
            ]
          },
          "metadata": {
            "tags": []
          },
          "execution_count": 18
        }
      ]
    },
    {
      "cell_type": "code",
      "metadata": {
        "id": "mxPisjWGHh7z",
        "colab_type": "code",
        "colab": {}
      },
      "source": [
        "#########DATA CLEANING PORTION BELOW"
      ],
      "execution_count": 0,
      "outputs": []
    },
    {
      "cell_type": "code",
      "metadata": {
        "id": "KJUQzv6ZFH4f",
        "colab_type": "code",
        "colab": {
          "base_uri": "https://localhost:8080/",
          "height": 190
        },
        "outputId": "986cb5a0-d458-415d-df8d-4208ab0a76b7"
      },
      "source": [
        "#convert datetime string into datetime object to be able to work with it\n",
        "from datetime import datetime\n",
        "\n",
        "eb_rooms['posted'] = pd.to_datetime(eb_rooms['posted'])\n",
        "eb_rooms.info()"
      ],
      "execution_count": 19,
      "outputs": [
        {
          "output_type": "stream",
          "text": [
            "<class 'pandas.core.frame.DataFrame'>\n",
            "RangeIndex: 2975 entries, 0 to 2974\n",
            "Data columns (total 5 columns):\n",
            "posted          2975 non-null datetime64[ns]\n",
            "neighborhood    2975 non-null object\n",
            "post title      2975 non-null object\n",
            "URL             2975 non-null object\n",
            "price           2975 non-null object\n",
            "dtypes: datetime64[ns](1), object(4)\n",
            "memory usage: 116.3+ KB\n"
          ],
          "name": "stdout"
        }
      ]
    },
    {
      "cell_type": "code",
      "metadata": {
        "id": "3tG7OHHWEl6Y",
        "colab_type": "code",
        "colab": {}
      },
      "source": [
        "eb_rooms['price'] = eb_rooms['price'].astype(str)"
      ],
      "execution_count": 0,
      "outputs": []
    },
    {
      "cell_type": "code",
      "metadata": {
        "id": "JNCyT9JEEl3r",
        "colab_type": "code",
        "colab": {}
      },
      "source": [
        "import re\n",
        "\n",
        "eb_rooms['price'] = eb_rooms['price'].apply(lambda x: re.sub(r'[\\n$]+', '', x))\n",
        "\n",
        "#replace '' with NaN values in the df before turning the column to int so data shape is maintained"
      ],
      "execution_count": 0,
      "outputs": []
    },
    {
      "cell_type": "code",
      "metadata": {
        "id": "h_Ugge_-F7eb",
        "colab_type": "code",
        "colab": {}
      },
      "source": [
        "import numpy as np\n",
        "eb_rooms['price'].replace('', np.nan, inplace=True)"
      ],
      "execution_count": 0,
      "outputs": []
    },
    {
      "cell_type": "code",
      "metadata": {
        "id": "fgUezcWVF7c1",
        "colab_type": "code",
        "colab": {}
      },
      "source": [
        "#drop the NAs, I don't like them and we have a lot of data\n",
        "eb_rooms = eb_rooms.dropna()\n"
      ],
      "execution_count": 0,
      "outputs": []
    },
    {
      "cell_type": "code",
      "metadata": {
        "id": "JCwyDurQF7aN",
        "colab_type": "code",
        "colab": {}
      },
      "source": [
        "#first remove the parentheses\n",
        "eb_rooms['neighborhood'] = eb_rooms['neighborhood'].apply(lambda x: re.sub(r'[()]+', '', x))\n",
        "\n",
        "#and the /\n",
        "eb_rooms['neighborhood'] = eb_rooms['neighborhood'].apply(lambda x: re.sub(r'[/]+', '', x))\n",
        "\n",
        "#and commas\n",
        "eb_rooms['neighborhood'] = eb_rooms['neighborhood'].apply(lambda x: re.sub(r'[,]+', '', x))"
      ],
      "execution_count": 0,
      "outputs": []
    },
    {
      "cell_type": "code",
      "metadata": {
        "id": "L07TqemoF7YD",
        "colab_type": "code",
        "colab": {}
      },
      "source": [
        "#people spam craigslist so how many of these are unique?\n",
        "eb_rooms = eb_rooms.drop_duplicates(subset='URL')"
      ],
      "execution_count": 0,
      "outputs": []
    },
    {
      "cell_type": "code",
      "metadata": {
        "id": "NYdgCbHhF7V-",
        "colab_type": "code",
        "colab": {}
      },
      "source": [
        "#now turn the price to int\n",
        "eb_rooms['price'] = eb_rooms['price'].astype(int)"
      ],
      "execution_count": 0,
      "outputs": []
    },
    {
      "cell_type": "code",
      "metadata": {
        "id": "4RJN35AMF7Ts",
        "colab_type": "code",
        "colab": {
          "base_uri": "https://localhost:8080/",
          "height": 190
        },
        "outputId": "701ab032-f29d-4a23-c485-00a3d3ecbfd2"
      },
      "source": [
        "eb_rooms.info() #finally a quantitative variable!"
      ],
      "execution_count": 29,
      "outputs": [
        {
          "output_type": "stream",
          "text": [
            "<class 'pandas.core.frame.DataFrame'>\n",
            "Int64Index: 117 entries, 0 to 118\n",
            "Data columns (total 5 columns):\n",
            "posted          117 non-null datetime64[ns]\n",
            "neighborhood    117 non-null object\n",
            "post title      117 non-null object\n",
            "URL             117 non-null object\n",
            "price           117 non-null int64\n",
            "dtypes: datetime64[ns](1), int64(1), object(3)\n",
            "memory usage: 5.5+ KB\n"
          ],
          "name": "stdout"
        }
      ]
    },
    {
      "cell_type": "code",
      "metadata": {
        "id": "kksD5KxNF7Rm",
        "colab_type": "code",
        "colab": {}
      },
      "source": [
        "eb_rooms['neighborhood'] = eb_rooms['neighborhood'].apply(lambda x: x.lstrip(' '))"
      ],
      "execution_count": 0,
      "outputs": []
    },
    {
      "cell_type": "code",
      "metadata": {
        "id": "As7A5mhBF7OK",
        "colab_type": "code",
        "colab": {
          "base_uri": "https://localhost:8080/",
          "height": 278
        },
        "outputId": "f0ec3547-9d83-4895-d480-816b831c1f97"
      },
      "source": [
        "#start to look at the distributions\n",
        "from matplotlib import figure\n",
        "import matplotlib as plt\n",
        "import seaborn as sns\n",
        "%matplotlib inline\n",
        "\n",
        "#figure(num=None, figsize=(8, 6), dpi=80, facecolor='w', edgecolor='k')\n",
        "sns.distplot(eb_rooms['price']);"
      ],
      "execution_count": 31,
      "outputs": [
        {
          "output_type": "display_data",
          "data": {
            "image/png": "[encoded data removed]",
            "text/plain": [
              "<Figure size 432x288 with 1 Axes>"
            ]
          },
          "metadata": {
            "tags": []
          }
        }
      ]
    },
    {
      "cell_type": "code",
      "metadata": {
        "id": "rnbpRG0nHyNp",
        "colab_type": "code",
        "colab": {
          "base_uri": "https://localhost:8080/",
          "height": 1000
        },
        "outputId": "4f80a87b-d9db-422b-e6a3-be7a5e6465a0"
      },
      "source": [
        "pd.set_option('display.max_rows', 500)\n",
        "eb_rooms['neighborhood']"
      ],
      "execution_count": 34,
      "outputs": [
        {
          "output_type": "execute_result",
          "data": {
            "text/plain": [
              "0                                                 PILSEN\n",
              "1                               Chicago - Lakeshore East\n",
              "2                                   Chicago - South Loop\n",
              "3                                   Chicago - South Loop\n",
              "4                                       6725 S. East End\n",
              "5                                             South Loop\n",
              "6                                            Irving Park\n",
              "7                                             South Loop\n",
              "8                                                 Uptown\n",
              "9                                                 Uptown\n",
              "10                                   1436-40 W Thorndale\n",
              "11                                   4508 N Central Park\n",
              "12                                       3257 W Eastwood\n",
              "13                                  Chicago - South Loop\n",
              "14                                           River North\n",
              "15                                      4142 N. Keystone\n",
              "16                                         1234 W Loyola\n",
              "17                        South Douglas Park West Pilsen\n",
              "18                                  4626 N. Lincoln Ave.\n",
              "19                                  4620 N. Lincoln Ave.\n",
              "20                                  4626 N. Lincoln Ave.\n",
              "21                                               Chicago\n",
              "22                                   1100-12 w Thorndale\n",
              "23                                           River North\n",
              "24                                      62nd & Greenwood\n",
              "25                                           River North\n",
              "26                                 810 Seward - Evanston\n",
              "27                                              Old Town\n",
              "28                                        MilwaukeeDevon\n",
              "29                                              Old Town\n",
              "31                                 BridgeportCanaryville\n",
              "32                                  Chicago - South Loop\n",
              "33                                      4130 N. Keystone\n",
              "34                                 Midway garfield ridge\n",
              "35                                               Chicago\n",
              "36                                      Chicago - Uptown\n",
              "37                                          Chicago Lawn\n",
              "38                                  1775 W. Highland Ave\n",
              "39                                             Hyde park\n",
              "40                                  1775 W. Highland Ave\n",
              "41                                Chicago - Logan Square\n",
              "42                                   Wicker ParkBucktown\n",
              "43                                  Wrightwood & Ashland\n",
              "44                                 Chicago - Albany Park\n",
              "45                                          Logan Square\n",
              "46                                               Chicago\n",
              "47                                         Humboldt Park\n",
              "48                                              Lakeview\n",
              "49     River North Gold Coast Merchandise Mart Chicag...\n",
              "50     River North Gold Coast Merchandise Mart Brown ...\n",
              "51     River North Merchandise Mart River Walk Brown ...\n",
              "52     River North Merchandise Mart River Walk Brown ...\n",
              "53     River North Merchandise Mart River Walk Brown ...\n",
              "54                       South Loop Roosevelt Grant Park\n",
              "55     South Loop Printers Row Grant Park Financial D...\n",
              "56     South Loop Printers Row Grant Park Financial D...\n",
              "57                       South Loop Roosevelt Grant Park\n",
              "58                                               Chicago\n",
              "59                                              Avondale\n",
              "60                                               Chicago\n",
              "61                                              Avondale\n",
              "63                                         Lakeview East\n",
              "64                                  Chicago - Gold Coast\n",
              "65                                  Chicago - River West\n",
              "66                                  Chicago - Gold Coast\n",
              "67                              4357 W ParkerKelvyn Park\n",
              "68                              Chicago - Lakeshore East\n",
              "69                                  Chicago - South Loop\n",
              "70                       Chicago - Fulton River District\n",
              "71                                  Chicago - Gold Coast\n",
              "72                               Chicago - Streeterville\n",
              "73                                  Chicago - South Loop\n",
              "74                                  Chicago - South Loop\n",
              "75                              Chicago - Lakeshore East\n",
              "76                                Wrigleyville  Lakeview\n",
              "77                                              Bucktown\n",
              "78                                  17th Place & Halsted\n",
              "79                                  17th Place & Halsted\n",
              "80                                   Chicago - West Loop\n",
              "81                                             Edgewater\n",
              "82                                  6758 N. Sheridan Rd.\n",
              "83       Chicago - East Woodlawn - University of Chicago\n",
              "84                                             Cleveland\n",
              "85                                  Chicago - South Loop\n",
              "86                                  Chicago - South Loop\n",
              "87                                           Brownsville\n",
              "88                                           South Shore\n",
              "89                                       3556 W Cortland\n",
              "90                                          Logan Square\n",
              "91                                    Chicago - Lakeview\n",
              "92                                            South Loop\n",
              "93                                              Lakeview\n",
              "94                                  Chicago - South Loop\n",
              "95                                  Bridgeport - Chicago\n",
              "96                                              Lakeview\n",
              "97                                   Chicago - West Loop\n",
              "98                                               Chicago\n",
              "99                                           Wicker Park\n",
              "100                                             Lakeview\n",
              "101                                    Edgewater Chicago\n",
              "102                      Chicago - East LakeviewBoystown\n",
              "103                                               Uptown\n",
              "104                                     Bucktown Chicago\n",
              "105                                    1361 W. Greenleaf\n",
              "106        Lakeview Lincoln Park Old Town Wrigley Uptown\n",
              "107                                             Evanston\n",
              "108                                          Bronzeville\n",
              "109                                      922 W. Eastwood\n",
              "110                             Andersonville-Ravenswood\n",
              "111                                         Lincoln Park\n",
              "112                                         Logan Square\n",
              "113                                    7445 N. Claremont\n",
              "114                                           Gold Coast\n",
              "115                                         Logan Square\n",
              "116                                         Logan Square\n",
              "117                        KENMORE AND CATALPA EDGEWATER\n",
              "118                                   Chicago: Edgewater\n",
              "Name: neighborhood, dtype: object"
            ]
          },
          "metadata": {
            "tags": []
          },
          "execution_count": 34
        }
      ]
    },
    {
      "cell_type": "code",
      "metadata": {
        "id": "kN_FbdX9F7LH",
        "colab_type": "code",
        "colab": {
          "base_uri": "https://localhost:8080/",
          "height": 202
        },
        "outputId": "21e9fc21-e77e-45b5-e102-7dbd1210b55f"
      },
      "source": [
        "pd.options.display.max_colwidth = 100\n",
        "#Check for cheap listing in river north that are under specified price\n",
        "cheap_rn = eb_rooms[(eb_rooms['price'] < 4000) & (eb_rooms['neighborhood'] == 'Logan Square')]\n",
        "cheap_rn"
      ],
      "execution_count": 41,
      "outputs": [
        {
          "output_type": "execute_result",
          "data": {
            "text/html": [
              "<div>\n",
              "<style scoped>\n",
              "    .dataframe tbody tr th:only-of-type {\n",
              "        vertical-align: middle;\n",
              "    }\n",
              "\n",
              "    .dataframe tbody tr th {\n",
              "        vertical-align: top;\n",
              "    }\n",
              "\n",
              "    .dataframe thead th {\n",
              "        text-align: right;\n",
              "    }\n",
              "</style>\n",
              "<table border=\"1\" class=\"dataframe\">\n",
              "  <thead>\n",
              "    <tr style=\"text-align: right;\">\n",
              "      <th></th>\n",
              "      <th>posted</th>\n",
              "      <th>neighborhood</th>\n",
              "      <th>post title</th>\n",
              "      <th>URL</th>\n",
              "      <th>price</th>\n",
              "    </tr>\n",
              "  </thead>\n",
              "  <tbody>\n",
              "    <tr>\n",
              "      <th>45</th>\n",
              "      <td>2019-12-11 08:13:00</td>\n",
              "      <td>Logan Square</td>\n",
              "      <td>Brand new 2BR/1BA in humboldt park/logan square near 606 trail</td>\n",
              "      <td>https://chicago.craigslist.org/chc/apa/d/chicago-brand-new-2br-1ba-in-humboldt/7036376905.html</td>\n",
              "      <td>1750</td>\n",
              "    </tr>\n",
              "    <tr>\n",
              "      <th>90</th>\n",
              "      <td>2019-12-10 18:48:00</td>\n",
              "      <td>Logan Square</td>\n",
              "      <td>Beautiful Logan Square 3 bedroom</td>\n",
              "      <td>https://chicago.craigslist.org/chc/apa/d/chicago-beautiful-logan-square-3-bedroom/7036186587.html</td>\n",
              "      <td>1500</td>\n",
              "    </tr>\n",
              "    <tr>\n",
              "      <th>112</th>\n",
              "      <td>2019-12-10 15:47:00</td>\n",
              "      <td>Logan Square</td>\n",
              "      <td>Studio Apartment - One block from Logan Square Blue Line</td>\n",
              "      <td>https://chicago.craigslist.org/chc/apa/d/chicago-studio-apartment-one-block-from/7036076836.html</td>\n",
              "      <td>995</td>\n",
              "    </tr>\n",
              "    <tr>\n",
              "      <th>115</th>\n",
              "      <td>2019-12-10 15:42:00</td>\n",
              "      <td>Logan Square</td>\n",
              "      <td>Spacious Studio 1 Block from Logan Square Blue Line</td>\n",
              "      <td>https://chicago.craigslist.org/chc/apa/d/chicago-spacious-studio-1-block-from/7036073605.html</td>\n",
              "      <td>1095</td>\n",
              "    </tr>\n",
              "    <tr>\n",
              "      <th>116</th>\n",
              "      <td>2019-12-10 15:40:00</td>\n",
              "      <td>Logan Square</td>\n",
              "      <td>Newly renovated 2 brm 1st floor apartment</td>\n",
              "      <td>https://chicago.craigslist.org/chc/apa/d/chicago-newly-renovated-2-brm-1st-floor/7036071861.html</td>\n",
              "      <td>1450</td>\n",
              "    </tr>\n",
              "  </tbody>\n",
              "</table>\n",
              "</div>"
            ],
            "text/plain": [
              "                 posted  ... price\n",
              "45  2019-12-11 08:13:00  ...  1750\n",
              "90  2019-12-10 18:48:00  ...  1500\n",
              "112 2019-12-10 15:47:00  ...   995\n",
              "115 2019-12-10 15:42:00  ...  1095\n",
              "116 2019-12-10 15:40:00  ...  1450\n",
              "\n",
              "[5 rows x 5 columns]"
            ]
          },
          "metadata": {
            "tags": []
          },
          "execution_count": 41
        }
      ]
    },
    {
      "cell_type": "code",
      "metadata": {
        "id": "HGV6eANaGF8L",
        "colab_type": "code",
        "colab": {}
      },
      "source": [
        "#This version is very basic and will need to combine \"neighborhoods\" here to get more accurate results. Along with that, we are going to have to scan the data for mispellings which happen ALOT on craigslist..."
      ],
      "execution_count": 0,
      "outputs": []
    },
    {
      "cell_type": "code",
      "metadata": {
        "id": "ODdjwr5yGF5O",
        "colab_type": "code",
        "colab": {}
      },
      "source": [
        ""
      ],
      "execution_count": 0,
      "outputs": []
    },
    {
      "cell_type": "code",
      "metadata": {
        "id": "CROOHfXcGF3r",
        "colab_type": "code",
        "colab": {}
      },
      "source": [
        ""
      ],
      "execution_count": 0,
      "outputs": []
    },
    {
      "cell_type": "code",
      "metadata": {
        "id": "aNRIAEAjGF1L",
        "colab_type": "code",
        "colab": {}
      },
      "source": [
        ""
      ],
      "execution_count": 0,
      "outputs": []
    },
    {
      "cell_type": "code",
      "metadata": {
        "id": "lXsP3nF_GFyP",
        "colab_type": "code",
        "colab": {}
      },
      "source": [
        ""
      ],
      "execution_count": 0,
      "outputs": []
    },
    {
      "cell_type": "code",
      "metadata": {
        "id": "E__vo79OGFvJ",
        "colab_type": "code",
        "colab": {}
      },
      "source": [
        ""
      ],
      "execution_count": 0,
      "outputs": []
    },
    {
      "cell_type": "code",
      "metadata": {
        "id": "jJDt3C9SGFsg",
        "colab_type": "code",
        "colab": {}
      },
      "source": [
        ""
      ],
      "execution_count": 0,
      "outputs": []
    }
  ]
}
