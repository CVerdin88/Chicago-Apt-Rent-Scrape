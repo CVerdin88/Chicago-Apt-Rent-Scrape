{
 "cells": [
  {
   "cell_type": "code",
   "execution_count": 60,
   "metadata": {
    "colab": {
     "base_uri": "https://localhost:8080/",
     "height": 52
    },
    "colab_type": "code",
    "id": "_jGyBgvjXlXo",
    "outputId": "a5319979-e33b-460f-e3f5-73cc2bb58cb8"
   },
   "outputs": [
    {
     "name": "stdout",
     "output_type": "stream",
     "text": [
      "<class 'bs4.element.ResultSet'>\n",
      "120\n"
     ]
    }
   ],
   "source": [
    "#import get to call a get request on the site\n",
    "from requests import get\n",
    "\n",
    "#get the 1st page of the chicago housing prices \n",
    "#get rid of posts without a pic using their filter\n",
    "response = get('https://chicago.craigslist.org/search/chc/apa?hasPic=1&availabilityMode=0')\n",
    "\n",
    "from bs4 import BeautifulSoup\n",
    "html_soup = BeautifulSoup(response.text, 'html.parser')\n",
    "\n",
    "#get the macro-container for the housing posts\n",
    "posts = html_soup.find_all('li', class_= 'result-row')\n",
    "print(type(posts)) #to double check that I got a ResultSet\n",
    "print(len(posts)) #to double check I got 120 (elements/page)"
   ]
  },
  {
   "cell_type": "code",
   "execution_count": 61,
   "metadata": {
    "colab": {},
    "colab_type": "code",
    "id": "b1vwc4vZXlaF"
   },
   "outputs": [],
   "source": [
    "#get first post\n",
    "post_one = posts[0]"
   ]
  },
  {
   "cell_type": "code",
   "execution_count": 62,
   "metadata": {
    "colab": {
     "base_uri": "https://localhost:8080/",
     "height": 34
    },
    "colab_type": "code",
    "id": "BaxtdUl4Xlci",
    "outputId": "9d9cb440-03e9-4eb4-dbb6-2729989a78e9"
   },
   "outputs": [
    {
     "data": {
      "text/plain": [
       "'$1,500'"
      ]
     },
     "execution_count": 62,
     "metadata": {},
     "output_type": "execute_result"
    }
   ],
   "source": [
    "#price of 1st post\n",
    "post_one_price = post_one.a.text\n",
    "#remove comma from listing\n",
    "#post_one_price = post_one.a.text.replace(',', '')\n",
    "post_one_price.strip()"
   ]
  },
  {
   "cell_type": "code",
   "execution_count": 63,
   "metadata": {
    "colab": {},
    "colab_type": "code",
    "id": "pqmoMN5VXlg4"
   },
   "outputs": [],
   "source": [
    "#get the time of the post in datetime format\n",
    "post_one_time = post_one.find('time', class_= 'result-date')\n",
    "post_one_datetime = post_one_time['datetime']"
   ]
  },
  {
   "cell_type": "code",
   "execution_count": 64,
   "metadata": {
    "colab": {},
    "colab_type": "code",
    "id": "xjHdFsk7XljA"
   },
   "outputs": [],
   "source": [
    "#title is a and that class, link is grabbing the href attribute of that variable\n",
    "post_one_title = post_one.find('a', class_='result-title hdrlnk')\n",
    "post_one_link = post_one_title['href']\n",
    "\n",
    "#easy to grab the post title by taking the text element of the title variable\n",
    "post_one_title_text = post_one_title.text"
   ]
  },
  {
   "cell_type": "code",
   "execution_count": 55,
   "metadata": {},
   "outputs": [],
   "source": [
    "#execute multiple statements per cell\n",
    "from IPython.core.interactiveshell import InteractiveShell\n",
    "InteractiveShell.ast_node_interactivity = \"all\""
   ]
  },
  {
   "cell_type": "code",
   "execution_count": 65,
   "metadata": {
    "colab": {
     "base_uri": "https://localhost:8080/",
     "height": 200
    },
    "colab_type": "code",
    "id": "aCOC0VNZXlpN",
    "outputId": "f2483405-30ba-476d-9bc7-7240b120064c"
   },
   "outputs": [
    {
     "data": {
      "text/plain": [
       "'3br'"
      ]
     },
     "execution_count": 65,
     "metadata": {},
     "output_type": "execute_result"
    },
    {
     "data": {
      "text/plain": [
       "<span class=\"housing\">\n",
       "                    3br -\n",
       "                    1600ft<sup>2</sup> -\n",
       "                </span>"
      ]
     },
     "execution_count": 65,
     "metadata": {},
     "output_type": "execute_result"
    },
    {
     "data": {
      "text/plain": [
       "'1600'"
      ]
     },
     "execution_count": 65,
     "metadata": {},
     "output_type": "execute_result"
    }
   ],
   "source": [
    "#grabs the whole segment of housing details. We will need missing value handling in the loop as this kind of detail is not common in posts\n",
    "#the text can be split, and we can use indexing to grab the elements we want. number of bedrooms is the first element.\n",
    "#sqft is the third element\n",
    "post_one_num_bedrooms = post_one.find('span', class_ = 'housing').text.split()[0]\n",
    "post_one_num_bedrooms\n",
    "\n",
    "post_one_sqft = post_one.find('span', class_ = 'housing')\n",
    "post_one_sqft\n",
    "\n",
    "post_one_sqft = post_one.find('span', class_ = 'housing').text.split()[2][:-3]\n",
    "post_one_sqft\n",
    "#post_one_sqft = post_one.find('span', class_ = 'housing').text.split()[2][:-3] #cleans the ft2 at the end"
   ]
  },
  {
   "cell_type": "code",
   "execution_count": 66,
   "metadata": {
    "colab": {},
    "colab_type": "code",
    "id": "-x-QMD_NXlsF"
   },
   "outputs": [
    {
     "ename": "AttributeError",
     "evalue": "'NoneType' object has no attribute 'text'",
     "output_type": "error",
     "traceback": [
      "\u001b[1;31m---------------------------------------------------------------------------\u001b[0m",
      "\u001b[1;31mAttributeError\u001b[0m                            Traceback (most recent call last)",
      "\u001b[1;32m<ipython-input-66-f9b9704a4d99>\u001b[0m in \u001b[0;36m<module>\u001b[1;34m\u001b[0m\n\u001b[0;32m      1\u001b[0m \u001b[1;31m#the neighborhood is grabbed by finding the span class 'result-hood' and pulling the text element from that\u001b[0m\u001b[1;33m\u001b[0m\u001b[1;33m\u001b[0m\u001b[1;33m\u001b[0m\u001b[0m\n\u001b[1;32m----> 2\u001b[1;33m \u001b[0mpost_one_hood\u001b[0m \u001b[1;33m=\u001b[0m \u001b[0mposts\u001b[0m\u001b[1;33m[\u001b[0m\u001b[1;36m0\u001b[0m\u001b[1;33m]\u001b[0m\u001b[1;33m.\u001b[0m\u001b[0mfind\u001b[0m\u001b[1;33m(\u001b[0m\u001b[1;34m'span'\u001b[0m\u001b[1;33m,\u001b[0m \u001b[0mclass_\u001b[0m\u001b[1;33m=\u001b[0m\u001b[1;34m'result-hood'\u001b[0m\u001b[1;33m)\u001b[0m\u001b[1;33m.\u001b[0m\u001b[0mtext\u001b[0m\u001b[1;33m\u001b[0m\u001b[1;33m\u001b[0m\u001b[0m\n\u001b[0m",
      "\u001b[1;31mAttributeError\u001b[0m: 'NoneType' object has no attribute 'text'"
     ]
    }
   ],
   "source": [
    "#the neighborhood is grabbed by finding the span class 'result-hood' and pulling the text element from there\n",
    "\n",
    "post_one_hood = posts[0].find('span', class_='result-hood').text"
   ]
  },
  {
   "cell_type": "code",
   "execution_count": 70,
   "metadata": {
    "colab": {
     "base_uri": "https://localhost:8080/",
     "height": 520
    },
    "colab_type": "code",
    "id": "-kqViHwzXlwa",
    "outputId": "26f8f94e-c23a-4fd7-9abf-4c7bada70b24"
   },
   "outputs": [
    {
     "name": "stdout",
     "output_type": "stream",
     "text": [
      "Page 1 scraped successfully!\n",
      "Page 2 scraped successfully!\n",
      "Page 3 scraped successfully!\n",
      "Page 4 scraped successfully!\n",
      "Page 5 scraped successfully!\n",
      "Page 6 scraped successfully!\n",
      "Page 7 scraped successfully!\n",
      "Page 8 scraped successfully!\n",
      "Page 9 scraped successfully!\n",
      "Page 10 scraped successfully!\n",
      "Page 11 scraped successfully!\n",
      "Page 12 scraped successfully!\n",
      "Page 13 scraped successfully!\n",
      "Page 14 scraped successfully!\n",
      "Page 15 scraped successfully!\n",
      "Page 16 scraped successfully!\n",
      "Page 17 scraped successfully!\n",
      "Page 18 scraped successfully!\n",
      "Page 19 scraped successfully!\n",
      "Page 20 scraped successfully!\n",
      "Page 21 scraped successfully!\n",
      "Page 22 scraped successfully!\n",
      "Page 23 scraped successfully!\n",
      "Page 24 scraped successfully!\n",
      "Page 25 scraped successfully!\n",
      "Page 26 scraped successfully!\n",
      "\n",
      "\n",
      "Scrape complete!\n"
     ]
    }
   ],
   "source": [
    "#build out the loop\n",
    "from time import sleep\n",
    "import re\n",
    "##this will allow us to scrape without getting blocked by craigslist\n",
    "from random import randint #avoid throttling by not sending too many requests one after the other\n",
    "from warnings import warn\n",
    "from time import time\n",
    "from IPython.core.display import clear_output\n",
    "import numpy as np\n",
    "\n",
    "#find the total number of posts to find the limit of the pagination\n",
    "results_num = html_soup.find('div', class_= 'search-legend')\n",
    "results_total = int(results_num.find('span', class_='totalcount').text) #pulled the total count of posts as the upper bound of the pages array\n",
    "\n",
    "#each page has 119 posts so each new page is defined as follows: s=120, s=240, s=360, and so on. So we need to step in size 120 in the np.arange function\n",
    "pages = np.arange(0, results_total+1, 120)\n",
    "\n",
    "iterations = 0\n",
    "\n",
    "post_timing = []\n",
    "post_hoods = []\n",
    "post_title_texts = []\n",
    "bedroom_counts = []\n",
    "sqfts = []\n",
    "post_links = []\n",
    "post_prices = []\n",
    "\n",
    "for page in pages:\n",
    "    \n",
    "    #get request\n",
    "    response = get(\"https://chicago.craigslist.org/search/chc/apa?\" \n",
    "                   + \"s=\" #the parameter for defining the page number \n",
    "                   + str(page) #the page number in the pages array from earlier\n",
    "                   + \"&hasPic=1\"\n",
    "                   + \"&availabilityMode=0\")\n",
    "\n",
    "    sleep(randint(1,5))\n",
    "     \n",
    "    #throw warning for status codes that are not 200\n",
    "    if response.status_code != 200:\n",
    "        warn('Request: {}; Status code: {}'.format(requests, response.status_code))\n",
    "        \n",
    "    #define the html text\n",
    "    page_html = BeautifulSoup(response.text, 'html.parser')\n",
    "    \n",
    "    #define the posts\n",
    "    posts = html_soup.find_all('li', class_= 'result-row')\n",
    "        \n",
    "    #extract data item-wise\n",
    "    for post in posts:\n",
    "\n",
    "        if post.find('span', class_ = 'result-hood') is not None:\n",
    "\n",
    "            #posting date\n",
    "            #grab the datetime element 0 for date and 1 for time\n",
    "            post_datetime = post.find('time', class_= 'result-date')['datetime']\n",
    "            post_timing.append(post_datetime)\n",
    "\n",
    "            #neighborhoods\n",
    "            post_hood = post.find('span', class_= 'result-hood').text\n",
    "            post_hoods.append(post_hood)\n",
    "\n",
    "            #title text\n",
    "            post_title = post.find('a', class_='result-title hdrlnk')\n",
    "            post_title_text = post_title.text\n",
    "            post_title_texts.append(post_title_text)\n",
    "\n",
    "            #post link\n",
    "            post_link = post_title['href']\n",
    "            post_links.append(post_link)\n",
    "            \n",
    "            #removes the \\n whitespace from each side, removes the currency symbol, the comma \n",
    "            #and turns it into an int\n",
    "            post_price = int(post.a.text.strip().replace(\"$\", \"\").replace(\",\",\"\"))\n",
    "            #post_price = int(post.a.text.strip().replace(',', '')\n",
    "            post_prices.append(post_price)\n",
    "                        \n",
    "            if post.find('span', class_ = 'housing') is not None:\n",
    "                \n",
    "                #if the first element is accidentally square footage\n",
    "                if 'ft2' in post.find('span', class_ = 'housing').text.split()[0]:\n",
    "                    \n",
    "                    #make bedroom nan\n",
    "                    bedroom_count = np.nan\n",
    "                    bedroom_counts.append(bedroom_count)\n",
    "                    \n",
    "                    #make sqft the first element\n",
    "                    sqft = int(post.find('span', class_ = 'housing').text.split()[0][:-3])\n",
    "                    sqfts.append(sqft)\n",
    "                    \n",
    "                #if the length of the housing details element is more than 2\n",
    "                elif len(post.find('span', class_ = 'housing').text.split()) > 2:\n",
    "                    \n",
    "                    #therefore element 0 will be bedroom count\n",
    "                    bedroom_count = post.find('span', class_ = 'housing').text.replace(\"br\", \"\").split()[0]\n",
    "                    bedroom_counts.append(bedroom_count)\n",
    "                    \n",
    "                    #and sqft will be number 3, so set these here and append\n",
    "                    sqft = int(post.find('span', class_ = 'housing').text.split()[2][:-3])\n",
    "                    sqfts.append(sqft)\n",
    "                    \n",
    "                #if there is num bedrooms but no sqft\n",
    "                elif len(post.find('span', class_ = 'housing').text.split()) == 2:\n",
    "                    \n",
    "                    #therefore element 0 will be bedroom count\n",
    "                    bedroom_count = post.find('span', class_ = 'housing').text.replace(\"br\", \"\").split()[0]\n",
    "                    bedroom_counts.append(bedroom_count)\n",
    "                    \n",
    "                    #and sqft will be number 3, so set these here and append\n",
    "                    sqft = np.nan\n",
    "                    sqfts.append(sqft)                    \n",
    "                \n",
    "                else:\n",
    "                    bedroom_count = np.nan\n",
    "                    bedroom_counts.append(bedroom_count)\n",
    "                \n",
    "                    sqft = np.nan\n",
    "                    sqfts.append(sqft)\n",
    "                \n",
    "            #if none of those conditions catch, make bedroom nan, this won't be needed    \n",
    "            else:\n",
    "                bedroom_count = np.nan\n",
    "                bedroom_counts.append(bedroom_count)\n",
    "                \n",
    "                sqft = np.nan\n",
    "                sqfts.append(sqft)\n",
    "            #    bedroom_counts.append(bedroom_count)\n",
    "                \n",
    "            #    sqft = np.nan\n",
    "            #    sqfts.append(sqft)\n",
    "                \n",
    "    iterations += 1\n",
    "    print(\"Page \" + str(iterations) + \" scraped successfully!\")\n",
    "\n",
    "print(\"\\n\")\n",
    "\n",
    "print(\"Scrape complete!\")"
   ]
  },
  {
   "cell_type": "code",
   "execution_count": 71,
   "metadata": {
    "colab": {
     "base_uri": "https://localhost:8080/",
     "height": 754
    },
    "colab_type": "code",
    "id": "Qhfokzt7XlzC",
    "outputId": "e418b495-e965-4c4b-e0f9-02892661535a"
   },
   "outputs": [
    {
     "name": "stdout",
     "output_type": "stream",
     "text": [
      "<class 'pandas.core.frame.DataFrame'>\n",
      "RangeIndex: 2990 entries, 0 to 2989\n",
      "Data columns (total 7 columns):\n",
      " #   Column        Non-Null Count  Dtype  \n",
      "---  ------        --------------  -----  \n",
      " 0   Posted        2990 non-null   object \n",
      " 1   Neighborhood  2990 non-null   object \n",
      " 2   Post_Title    2990 non-null   object \n",
      " 3   Num_Bedrooms  2106 non-null   object \n",
      " 4   Sqft          936 non-null    float64\n",
      " 5   URL           2990 non-null   object \n",
      " 6   Price         2990 non-null   int64  \n",
      "dtypes: float64(1), int64(1), object(5)\n",
      "memory usage: 163.6+ KB\n",
      "None\n"
     ]
    },
    {
     "data": {
      "text/html": [
       "<div>\n",
       "<style scoped>\n",
       "    .dataframe tbody tr th:only-of-type {\n",
       "        vertical-align: middle;\n",
       "    }\n",
       "\n",
       "    .dataframe tbody tr th {\n",
       "        vertical-align: top;\n",
       "    }\n",
       "\n",
       "    .dataframe thead th {\n",
       "        text-align: right;\n",
       "    }\n",
       "</style>\n",
       "<table border=\"1\" class=\"dataframe\">\n",
       "  <thead>\n",
       "    <tr style=\"text-align: right;\">\n",
       "      <th></th>\n",
       "      <th>Posted</th>\n",
       "      <th>Neighborhood</th>\n",
       "      <th>Post_Title</th>\n",
       "      <th>Num_Bedrooms</th>\n",
       "      <th>Sqft</th>\n",
       "      <th>URL</th>\n",
       "      <th>Price</th>\n",
       "    </tr>\n",
       "  </thead>\n",
       "  <tbody>\n",
       "    <tr>\n",
       "      <th>0</th>\n",
       "      <td>2020-12-02 12:56</td>\n",
       "      <td>(1834 W. Byron St. Chicago IL.)</td>\n",
       "      <td>Awesome 1 Bedroom Loft on quaint Byron street!</td>\n",
       "      <td>1</td>\n",
       "      <td>NaN</td>\n",
       "      <td>https://chicago.craigslist.org/chc/apa/d/chica...</td>\n",
       "      <td>1100</td>\n",
       "    </tr>\n",
       "    <tr>\n",
       "      <th>1</th>\n",
       "      <td>2020-12-02 12:56</td>\n",
       "      <td>(Chicago)</td>\n",
       "      <td>Roscoe Village - Large 1 Bed / 1 Bath / Den</td>\n",
       "      <td>1</td>\n",
       "      <td>1000.0</td>\n",
       "      <td>https://chicago.craigslist.org/chc/apa/d/chica...</td>\n",
       "      <td>1775</td>\n",
       "    </tr>\n",
       "    <tr>\n",
       "      <th>2</th>\n",
       "      <td>2020-12-02 12:52</td>\n",
       "      <td>(Kenwood/Hyde Park)</td>\n",
       "      <td>4746 S Greenwood Ave, Unit 3E</td>\n",
       "      <td>2</td>\n",
       "      <td>860.0</td>\n",
       "      <td>https://chicago.craigslist.org/chc/apa/d/chica...</td>\n",
       "      <td>1595</td>\n",
       "    </tr>\n",
       "    <tr>\n",
       "      <th>3</th>\n",
       "      <td>2020-12-02 12:47</td>\n",
       "      <td>(Logan Square)</td>\n",
       "      <td>Logan Square 1 Bed Close 2 SQ! HWF|Cats Ok|1 M...</td>\n",
       "      <td>1</td>\n",
       "      <td>NaN</td>\n",
       "      <td>https://chicago.craigslist.org/chc/apa/d/chica...</td>\n",
       "      <td>1095</td>\n",
       "    </tr>\n",
       "    <tr>\n",
       "      <th>4</th>\n",
       "      <td>2020-12-02 12:46</td>\n",
       "      <td>(logan square)</td>\n",
       "      <td>Updated Logan Square 3 Bed w/HWF|DW|Pets Ok|De...</td>\n",
       "      <td>3</td>\n",
       "      <td>1034.0</td>\n",
       "      <td>https://chicago.craigslist.org/chc/apa/d/chica...</td>\n",
       "      <td>1695</td>\n",
       "    </tr>\n",
       "    <tr>\n",
       "      <th>5</th>\n",
       "      <td>2020-12-02 12:44</td>\n",
       "      <td>(logan square)</td>\n",
       "      <td>Logan Square 2 Bed w/HWF|Balcony|Pets Ok|One M...</td>\n",
       "      <td>2</td>\n",
       "      <td>940.0</td>\n",
       "      <td>https://chicago.craigslist.org/chc/apa/d/chica...</td>\n",
       "      <td>1495</td>\n",
       "    </tr>\n",
       "    <tr>\n",
       "      <th>6</th>\n",
       "      <td>2020-12-02 12:44</td>\n",
       "      <td>(1061 W. Rosemont)</td>\n",
       "      <td>EDGEWATER! LOYOLA 1 BEDROOM ALL UTILITIES INCL...</td>\n",
       "      <td>1</td>\n",
       "      <td>NaN</td>\n",
       "      <td>https://chicago.craigslist.org/chc/apa/d/chica...</td>\n",
       "      <td>975</td>\n",
       "    </tr>\n",
       "    <tr>\n",
       "      <th>7</th>\n",
       "      <td>2020-12-02 12:42</td>\n",
       "      <td>(Logan Square)</td>\n",
       "      <td>HUGE Logan 1 Bed w/HWF|Dining Room|Pets Ok|1 M...</td>\n",
       "      <td>1</td>\n",
       "      <td>910.0</td>\n",
       "      <td>https://chicago.craigslist.org/chc/apa/d/chica...</td>\n",
       "      <td>1495</td>\n",
       "    </tr>\n",
       "    <tr>\n",
       "      <th>8</th>\n",
       "      <td>2020-12-02 12:42</td>\n",
       "      <td>(1061 W. Rosemont)</td>\n",
       "      <td>EDGEWATER! LOYOLA STUDIO ALL UTILITIES INCLUDE...</td>\n",
       "      <td>NaN</td>\n",
       "      <td>NaN</td>\n",
       "      <td>https://chicago.craigslist.org/chc/apa/d/chica...</td>\n",
       "      <td>675</td>\n",
       "    </tr>\n",
       "    <tr>\n",
       "      <th>9</th>\n",
       "      <td>2020-12-02 12:40</td>\n",
       "      <td>(logan square)</td>\n",
       "      <td>Big Pet Friendly Logan 3 Bed w/EZ Parking|HWF|...</td>\n",
       "      <td>3</td>\n",
       "      <td>1200.0</td>\n",
       "      <td>https://chicago.craigslist.org/chc/apa/d/chica...</td>\n",
       "      <td>1595</td>\n",
       "    </tr>\n",
       "  </tbody>\n",
       "</table>\n",
       "</div>"
      ],
      "text/plain": [
       "             Posted                      Neighborhood  \\\n",
       "0  2020-12-02 12:56   (1834 W. Byron St. Chicago IL.)   \n",
       "1  2020-12-02 12:56                         (Chicago)   \n",
       "2  2020-12-02 12:52               (Kenwood/Hyde Park)   \n",
       "3  2020-12-02 12:47                    (Logan Square)   \n",
       "4  2020-12-02 12:46                    (logan square)   \n",
       "5  2020-12-02 12:44                    (logan square)   \n",
       "6  2020-12-02 12:44                (1061 W. Rosemont)   \n",
       "7  2020-12-02 12:42                    (Logan Square)   \n",
       "8  2020-12-02 12:42                (1061 W. Rosemont)   \n",
       "9  2020-12-02 12:40                    (logan square)   \n",
       "\n",
       "                                          Post_Title Num_Bedrooms    Sqft  \\\n",
       "0     Awesome 1 Bedroom Loft on quaint Byron street!            1     NaN   \n",
       "1        Roscoe Village - Large 1 Bed / 1 Bath / Den            1  1000.0   \n",
       "2                      4746 S Greenwood Ave, Unit 3E            2   860.0   \n",
       "3  Logan Square 1 Bed Close 2 SQ! HWF|Cats Ok|1 M...            1     NaN   \n",
       "4  Updated Logan Square 3 Bed w/HWF|DW|Pets Ok|De...            3  1034.0   \n",
       "5  Logan Square 2 Bed w/HWF|Balcony|Pets Ok|One M...            2   940.0   \n",
       "6  EDGEWATER! LOYOLA 1 BEDROOM ALL UTILITIES INCL...            1     NaN   \n",
       "7  HUGE Logan 1 Bed w/HWF|Dining Room|Pets Ok|1 M...            1   910.0   \n",
       "8  EDGEWATER! LOYOLA STUDIO ALL UTILITIES INCLUDE...          NaN     NaN   \n",
       "9  Big Pet Friendly Logan 3 Bed w/EZ Parking|HWF|...            3  1200.0   \n",
       "\n",
       "                                                 URL  Price  \n",
       "0  https://chicago.craigslist.org/chc/apa/d/chica...   1100  \n",
       "1  https://chicago.craigslist.org/chc/apa/d/chica...   1775  \n",
       "2  https://chicago.craigslist.org/chc/apa/d/chica...   1595  \n",
       "3  https://chicago.craigslist.org/chc/apa/d/chica...   1095  \n",
       "4  https://chicago.craigslist.org/chc/apa/d/chica...   1695  \n",
       "5  https://chicago.craigslist.org/chc/apa/d/chica...   1495  \n",
       "6  https://chicago.craigslist.org/chc/apa/d/chica...    975  \n",
       "7  https://chicago.craigslist.org/chc/apa/d/chica...   1495  \n",
       "8  https://chicago.craigslist.org/chc/apa/d/chica...    675  \n",
       "9  https://chicago.craigslist.org/chc/apa/d/chica...   1595  "
      ]
     },
     "execution_count": 71,
     "metadata": {},
     "output_type": "execute_result"
    }
   ],
   "source": [
    "import pandas as pd\n",
    "\n",
    "ch_apts = pd.DataFrame({'Posted': post_timing,\n",
    "                       'Neighborhood': post_hoods,\n",
    "                       'Post_Title': post_title_texts,\n",
    "                       'Num_Bedrooms': bedroom_counts,\n",
    "                        'Sqft': sqfts,\n",
    "                        'URL': post_links,\n",
    "                       'Price': post_prices})\n",
    "print(ch_apts.info())\n",
    "ch_apts.head(10)"
   ]
  },
  {
   "cell_type": "code",
   "execution_count": 0,
   "metadata": {
    "colab": {},
    "colab_type": "code",
    "id": "TE8SXNrUXl5u"
   },
   "outputs": [],
   "source": [
    "########################DATA CLEANING\n"
   ]
  },
  {
   "cell_type": "code",
   "execution_count": 83,
   "metadata": {
    "colab": {},
    "colab_type": "code",
    "id": "HTnHEt61Xl82"
   },
   "outputs": [
    {
     "data": {
      "text/plain": [
       "115"
      ]
     },
     "execution_count": 83,
     "metadata": {},
     "output_type": "execute_result"
    }
   ],
   "source": [
    "#Deleting duplicate postings bc people spam Craigslist with fake postings\n",
    "# the duplicate postings are most likely spam\n",
    "#Displays uniqe posts\n",
    "ch_apts = ch_apts.drop_duplicates(subset='URL')\n",
    "len(ch_apts.drop_duplicates(subset='URL'))\n",
    "\n",
    "#converts the # of bedrooms to a float (since np.nan is a float too)\n",
    "ch_apts['Num_Bedrooms'] = ch_apts['Num_Bedrooms'].apply(lambda x: float(x))\n",
    "\n",
    "#convert datetime string into datetime object to work with it\n",
    "from datetime import datetime\n",
    "ch_apts['Posted'] = pd.to_datetime(ch_apts['Posted'])\n",
    "\n",
    "#Checking neighborhoods that there are with ch_apts['neighborhood'].unique()\n",
    "#Seeing that allowed me to know what I needed to deal with in terms of cleaning those\n",
    "\n",
    "#remove the parenthesis from the left and right of the neighborhoods\n",
    "ch_apts['Neighborhood'] = ch_apts['Neighborhood'].map(lambda x: x.lstrip('(').rstrip(')'))\n",
    "\n",
    "ch_apts['Neighborhood'] = ch_apts['Neighborhood'].apply(lambda x: re.sub(r'[()]+', '', x))\n",
    "\n",
    "#titlecase them\n",
    "ch_apts['Neighborhood'] = ch_apts['Neighborhood'].str.title()\n",
    "\n",
    "#just take the first name of the neighborhood list, splitting on the '/' delimiter\n",
    "ch_apts['Neighborhood'] = ch_apts['Neighborhood'].apply(lambda x: x.split('/')[0])\n",
    "\n",
    "#fix one-offs that\n",
    "########################\n",
    "#####################\n",
    "\n",
    "#UPDATE\n",
    "###################\n",
    "########################\n",
    "#remove whitespaces\n",
    "ch_apts['Neighborhood'] = ch_apts['Neighborhood'].apply(lambda x: x.strip())"
   ]
  },
  {
   "cell_type": "code",
   "execution_count": 84,
   "metadata": {
    "colab": {
     "base_uri": "https://localhost:8080/",
     "height": 97
    },
    "colab_type": "code",
    "id": "XgR7WxPvXmAG",
    "outputId": "b83d69e4-30a2-4f76-f20d-5e3d04716d1e"
   },
   "outputs": [
    {
     "data": {
      "text/html": [
       "<div>\n",
       "<style scoped>\n",
       "    .dataframe tbody tr th:only-of-type {\n",
       "        vertical-align: middle;\n",
       "    }\n",
       "\n",
       "    .dataframe tbody tr th {\n",
       "        vertical-align: top;\n",
       "    }\n",
       "\n",
       "    .dataframe thead th {\n",
       "        text-align: right;\n",
       "    }\n",
       "</style>\n",
       "<table border=\"1\" class=\"dataframe\">\n",
       "  <thead>\n",
       "    <tr style=\"text-align: right;\">\n",
       "      <th></th>\n",
       "      <th>Posted</th>\n",
       "      <th>Neighborhood</th>\n",
       "      <th>Post_Title</th>\n",
       "      <th>Num_Bedrooms</th>\n",
       "      <th>Sqft</th>\n",
       "      <th>URL</th>\n",
       "      <th>Price</th>\n",
       "    </tr>\n",
       "  </thead>\n",
       "  <tbody>\n",
       "    <tr>\n",
       "      <th>0</th>\n",
       "      <td>2020-12-02 12:56:00</td>\n",
       "      <td>1834 W. Byron St. Chicago Il.</td>\n",
       "      <td>Awesome 1 Bedroom Loft on quaint Byron street!</td>\n",
       "      <td>1.0</td>\n",
       "      <td>NaN</td>\n",
       "      <td>https://chicago.craigslist.org/chc/apa/d/chica...</td>\n",
       "      <td>1100</td>\n",
       "    </tr>\n",
       "  </tbody>\n",
       "</table>\n",
       "</div>"
      ],
      "text/plain": [
       "               Posted                   Neighborhood  \\\n",
       "0 2020-12-02 12:56:00  1834 W. Byron St. Chicago Il.   \n",
       "\n",
       "                                       Post_Title  Num_Bedrooms  Sqft  \\\n",
       "0  Awesome 1 Bedroom Loft on quaint Byron street!           1.0   NaN   \n",
       "\n",
       "                                                 URL  Price  \n",
       "0  https://chicago.craigslist.org/chc/apa/d/chica...   1100  "
      ]
     },
     "execution_count": 84,
     "metadata": {},
     "output_type": "execute_result"
    }
   ],
   "source": [
    "### EXPLORATORY DATA ANALYSIS\n",
    "#Checking first record\n",
    "ch_apts.head(1)"
   ]
  },
  {
   "cell_type": "code",
   "execution_count": 120,
   "metadata": {},
   "outputs": [
    {
     "data": {
      "text/plain": [
       "array(['Roscoe Village', 'Kenwood', 'Logan Square',\n",
       "       'Lincoln Park, Chicago', 'South Loop', 'Lincoln Square',\n",
       "       'Wicker Park', 'Chicago', 'River North', 'South Shore',\n",
       "       '3144 W 39Th Pl, Chicago Il.', 'West Town', 'Grand Crossing',\n",
       "       'Portage Park', 'Washington Park', 'Lakeview', 'West Loop',\n",
       "       'Albany Park', 'Adams Near Wells', 'Ravenswood',\n",
       "       'Gold Coast - Lincoln Park - Old Town', 'Bucktown', 'Edgewater',\n",
       "       'Rogers Park', 'Streeterville', 'Chicago - Uptown', 'Uptown',\n",
       "       'Avondale', 'Lake Shore Dr-Gold Coast', 'Auburn Gresham',\n",
       "       'Downtown South Loop', 'Wrigleyville', 'East Rogers Park',\n",
       "       'Andersonville', 'Pilsen', 'West Wicker Park', 'Lincoln Park',\n",
       "       'Hyde Park'], dtype=object)"
      ]
     },
     "execution_count": 120,
     "metadata": {},
     "output_type": "execute_result"
    },
    {
     "data": {
      "text/plain": [
       "array(['Roscoe Village', 'Kenwood', 'Logan Square',\n",
       "       'Lincoln Park, Chicago', 'South Loop', 'Lincoln Square',\n",
       "       'Wicker Park', 'Chicago', 'River North', 'South Shore',\n",
       "       'West Town', 'Grand Crossing', 'Portage Park', 'Washington Park',\n",
       "       'Lakeview', 'West Loop', 'Albany Park', 'Adams Near Wells',\n",
       "       'Ravenswood', 'Gold Coast - Lincoln Park - Old Town', 'Bucktown',\n",
       "       'Edgewater', 'Rogers Park', 'Streeterville', 'Chicago - Uptown',\n",
       "       'Uptown', 'Avondale', 'Lake Shore Dr-Gold Coast', 'Auburn Gresham',\n",
       "       'Downtown South Loop', 'Wrigleyville', 'East Rogers Park',\n",
       "       'Andersonville', 'Pilsen', 'West Wicker Park', 'Lincoln Park',\n",
       "       'Hyde Park'], dtype=object)"
      ]
     },
     "execution_count": 120,
     "metadata": {},
     "output_type": "execute_result"
    }
   ],
   "source": [
    "#Checking unique neighborhood names\n",
    "ch_apts.Neighborhood.unique()\n",
    "\n",
    "#removing listings that have addresses as listings\n",
    "ch_apts = ch_apts[(ch_apts.Neighborhood != '1834 W. Byron St. Chicago Il.')]\n",
    "ch_apts = ch_apts[(ch_apts.Neighborhood != '151 N Michigan Ave')]\n",
    "ch_apts = ch_apts[(ch_apts.Neighborhood != '1061 W. Rosemont')]\n",
    "ch_apts = ch_apts[(ch_apts.Neighborhood != '2837 N Natoma #302')]\n",
    "ch_apts = ch_apts[(ch_apts.Neighborhood != '730 N Milwaukee Ave')]\n",
    "ch_apts = ch_apts[(ch_apts.Neighborhood != '3144 W 39Th Pl')]\n",
    "ch_apts = ch_apts[(ch_apts.Neighborhood != '1550 S Hamlin  North Lawndale')]\n",
    "ch_apts = ch_apts[(ch_apts.Neighborhood != '8901 S Loomis - Brainerd Senior Center')]\n",
    "ch_apts = ch_apts[(ch_apts.Neighborhood != '737 E 69Th')]\n",
    "ch_apts = ch_apts[(ch_apts.Neighborhood != '737 E 69Th')]\n",
    "ch_apts = ch_apts[(ch_apts.Neighborhood != '3144 W 39Th Pl, Chicago Il.')]\n",
    "\n",
    "\n",
    "\n",
    "\n",
    "\n",
    "\n",
    "#(ch_apts.Neighborhood != 10)]\n",
    "\n",
    "ch_apts.Neighborhood.unique()\n"
   ]
  },
  {
   "cell_type": "code",
   "execution_count": 121,
   "metadata": {
    "colab": {
     "base_uri": "https://localhost:8080/",
     "height": 1000
    },
    "colab_type": "code",
    "id": "xm8yaMzelE_J",
    "outputId": "44a8000c-67df-4648-d5a2-2572a78994f0"
   },
   "outputs": [
    {
     "data": {
      "text/html": [
       "<div>\n",
       "<style scoped>\n",
       "    .dataframe tbody tr th:only-of-type {\n",
       "        vertical-align: middle;\n",
       "    }\n",
       "\n",
       "    .dataframe tbody tr th {\n",
       "        vertical-align: top;\n",
       "    }\n",
       "\n",
       "    .dataframe thead th {\n",
       "        text-align: right;\n",
       "    }\n",
       "</style>\n",
       "<table border=\"1\" class=\"dataframe\">\n",
       "  <thead>\n",
       "    <tr style=\"text-align: right;\">\n",
       "      <th></th>\n",
       "      <th>Posted</th>\n",
       "      <th>Neighborhood</th>\n",
       "      <th>Post_Title</th>\n",
       "      <th>Num_Bedrooms</th>\n",
       "      <th>Sqft</th>\n",
       "      <th>URL</th>\n",
       "      <th>Price</th>\n",
       "    </tr>\n",
       "  </thead>\n",
       "  <tbody>\n",
       "    <tr>\n",
       "      <th>1</th>\n",
       "      <td>2020-12-02 12:56:00</td>\n",
       "      <td>Roscoe Village</td>\n",
       "      <td>Roscoe Village - Large 1 Bed / 1 Bath / Den</td>\n",
       "      <td>1.0</td>\n",
       "      <td>1000.0</td>\n",
       "      <td>https://chicago.craigslist.org/chc/apa/d/chica...</td>\n",
       "      <td>1775</td>\n",
       "    </tr>\n",
       "    <tr>\n",
       "      <th>2</th>\n",
       "      <td>2020-12-02 12:52:00</td>\n",
       "      <td>Kenwood</td>\n",
       "      <td>4746 S Greenwood Ave, Unit 3E</td>\n",
       "      <td>2.0</td>\n",
       "      <td>860.0</td>\n",
       "      <td>https://chicago.craigslist.org/chc/apa/d/chica...</td>\n",
       "      <td>1595</td>\n",
       "    </tr>\n",
       "    <tr>\n",
       "      <th>3</th>\n",
       "      <td>2020-12-02 12:47:00</td>\n",
       "      <td>Logan Square</td>\n",
       "      <td>Logan Square 1 Bed Close 2 SQ! HWF|Cats Ok|1 M...</td>\n",
       "      <td>1.0</td>\n",
       "      <td>NaN</td>\n",
       "      <td>https://chicago.craigslist.org/chc/apa/d/chica...</td>\n",
       "      <td>1095</td>\n",
       "    </tr>\n",
       "    <tr>\n",
       "      <th>4</th>\n",
       "      <td>2020-12-02 12:46:00</td>\n",
       "      <td>Logan Square</td>\n",
       "      <td>Updated Logan Square 3 Bed w/HWF|DW|Pets Ok|De...</td>\n",
       "      <td>3.0</td>\n",
       "      <td>1034.0</td>\n",
       "      <td>https://chicago.craigslist.org/chc/apa/d/chica...</td>\n",
       "      <td>1695</td>\n",
       "    </tr>\n",
       "    <tr>\n",
       "      <th>5</th>\n",
       "      <td>2020-12-02 12:44:00</td>\n",
       "      <td>Logan Square</td>\n",
       "      <td>Logan Square 2 Bed w/HWF|Balcony|Pets Ok|One M...</td>\n",
       "      <td>2.0</td>\n",
       "      <td>940.0</td>\n",
       "      <td>https://chicago.craigslist.org/chc/apa/d/chica...</td>\n",
       "      <td>1495</td>\n",
       "    </tr>\n",
       "    <tr>\n",
       "      <th>...</th>\n",
       "      <td>...</td>\n",
       "      <td>...</td>\n",
       "      <td>...</td>\n",
       "      <td>...</td>\n",
       "      <td>...</td>\n",
       "      <td>...</td>\n",
       "      <td>...</td>\n",
       "    </tr>\n",
       "    <tr>\n",
       "      <th>110</th>\n",
       "      <td>2020-12-02 08:27:00</td>\n",
       "      <td>Rogers Park</td>\n",
       "      <td>Heat, water and gas included! Walk to Red Line...</td>\n",
       "      <td>1.0</td>\n",
       "      <td>NaN</td>\n",
       "      <td>https://chicago.craigslist.org/chc/apa/d/chica...</td>\n",
       "      <td>925</td>\n",
       "    </tr>\n",
       "    <tr>\n",
       "      <th>111</th>\n",
       "      <td>2020-12-02 08:26:00</td>\n",
       "      <td>Lincoln Park</td>\n",
       "      <td>Amazing 1 Bed in Lincoln Park-bldg has 24hr do...</td>\n",
       "      <td>1.0</td>\n",
       "      <td>NaN</td>\n",
       "      <td>https://chicago.craigslist.org/chc/apa/d/chica...</td>\n",
       "      <td>1400</td>\n",
       "    </tr>\n",
       "    <tr>\n",
       "      <th>112</th>\n",
       "      <td>2020-12-02 08:26:00</td>\n",
       "      <td>Hyde Park</td>\n",
       "      <td>1000 sq ft Condominium Studio For Rent!!</td>\n",
       "      <td>1.0</td>\n",
       "      <td>1000.0</td>\n",
       "      <td>https://chicago.craigslist.org/chc/apa/d/chica...</td>\n",
       "      <td>1000</td>\n",
       "    </tr>\n",
       "    <tr>\n",
       "      <th>113</th>\n",
       "      <td>2020-12-02 08:25:00</td>\n",
       "      <td>Lincoln Park</td>\n",
       "      <td>Studio in Lincoln Park w spacious floor plans ...</td>\n",
       "      <td>NaN</td>\n",
       "      <td>NaN</td>\n",
       "      <td>https://chicago.craigslist.org/chc/apa/d/chica...</td>\n",
       "      <td>1100</td>\n",
       "    </tr>\n",
       "    <tr>\n",
       "      <th>114</th>\n",
       "      <td>2020-12-02 08:25:00</td>\n",
       "      <td>West Loop</td>\n",
       "      <td>OVERSIZED 1 BED w/ PRIVATE BALCONY, 2 FIREPLAC...</td>\n",
       "      <td>1.0</td>\n",
       "      <td>NaN</td>\n",
       "      <td>https://chicago.craigslist.org/chc/apa/d/chica...</td>\n",
       "      <td>2650</td>\n",
       "    </tr>\n",
       "  </tbody>\n",
       "</table>\n",
       "<p>101 rows × 7 columns</p>\n",
       "</div>"
      ],
      "text/plain": [
       "                 Posted    Neighborhood  \\\n",
       "1   2020-12-02 12:56:00  Roscoe Village   \n",
       "2   2020-12-02 12:52:00         Kenwood   \n",
       "3   2020-12-02 12:47:00    Logan Square   \n",
       "4   2020-12-02 12:46:00    Logan Square   \n",
       "5   2020-12-02 12:44:00    Logan Square   \n",
       "..                  ...             ...   \n",
       "110 2020-12-02 08:27:00     Rogers Park   \n",
       "111 2020-12-02 08:26:00    Lincoln Park   \n",
       "112 2020-12-02 08:26:00       Hyde Park   \n",
       "113 2020-12-02 08:25:00    Lincoln Park   \n",
       "114 2020-12-02 08:25:00       West Loop   \n",
       "\n",
       "                                            Post_Title  Num_Bedrooms    Sqft  \\\n",
       "1          Roscoe Village - Large 1 Bed / 1 Bath / Den           1.0  1000.0   \n",
       "2                        4746 S Greenwood Ave, Unit 3E           2.0   860.0   \n",
       "3    Logan Square 1 Bed Close 2 SQ! HWF|Cats Ok|1 M...           1.0     NaN   \n",
       "4    Updated Logan Square 3 Bed w/HWF|DW|Pets Ok|De...           3.0  1034.0   \n",
       "5    Logan Square 2 Bed w/HWF|Balcony|Pets Ok|One M...           2.0   940.0   \n",
       "..                                                 ...           ...     ...   \n",
       "110  Heat, water and gas included! Walk to Red Line...           1.0     NaN   \n",
       "111  Amazing 1 Bed in Lincoln Park-bldg has 24hr do...           1.0     NaN   \n",
       "112           1000 sq ft Condominium Studio For Rent!!           1.0  1000.0   \n",
       "113  Studio in Lincoln Park w spacious floor plans ...           NaN     NaN   \n",
       "114  OVERSIZED 1 BED w/ PRIVATE BALCONY, 2 FIREPLAC...           1.0     NaN   \n",
       "\n",
       "                                                   URL  Price  \n",
       "1    https://chicago.craigslist.org/chc/apa/d/chica...   1775  \n",
       "2    https://chicago.craigslist.org/chc/apa/d/chica...   1595  \n",
       "3    https://chicago.craigslist.org/chc/apa/d/chica...   1095  \n",
       "4    https://chicago.craigslist.org/chc/apa/d/chica...   1695  \n",
       "5    https://chicago.craigslist.org/chc/apa/d/chica...   1495  \n",
       "..                                                 ...    ...  \n",
       "110  https://chicago.craigslist.org/chc/apa/d/chica...    925  \n",
       "111  https://chicago.craigslist.org/chc/apa/d/chica...   1400  \n",
       "112  https://chicago.craigslist.org/chc/apa/d/chica...   1000  \n",
       "113  https://chicago.craigslist.org/chc/apa/d/chica...   1100  \n",
       "114  https://chicago.craigslist.org/chc/apa/d/chica...   2650  \n",
       "\n",
       "[101 rows x 7 columns]"
      ]
     },
     "execution_count": 121,
     "metadata": {},
     "output_type": "execute_result"
    }
   ],
   "source": [
    "#Correcting neighborhood names\n",
    "for Post_Title in ch_apts:\n",
    "  ch_apts.loc[ch_apts['Post_Title'].str.contains('Andersonville'), 'Neighborhood'] = 'Andersonville'\n",
    "  ch_apts.loc[ch_apts['Post_Title'].str.contains('andersonville'), 'Neighborhood'] = 'Andersonville'\n",
    "  ch_apts.loc[ch_apts['Post_Title'].str.contains('Archer Heights'), 'Neighborhood'] = 'Archer Heights'\n",
    "  ch_apts.loc[ch_apts['Post_Title'].str.contains('archer Heights'), 'Neighborhood'] = 'Archer Heights'\n",
    "  ch_apts.loc[ch_apts['Post_Title'].str.contains('Ashburn'), 'Neighborhood'] = 'Ashburn'\n",
    "  ch_apts.loc[ch_apts['Post_Title'].str.contains('ashburn'), 'Neighborhood'] = 'Ashburn'\n",
    "  ch_apts.loc[ch_apts['Post_Title'].str.contains('Austin'), 'Neighborhood'] = 'Austin'\n",
    "  ch_apts.loc[ch_apts['Post_Title'].str.contains('austin'), 'Neighborhood'] = 'Austin'\n",
    "  ch_apts.loc[ch_apts['Post_Title'].str.contains('avon'), 'Neighborhood'] = 'Avondale'\n",
    "  ch_apts.loc[ch_apts['Post_Title'].str.contains('Avon'), 'Neighborhood'] = 'Avondale'  \n",
    "  ch_apts.loc[ch_apts['Post_Title'].str.contains('Albany'), 'Neighborhood'] = 'Albany Park'\n",
    "  ch_apts.loc[ch_apts['Post_Title'].str.contains('albany'), 'Neighborhood'] = 'Albany Park'\n",
    "  ch_apts.loc[ch_apts['Post_Title'].str.contains('Beverly'), 'Neighborhood'] = 'Beverly'\n",
    "  ch_apts.loc[ch_apts['Post_Title'].str.contains('beverly'), 'Neighborhood'] = 'Beverly'\n",
    "  ch_apts.loc[ch_apts['Post_Title'].str.contains('buck'), 'Neighborhood'] = 'Bucktown'\n",
    "  ch_apts.loc[ch_apts['Post_Title'].str.contains('Buck'), 'Neighborhood'] = 'Bucktown'\n",
    "  ch_apts.loc[ch_apts['Post_Title'].str.contains('Boys'), 'Neighborhood'] = 'Boystown'\n",
    "  ch_apts.loc[ch_apts['Post_Title'].str.contains('boys'), 'Neighborhood'] = 'Boystown'\n",
    "  ch_apts.loc[ch_apts['Post_Title'].str.contains('China'), 'Neighborhood'] = 'Chinatown'\n",
    "  ch_apts.loc[ch_apts['Post_Title'].str.contains('china'), 'Neighborhood'] = 'Chinatown'\n",
    "  ch_apts.loc[ch_apts['Post_Title'].str.contains('Depaul'), 'Neighborhood'] = 'Depaul'\n",
    "  ch_apts.loc[ch_apts['Post_Title'].str.contains('depaul'), 'Neighborhood'] = 'Depaul'\n",
    "  ch_apts.loc[ch_apts['Post_Title'].str.contains('Edison'), 'Neighborhood'] = 'Edison Park'\n",
    "  ch_apts.loc[ch_apts['Post_Title'].str.contains('edison'), 'Neighborhood'] = 'Edison Park'\n",
    "  ch_apts.loc[ch_apts['Post_Title'].str.contains('Edgewater'), 'Neighborhood'] = 'Edgewater'\n",
    "  ch_apts.loc[ch_apts['Post_Title'].str.contains('edgewater'), 'Neighborhood'] = 'Edgewater'\n",
    "  ch_apts.loc[ch_apts['Post_Title'].str.contains('Englewood'), 'Neighborhood'] = 'Englewood'\n",
    "  ch_apts.loc[ch_apts['Post_Title'].str.contains('englewood'), 'Neighborhood'] = 'Englewood'\n",
    "  ch_apts.loc[ch_apts['Post_Title'].str.contains('Galewood'), 'Neighborhood'] = 'Galewood'\n",
    "  ch_apts.loc[ch_apts['Post_Title'].str.contains('galewood'), 'Neighborhood'] = 'Galewood'\n",
    "  ch_apts.loc[ch_apts['Post_Title'].str.contains('Garfield Park'), 'Neighborhood'] = 'Garfield Park'\n",
    "  ch_apts.loc[ch_apts['Post_Title'].str.contains('garfield Park'), 'Neighborhood'] = 'Garfield Park'\n",
    "  ch_apts.loc[ch_apts['Post_Title'].str.contains('Gold Coast'), 'Neighborhood'] = 'Gold Coast'\n",
    "  ch_apts.loc[ch_apts['Post_Title'].str.contains('gold'), 'Neighborhood'] = 'Gold Coast'\n",
    "  ch_apts.loc[ch_apts['Post_Title'].str.contains('Gresham'), 'Neighborhood'] = 'Gresham'\n",
    "  ch_apts.loc[ch_apts['Post_Title'].str.contains('gresham'), 'Neighborhood'] = 'Gresham'\n",
    "  ch_apts.loc[ch_apts['Post_Title'].str.contains('Humb'), 'Neighborhood'] = 'Humboldt Park'\n",
    "  ch_apts.loc[ch_apts['Post_Title'].str.contains('humb'), 'Neighborhood'] = 'Humboldt Park'\n",
    "  ch_apts.loc[ch_apts['Post_Title'].str.contains('Hyde'), 'Neighborhood'] = 'Hyde Park'\n",
    "  ch_apts.loc[ch_apts['Post_Title'].str.contains('hyde'), 'Neighborhood'] = 'Hyde Park'\n",
    "  ch_apts.loc[ch_apts['Post_Title'].str.contains('Jefferson'), 'Neighborhood'] = 'Jefferson Park'\n",
    "  ch_apts.loc[ch_apts['Post_Title'].str.contains('jefferson'), 'Neighborhood'] = 'Jefferson Park'\n",
    "  ch_apts.loc[ch_apts['Post_Title'].str.contains('Kenwood'), 'Neighborhood'] = 'Kenwood'\n",
    "  ch_apts.loc[ch_apts['Post_Title'].str.contains('kenwood'), 'Neighborhood'] = 'Kenwood'\n",
    "  ch_apts.loc[ch_apts['Post_Title'].str.contains('Lakeview'), 'Neighborhood'] = 'Lakeview'\n",
    "  ch_apts.loc[ch_apts['Post_Title'].str.contains('lakeview'), 'Neighborhood'] = 'Lakeview'\n",
    "  ch_apts.loc[ch_apts['Post_Title'].str.contains('Little Village'), 'Neighborhood'] = 'Little Village'\n",
    "  ch_apts.loc[ch_apts['Post_Title'].str.contains('Little village'), 'Neighborhood'] = 'Little Village'\n",
    "  ch_apts.loc[ch_apts['Post_Title'].str.contains('little village'), 'Neighborhood'] = 'Little Village'\n",
    "  ch_apts.loc[ch_apts['Post_Title'].str.contains('lil village'), 'Neighborhood'] = 'Little Village'\n",
    "  ch_apts.loc[ch_apts['Post_Title'].str.contains('Lil village'), 'Neighborhood'] = 'Little Village'\n",
    "  ch_apts.loc[ch_apts['Post_Title'].str.contains('Lincoln Park'), 'Neighborhood'] = 'Lincoln Park'\n",
    "  ch_apts.loc[ch_apts['Post_Title'].str.contains('lincoln park'), 'Neighborhood'] = 'Lincoln Park'\n",
    "  ch_apts.loc[ch_apts['Post_Title'].str.contains('Lincoln Square'), 'Neighborhood'] = 'Lincoln Square'\n",
    "  ch_apts.loc[ch_apts['Post_Title'].str.contains('lincoln square'), 'Neighborhood'] = 'Lincoln Square'\n",
    "  ch_apts.loc[ch_apts['Post_Title'].str.contains('Logan'), 'Neighborhood'] = 'Logan Square'\n",
    "  ch_apts.loc[ch_apts['Post_Title'].str.contains('logan'), 'Neighborhood'] = 'Logan Square'\n",
    "  ch_apts.loc[ch_apts['Post_Title'].str.contains('Marquette Park'), 'Neighborhood'] = 'Marquette Park'\n",
    "  ch_apts.loc[ch_apts['Post_Title'].str.contains('marquette park'), 'Neighborhood'] = 'Marquette Park'\n",
    "  ch_apts.loc[ch_apts['Post_Title'].str.contains('Midway'), 'Neighborhood'] = 'Midway'\n",
    "  ch_apts.loc[ch_apts['Post_Title'].str.contains('midway'), 'Neighborhood'] = 'Midway'\n",
    "  ch_apts.loc[ch_apts['Post_Title'].str.contains('Mount Greenwood'), 'Neighborhood'] = 'Mount Greenwood'\n",
    "  ch_apts.loc[ch_apts['Post_Title'].str.contains('mount greenwood'), 'Neighborhood'] = 'Mount Greenwood'\n",
    "  ch_apts.loc[ch_apts['Post_Title'].str.contains('Norwood'), 'Neighborhood'] = 'Norwood Park'\n",
    "  ch_apts.loc[ch_apts['Post_Title'].str.contains('norwood'), 'Neighborhood'] = 'Norwood Park'\n",
    "  ch_apts.loc[ch_apts['Post_Title'].str.contains('Irving'), 'Neighborhood'] = 'Irving Park'\n",
    "  ch_apts.loc[ch_apts['Post_Title'].str.contains('irving'), 'Neighborhood'] = 'Irving Park'\n",
    "  ch_apts.loc[ch_apts['Post_Title'].str.contains('Old Town'), 'Neighborhood'] = 'Old Town'\n",
    "  ch_apts.loc[ch_apts['Post_Title'].str.contains('old town'), 'Neighborhood'] = 'Old Town'\n",
    "  ch_apts.loc[ch_apts['Post_Title'].str.contains('Pilsen'), 'Neighborhood'] = 'Pilsen'\n",
    "  ch_apts.loc[ch_apts['Post_Title'].str.contains('pilsen'), 'Neighborhood'] = 'Pilsen'\n",
    "  ch_apts.loc[ch_apts['Post_Title'].str.contains('Portage'), 'Neighborhood'] = 'Portage Park'\n",
    "  ch_apts.loc[ch_apts['Post_Title'].str.contains('portage'), 'Neighborhood'] = 'Portage Park'\n",
    "  ch_apts.loc[ch_apts['Post_Title'].str.contains('Pullman'), 'Neighborhood'] = 'Pullman'\n",
    "  ch_apts.loc[ch_apts['Post_Title'].str.contains('pullman'), 'Neighborhood'] = 'Pullman'\n",
    "  ch_apts.loc[ch_apts['Post_Title'].str.contains('Ravens'), 'Neighborhood'] = 'Ravenswood'\n",
    "  ch_apts.loc[ch_apts['Post_Title'].str.contains('ravens'), 'Neighborhood'] = 'Ravenswood'\n",
    "  ch_apts.loc[ch_apts['Post_Title'].str.contains('River North'), 'Neighborhood'] = 'River North'\n",
    "  ch_apts.loc[ch_apts['Post_Title'].str.contains('river north'), 'Neighborhood'] = 'River North'\n",
    "  ch_apts.loc[ch_apts['Post_Title'].str.contains('River West'), 'Neighborhood'] = 'River West'\n",
    "  ch_apts.loc[ch_apts['Post_Title'].str.contains('river west'), 'Neighborhood'] = 'River West'\n",
    "  ch_apts.loc[ch_apts['Post_Title'].str.contains('Rogers'), 'Neighborhood'] = 'Rogers Park'\n",
    "  ch_apts.loc[ch_apts['Post_Title'].str.contains('rogers'), 'Neighborhood'] = 'Rogers Park'\n",
    "  ch_apts.loc[ch_apts['Post_Title'].str.contains('rodgers'), 'Neighborhood'] = 'Rogers Park'\n",
    "  ch_apts.loc[ch_apts['Post_Title'].str.contains('Roscoe Village'), 'Neighborhood'] = 'Roscoe Village'\n",
    "  ch_apts.loc[ch_apts['Post_Title'].str.contains('roscoe village'), 'Neighborhood'] = 'Roscoe Village'\n",
    "  ch_apts.loc[ch_apts['Post_Title'].str.contains('Sauganash'), 'Neighborhood'] = 'Sauganash'\n",
    "  ch_apts.loc[ch_apts['Post_Title'].str.contains('sauganash'), 'Neighborhood'] = 'Sauganash'\n",
    "  ch_apts.loc[ch_apts['Post_Title'].str.contains('South Loop'), 'Neighborhood'] = 'South Loop'\n",
    "  ch_apts.loc[ch_apts['Post_Title'].str.contains('south loop'), 'Neighborhood'] = 'South Loop'\n",
    "  ch_apts.loc[ch_apts['Post_Title'].str.contains('South Shore'), 'Neighborhood'] = 'South Shore'\n",
    "  ch_apts.loc[ch_apts['Post_Title'].str.contains('south shore'), 'Neighborhood'] = 'South Shore'\n",
    "  ch_apts.loc[ch_apts['Post_Title'].str.contains('Streeter'), 'Neighborhood'] = 'Streeterville'\n",
    "  ch_apts.loc[ch_apts['Post_Title'].str.contains('streeter'), 'Neighborhood'] = 'Streeterville'\n",
    "  ch_apts.loc[ch_apts['Post_Title'].str.contains('Uptown'), 'Neighborhood'] = 'Uptown'\n",
    "  ch_apts.loc[ch_apts['Post_Title'].str.contains('uptown'), 'Neighborhood'] = 'Uptown'\n",
    "  ch_apts.loc[ch_apts['Post_Title'].str.contains('West Loop'), 'Neighborhood'] = 'West Loop'\n",
    "  ch_apts.loc[ch_apts['Post_Title'].str.contains('west loop'), 'Neighborhood'] = 'West Loop'\n",
    "  ch_apts.loc[ch_apts['Post_Title'].str.contains('West Town'), 'Neighborhood'] = 'West Town'\n",
    "  ch_apts.loc[ch_apts['Post_Title'].str.contains('west town'), 'Neighborhood'] = 'West Town'\n",
    "  ch_apts.loc[ch_apts['Post_Title'].str.contains('Wicker'), 'Neighborhood'] = 'Wicker Park'\n",
    "  ch_apts.loc[ch_apts['Post_Title'].str.contains('wicker'), 'Neighborhood'] = 'Wicker Park'\n",
    "  ch_apts.loc[ch_apts['Post_Title'].str.contains('Wrigleyville'), 'Neighborhood'] = 'Wrigleyville'\n",
    "  ch_apts.loc[ch_apts['Post_Title'].str.contains('wrigleyville'), 'Neighborhood'] = 'Wrigleyville'\n",
    "  ch_apts.loc[ch_apts['Post_Title'].str.contains('wrigley'), 'Neighborhood'] = 'Wrigleyville'\n",
    "  ch_apts.loc[ch_apts['Post_Title'].str.contains('Ukrainian Village'), 'Neighborhood'] = 'Ukrainian Village'\n",
    "  ch_apts.loc[ch_apts['Post_Title'].str.contains('ukrainian village'), 'Neighborhood'] = 'Ukrainian Village'\n",
    "\n",
    "ch_apts"
   ]
  },
  {
   "cell_type": "code",
   "execution_count": 122,
   "metadata": {
    "colab": {
     "base_uri": "https://localhost:8080/",
     "height": 225
    },
    "colab_type": "code",
    "id": "LoRKReDVXmDd",
    "outputId": "bc2140ee-1e95-4432-b6f2-8ec4625c4689"
   },
   "outputs": [
    {
     "name": "stdout",
     "output_type": "stream",
     "text": [
      "<class 'pandas.core.frame.DataFrame'>\n",
      "Int64Index: 101 entries, 1 to 114\n",
      "Data columns (total 7 columns):\n",
      " #   Column        Non-Null Count  Dtype         \n",
      "---  ------        --------------  -----         \n",
      " 0   Posted        101 non-null    datetime64[ns]\n",
      " 1   Neighborhood  101 non-null    object        \n",
      " 2   Post_Title    101 non-null    object        \n",
      " 3   Num_Bedrooms  71 non-null     float64       \n",
      " 4   Sqft          33 non-null     float64       \n",
      " 5   URL           101 non-null    object        \n",
      " 6   Price         101 non-null    int64         \n",
      "dtypes: datetime64[ns](1), float64(2), int64(1), object(3)\n",
      "memory usage: 6.3+ KB\n"
     ]
    }
   ],
   "source": [
    "ch_apts.info()"
   ]
  },
  {
   "cell_type": "code",
   "execution_count": 123,
   "metadata": {
    "colab": {
     "base_uri": "https://localhost:8080/",
     "height": 414
    },
    "colab_type": "code",
    "id": "fnfRnj7TXog2",
    "outputId": "e87b5fa2-e06c-4fd4-94b4-fbe196ca01e8"
   },
   "outputs": [
    {
     "data": {
      "text/plain": [
       "'C:\\\\Users\\\\chris\\\\2020'"
      ]
     },
     "execution_count": 123,
     "metadata": {},
     "output_type": "execute_result"
    }
   ],
   "source": [
    "import pandas as pd, numpy as np\n",
    "\n",
    "#get current directory\n",
    "%pwd\n",
    "\n",
    "#export dataframe to csv file\n",
    "ch_apts.to_csv(r'C:\\\\Users\\\\chris\\\\2020\\Craigslist-Data.csv')"
   ]
  },
  {
   "cell_type": "code",
   "execution_count": 124,
   "metadata": {},
   "outputs": [
    {
     "name": "stdout",
     "output_type": "stream",
     "text": [
      "<class 'pandas.core.frame.DataFrame'>\n",
      "RangeIndex: 101 entries, 0 to 100\n",
      "Data columns (total 8 columns):\n",
      " #   Column        Non-Null Count  Dtype  \n",
      "---  ------        --------------  -----  \n",
      " 0   Unnamed: 0    101 non-null    int64  \n",
      " 1   Posted        101 non-null    object \n",
      " 2   Neighborhood  101 non-null    object \n",
      " 3   Post_Title    101 non-null    object \n",
      " 4   Num_Bedrooms  71 non-null     float64\n",
      " 5   Sqft          33 non-null     float64\n",
      " 6   URL           101 non-null    object \n",
      " 7   Price         101 non-null    int64  \n",
      "dtypes: float64(2), int64(2), object(4)\n",
      "memory usage: 6.4+ KB\n"
     ]
    },
    {
     "data": {
      "text/plain": [
       "(101, 8)"
      ]
     },
     "execution_count": 124,
     "metadata": {},
     "output_type": "execute_result"
    },
    {
     "data": {
      "text/plain": [
       "Index(['Unnamed: 0', 'Posted', 'Neighborhood', 'Post_Title', 'Num_Bedrooms',\n",
       "       'Sqft', 'URL', 'Price'],\n",
       "      dtype='object')"
      ]
     },
     "execution_count": 124,
     "metadata": {},
     "output_type": "execute_result"
    }
   ],
   "source": [
    "#use created file\n",
    "chicago_apts = pd.read_csv(\"Craigslist-Data.csv\")\n",
    "\n",
    "chicago_apts.info()\n",
    "chicago_apts.shape\n",
    "chicago_apts.columns"
   ]
  },
  {
   "cell_type": "code",
   "execution_count": 126,
   "metadata": {
    "colab": {
     "base_uri": "https://localhost:8080/",
     "height": 413
    },
    "colab_type": "code",
    "id": "wUJGdnDxXo1b",
    "outputId": "998c602a-36bb-4094-aa40-5724ad331ef7",
    "scrolled": true
   },
   "outputs": [
    {
     "data": {
      "image/png": "[encoded data removed]",
      "text/plain": [
       "<Figure size 720x432 with 1 Axes>"
      ]
     },
     "metadata": {
      "needs_background": "light"
     },
     "output_type": "display_data"
    }
   ],
   "source": [
    "#start to look at the distributions\n",
    "from matplotlib import figure\n",
    "import seaborn as sns\n",
    "import matplotlib.pyplot as plt\n",
    "%matplotlib inline\n",
    "\n",
    "plt.figure(figsize=(10, 6))\n",
    "plt.hist(chicago_apts['Price'], edgecolor='black');\n",
    "plt.xlabel(\"Price\")\n",
    "plt.ylabel('Count')\n",
    "plt.title(\"Distribution of Rent\");"
   ]
  },
  {
   "cell_type": "code",
   "execution_count": null,
   "metadata": {},
   "outputs": [],
   "source": []
  },
  {
   "cell_type": "code",
   "execution_count": null,
   "metadata": {},
   "outputs": [],
   "source": []
  },
  {
   "cell_type": "code",
   "execution_count": null,
   "metadata": {},
   "outputs": [],
   "source": []
  },
  {
   "cell_type": "code",
   "execution_count": null,
   "metadata": {},
   "outputs": [],
   "source": []
  },
  {
   "cell_type": "code",
   "execution_count": null,
   "metadata": {},
   "outputs": [],
   "source": []
  },
  {
   "cell_type": "code",
   "execution_count": null,
   "metadata": {},
   "outputs": [],
   "source": []
  },
  {
   "cell_type": "code",
   "execution_count": null,
   "metadata": {},
   "outputs": [],
   "source": []
  },
  {
   "cell_type": "code",
   "execution_count": null,
   "metadata": {},
   "outputs": [],
   "source": []
  },
  {
   "cell_type": "code",
   "execution_count": null,
   "metadata": {},
   "outputs": [],
   "source": []
  },
  {
   "cell_type": "code",
   "execution_count": null,
   "metadata": {},
   "outputs": [],
   "source": []
  },
  {
   "cell_type": "code",
   "execution_count": 168,
   "metadata": {
    "colab": {
     "base_uri": "https://localhost:8080/",
     "height": 529
    },
    "colab_type": "code",
    "id": "2Eor2W_qXoz9",
    "outputId": "8af2344e-9691-4744-cc93-99c89f85aac6"
   },
   "outputs": [
    {
     "data": {
      "image/png": "[encoded data removed]",
      "text/plain": [
       "<Figure size 864x576 with 1 Axes>"
      ]
     },
     "metadata": {
      "needs_background": "light"
     },
     "output_type": "display_data"
    }
   ],
   "source": [
    "import matplotlib.pylab as pylab\n",
    "params = {'legend.fontsize': 'x-large',\n",
    "          'figure.figsize': (15, 5),\n",
    "         'axes.labelsize': 'x-large',\n",
    "         'axes.titlesize':'x-large',\n",
    "         'xtick.labelsize':'x-large',\n",
    "         'ytick.labelsize':'x-large'}\n",
    "pylab.rcParams.update(params)\n",
    "\n",
    "plt.figure(figsize=(12, 8))\n",
    "sns.scatterplot(x='Price', y='Sqft', hue='Num_Bedrooms', palette='summer', x_jitter=True, y_jitter=True, s=100, data=ch_apts.dropna())\n",
    "plt.legend(fontsize=12)\n",
    "plt.xlabel(\"Price\", fontsize=18)\n",
    "plt.ylabel(\"Square Footage\", fontsize=18);\n",
    "plt.title(\"Price vs. Square Footage Colored by Number of Bedrooms\", fontsize=18);"
   ]
  },
  {
   "cell_type": "code",
   "execution_count": 128,
   "metadata": {
    "colab": {
     "base_uri": "https://localhost:8080/",
     "height": 522
    },
    "colab_type": "code",
    "id": "JxFiuvMgXow_",
    "outputId": "2025d02c-67af-41b2-bda5-5b853987432d"
   },
   "outputs": [
    {
     "data": {
      "image/png": "[encoded data removed]",
      "text/plain": [
       "<Figure size 864x576 with 1 Axes>"
      ]
     },
     "metadata": {
      "needs_background": "light"
     },
     "output_type": "display_data"
    }
   ],
   "source": [
    "plt.figure(figsize=(12, 8))\n",
    "sns.regplot(x='Price', y='Sqft', data=ch_apts.dropna());\n",
    "plt.title('Price vs. Square Footage Regression Plot');\n",
    "plt.xlabel(\"Price (USD)\");\n",
    "plt.ylabel(\"Square Feet\");"
   ]
  },
  {
   "cell_type": "code",
   "execution_count": 129,
   "metadata": {
    "colab": {
     "base_uri": "https://localhost:8080/",
     "height": 141
    },
    "colab_type": "code",
    "id": "382JUVRFXoup",
    "outputId": "02b5696c-05e2-489f-ef93-a26279be8df6"
   },
   "outputs": [
    {
     "data": {
      "text/html": [
       "<div>\n",
       "<style scoped>\n",
       "    .dataframe tbody tr th:only-of-type {\n",
       "        vertical-align: middle;\n",
       "    }\n",
       "\n",
       "    .dataframe tbody tr th {\n",
       "        vertical-align: top;\n",
       "    }\n",
       "\n",
       "    .dataframe thead th {\n",
       "        text-align: right;\n",
       "    }\n",
       "</style>\n",
       "<table border=\"1\" class=\"dataframe\">\n",
       "  <thead>\n",
       "    <tr style=\"text-align: right;\">\n",
       "      <th></th>\n",
       "      <th>Num_Bedrooms</th>\n",
       "      <th>Sqft</th>\n",
       "      <th>Price</th>\n",
       "    </tr>\n",
       "  </thead>\n",
       "  <tbody>\n",
       "    <tr>\n",
       "      <th>Num_Bedrooms</th>\n",
       "      <td>1.000000</td>\n",
       "      <td>0.490698</td>\n",
       "      <td>0.337763</td>\n",
       "    </tr>\n",
       "    <tr>\n",
       "      <th>Sqft</th>\n",
       "      <td>0.490698</td>\n",
       "      <td>1.000000</td>\n",
       "      <td>0.659698</td>\n",
       "    </tr>\n",
       "    <tr>\n",
       "      <th>Price</th>\n",
       "      <td>0.337763</td>\n",
       "      <td>0.659698</td>\n",
       "      <td>1.000000</td>\n",
       "    </tr>\n",
       "  </tbody>\n",
       "</table>\n",
       "</div>"
      ],
      "text/plain": [
       "              Num_Bedrooms      Sqft     Price\n",
       "Num_Bedrooms      1.000000  0.490698  0.337763\n",
       "Sqft              0.490698  1.000000  0.659698\n",
       "Price             0.337763  0.659698  1.000000"
      ]
     },
     "execution_count": 129,
     "metadata": {},
     "output_type": "execute_result"
    }
   ],
   "source": [
    "#correlations of # of bedrooms, sqft and price\n",
    "ch_apts.corr()"
   ]
  },
  {
   "cell_type": "code",
   "execution_count": 130,
   "metadata": {
    "colab": {
     "base_uri": "https://localhost:8080/",
     "height": 1000
    },
    "colab_type": "code",
    "id": "EVFEsr5pXosE",
    "outputId": "eb662494-eec7-4abe-9fb1-950f9487372f"
   },
   "outputs": [
    {
     "data": {
      "text/html": [
       "<div>\n",
       "<style scoped>\n",
       "    .dataframe tbody tr th:only-of-type {\n",
       "        vertical-align: middle;\n",
       "    }\n",
       "\n",
       "    .dataframe tbody tr th {\n",
       "        vertical-align: top;\n",
       "    }\n",
       "\n",
       "    .dataframe thead th {\n",
       "        text-align: right;\n",
       "    }\n",
       "</style>\n",
       "<table border=\"1\" class=\"dataframe\">\n",
       "  <thead>\n",
       "    <tr style=\"text-align: right;\">\n",
       "      <th></th>\n",
       "      <th>Num_Bedrooms</th>\n",
       "      <th>Sqft</th>\n",
       "      <th>Price</th>\n",
       "    </tr>\n",
       "    <tr>\n",
       "      <th>Neighborhood</th>\n",
       "      <th></th>\n",
       "      <th></th>\n",
       "      <th></th>\n",
       "    </tr>\n",
       "  </thead>\n",
       "  <tbody>\n",
       "    <tr>\n",
       "      <th>Adams Near Wells</th>\n",
       "      <td>1.000000</td>\n",
       "      <td>NaN</td>\n",
       "      <td>1245.000000</td>\n",
       "    </tr>\n",
       "    <tr>\n",
       "      <th>Albany Park</th>\n",
       "      <td>1.666667</td>\n",
       "      <td>NaN</td>\n",
       "      <td>1300.000000</td>\n",
       "    </tr>\n",
       "    <tr>\n",
       "      <th>Andersonville</th>\n",
       "      <td>2.000000</td>\n",
       "      <td>900.0</td>\n",
       "      <td>1596.000000</td>\n",
       "    </tr>\n",
       "    <tr>\n",
       "      <th>Auburn Gresham</th>\n",
       "      <td>2.000000</td>\n",
       "      <td>843.0</td>\n",
       "      <td>915.000000</td>\n",
       "    </tr>\n",
       "    <tr>\n",
       "      <th>Avondale</th>\n",
       "      <td>2.000000</td>\n",
       "      <td>NaN</td>\n",
       "      <td>1395.000000</td>\n",
       "    </tr>\n",
       "    <tr>\n",
       "      <th>Bucktown</th>\n",
       "      <td>2.000000</td>\n",
       "      <td>1000.0</td>\n",
       "      <td>1250.000000</td>\n",
       "    </tr>\n",
       "    <tr>\n",
       "      <th>Chicago</th>\n",
       "      <td>1.800000</td>\n",
       "      <td>950.0</td>\n",
       "      <td>1042.500000</td>\n",
       "    </tr>\n",
       "    <tr>\n",
       "      <th>Chicago - Uptown</th>\n",
       "      <td>1.000000</td>\n",
       "      <td>NaN</td>\n",
       "      <td>950.000000</td>\n",
       "    </tr>\n",
       "    <tr>\n",
       "      <th>Downtown South Loop</th>\n",
       "      <td>2.000000</td>\n",
       "      <td>850.0</td>\n",
       "      <td>1550.000000</td>\n",
       "    </tr>\n",
       "    <tr>\n",
       "      <th>East Rogers Park</th>\n",
       "      <td>1.000000</td>\n",
       "      <td>NaN</td>\n",
       "      <td>1185.000000</td>\n",
       "    </tr>\n",
       "    <tr>\n",
       "      <th>Edgewater</th>\n",
       "      <td>1.000000</td>\n",
       "      <td>300.0</td>\n",
       "      <td>857.600000</td>\n",
       "    </tr>\n",
       "    <tr>\n",
       "      <th>Gold Coast - Lincoln Park - Old Town</th>\n",
       "      <td>2.000000</td>\n",
       "      <td>1200.0</td>\n",
       "      <td>2000.000000</td>\n",
       "    </tr>\n",
       "    <tr>\n",
       "      <th>Grand Crossing</th>\n",
       "      <td>2.000000</td>\n",
       "      <td>896.0</td>\n",
       "      <td>980.000000</td>\n",
       "    </tr>\n",
       "    <tr>\n",
       "      <th>Hyde Park</th>\n",
       "      <td>1.000000</td>\n",
       "      <td>1000.0</td>\n",
       "      <td>1000.000000</td>\n",
       "    </tr>\n",
       "    <tr>\n",
       "      <th>Kenwood</th>\n",
       "      <td>1.500000</td>\n",
       "      <td>805.0</td>\n",
       "      <td>1495.000000</td>\n",
       "    </tr>\n",
       "    <tr>\n",
       "      <th>Lake Shore Dr-Gold Coast</th>\n",
       "      <td>1.000000</td>\n",
       "      <td>950.0</td>\n",
       "      <td>1750.000000</td>\n",
       "    </tr>\n",
       "    <tr>\n",
       "      <th>Lakeview</th>\n",
       "      <td>1.000000</td>\n",
       "      <td>1000.0</td>\n",
       "      <td>1350.000000</td>\n",
       "    </tr>\n",
       "    <tr>\n",
       "      <th>Lincoln Park</th>\n",
       "      <td>1.000000</td>\n",
       "      <td>NaN</td>\n",
       "      <td>1250.000000</td>\n",
       "    </tr>\n",
       "    <tr>\n",
       "      <th>Lincoln Park, Chicago</th>\n",
       "      <td>1.000000</td>\n",
       "      <td>NaN</td>\n",
       "      <td>1695.000000</td>\n",
       "    </tr>\n",
       "    <tr>\n",
       "      <th>Lincoln Square</th>\n",
       "      <td>1.000000</td>\n",
       "      <td>NaN</td>\n",
       "      <td>1185.000000</td>\n",
       "    </tr>\n",
       "    <tr>\n",
       "      <th>Logan Square</th>\n",
       "      <td>1.888889</td>\n",
       "      <td>939.0</td>\n",
       "      <td>1267.000000</td>\n",
       "    </tr>\n",
       "    <tr>\n",
       "      <th>Pilsen</th>\n",
       "      <td>2.000000</td>\n",
       "      <td>NaN</td>\n",
       "      <td>1100.000000</td>\n",
       "    </tr>\n",
       "    <tr>\n",
       "      <th>Portage Park</th>\n",
       "      <td>1.000000</td>\n",
       "      <td>NaN</td>\n",
       "      <td>1000.000000</td>\n",
       "    </tr>\n",
       "    <tr>\n",
       "      <th>Ravenswood</th>\n",
       "      <td>1.333333</td>\n",
       "      <td>1100.0</td>\n",
       "      <td>1408.333333</td>\n",
       "    </tr>\n",
       "    <tr>\n",
       "      <th>River North</th>\n",
       "      <td>2.000000</td>\n",
       "      <td>1425.0</td>\n",
       "      <td>2088.800000</td>\n",
       "    </tr>\n",
       "    <tr>\n",
       "      <th>Rogers Park</th>\n",
       "      <td>1.000000</td>\n",
       "      <td>670.0</td>\n",
       "      <td>1078.750000</td>\n",
       "    </tr>\n",
       "    <tr>\n",
       "      <th>Roscoe Village</th>\n",
       "      <td>1.000000</td>\n",
       "      <td>1000.0</td>\n",
       "      <td>1775.000000</td>\n",
       "    </tr>\n",
       "    <tr>\n",
       "      <th>South Loop</th>\n",
       "      <td>2.000000</td>\n",
       "      <td>1123.0</td>\n",
       "      <td>1943.000000</td>\n",
       "    </tr>\n",
       "    <tr>\n",
       "      <th>South Shore</th>\n",
       "      <td>1.000000</td>\n",
       "      <td>500.0</td>\n",
       "      <td>770.000000</td>\n",
       "    </tr>\n",
       "    <tr>\n",
       "      <th>Streeterville</th>\n",
       "      <td>3.000000</td>\n",
       "      <td>NaN</td>\n",
       "      <td>2650.000000</td>\n",
       "    </tr>\n",
       "    <tr>\n",
       "      <th>Uptown</th>\n",
       "      <td>1.400000</td>\n",
       "      <td>675.0</td>\n",
       "      <td>1041.111111</td>\n",
       "    </tr>\n",
       "    <tr>\n",
       "      <th>Washington Park</th>\n",
       "      <td>3.000000</td>\n",
       "      <td>1500.0</td>\n",
       "      <td>1350.000000</td>\n",
       "    </tr>\n",
       "    <tr>\n",
       "      <th>West Loop</th>\n",
       "      <td>1.000000</td>\n",
       "      <td>920.0</td>\n",
       "      <td>1221.761905</td>\n",
       "    </tr>\n",
       "    <tr>\n",
       "      <th>West Town</th>\n",
       "      <td>2.000000</td>\n",
       "      <td>2000.0</td>\n",
       "      <td>2000.000000</td>\n",
       "    </tr>\n",
       "    <tr>\n",
       "      <th>West Wicker Park</th>\n",
       "      <td>3.000000</td>\n",
       "      <td>1200.0</td>\n",
       "      <td>1465.000000</td>\n",
       "    </tr>\n",
       "    <tr>\n",
       "      <th>Wicker Park</th>\n",
       "      <td>2.000000</td>\n",
       "      <td>NaN</td>\n",
       "      <td>1980.000000</td>\n",
       "    </tr>\n",
       "    <tr>\n",
       "      <th>Wrigleyville</th>\n",
       "      <td>2.000000</td>\n",
       "      <td>NaN</td>\n",
       "      <td>1325.000000</td>\n",
       "    </tr>\n",
       "  </tbody>\n",
       "</table>\n",
       "</div>"
      ],
      "text/plain": [
       "                                      Num_Bedrooms    Sqft        Price\n",
       "Neighborhood                                                           \n",
       "Adams Near Wells                          1.000000     NaN  1245.000000\n",
       "Albany Park                               1.666667     NaN  1300.000000\n",
       "Andersonville                             2.000000   900.0  1596.000000\n",
       "Auburn Gresham                            2.000000   843.0   915.000000\n",
       "Avondale                                  2.000000     NaN  1395.000000\n",
       "Bucktown                                  2.000000  1000.0  1250.000000\n",
       "Chicago                                   1.800000   950.0  1042.500000\n",
       "Chicago - Uptown                          1.000000     NaN   950.000000\n",
       "Downtown South Loop                       2.000000   850.0  1550.000000\n",
       "East Rogers Park                          1.000000     NaN  1185.000000\n",
       "Edgewater                                 1.000000   300.0   857.600000\n",
       "Gold Coast - Lincoln Park - Old Town      2.000000  1200.0  2000.000000\n",
       "Grand Crossing                            2.000000   896.0   980.000000\n",
       "Hyde Park                                 1.000000  1000.0  1000.000000\n",
       "Kenwood                                   1.500000   805.0  1495.000000\n",
       "Lake Shore Dr-Gold Coast                  1.000000   950.0  1750.000000\n",
       "Lakeview                                  1.000000  1000.0  1350.000000\n",
       "Lincoln Park                              1.000000     NaN  1250.000000\n",
       "Lincoln Park, Chicago                     1.000000     NaN  1695.000000\n",
       "Lincoln Square                            1.000000     NaN  1185.000000\n",
       "Logan Square                              1.888889   939.0  1267.000000\n",
       "Pilsen                                    2.000000     NaN  1100.000000\n",
       "Portage Park                              1.000000     NaN  1000.000000\n",
       "Ravenswood                                1.333333  1100.0  1408.333333\n",
       "River North                               2.000000  1425.0  2088.800000\n",
       "Rogers Park                               1.000000   670.0  1078.750000\n",
       "Roscoe Village                            1.000000  1000.0  1775.000000\n",
       "South Loop                                2.000000  1123.0  1943.000000\n",
       "South Shore                               1.000000   500.0   770.000000\n",
       "Streeterville                             3.000000     NaN  2650.000000\n",
       "Uptown                                    1.400000   675.0  1041.111111\n",
       "Washington Park                           3.000000  1500.0  1350.000000\n",
       "West Loop                                 1.000000   920.0  1221.761905\n",
       "West Town                                 2.000000  2000.0  2000.000000\n",
       "West Wicker Park                          3.000000  1200.0  1465.000000\n",
       "Wicker Park                               2.000000     NaN  1980.000000\n",
       "Wrigleyville                              2.000000     NaN  1325.000000"
      ]
     },
     "execution_count": 130,
     "metadata": {},
     "output_type": "execute_result"
    }
   ],
   "source": [
    "#group by neighborhood\n",
    "ch_apts.groupby('Neighborhood').mean()"
   ]
  },
  {
   "cell_type": "code",
   "execution_count": 131,
   "metadata": {
    "colab": {
     "base_uri": "https://localhost:8080/",
     "height": 901
    },
    "colab_type": "code",
    "id": "29mw0QmmXonp",
    "outputId": "0311e2cc-1497-4959-fa79-107f4d340fa2"
   },
   "outputs": [
    {
     "data": {
      "text/plain": [
       "Neighborhood\n",
       "South Shore                              770.000000\n",
       "Edgewater                                857.600000\n",
       "Auburn Gresham                           915.000000\n",
       "Chicago - Uptown                         950.000000\n",
       "Grand Crossing                           980.000000\n",
       "Portage Park                            1000.000000\n",
       "Hyde Park                               1000.000000\n",
       "Uptown                                  1041.111111\n",
       "Chicago                                 1042.500000\n",
       "Rogers Park                             1078.750000\n",
       "Pilsen                                  1100.000000\n",
       "East Rogers Park                        1185.000000\n",
       "Lincoln Square                          1185.000000\n",
       "West Loop                               1221.761905\n",
       "Adams Near Wells                        1245.000000\n",
       "Bucktown                                1250.000000\n",
       "Lincoln Park                            1250.000000\n",
       "Logan Square                            1267.000000\n",
       "Albany Park                             1300.000000\n",
       "Wrigleyville                            1325.000000\n",
       "Lakeview                                1350.000000\n",
       "Washington Park                         1350.000000\n",
       "Avondale                                1395.000000\n",
       "Ravenswood                              1408.333333\n",
       "West Wicker Park                        1465.000000\n",
       "Kenwood                                 1495.000000\n",
       "Downtown South Loop                     1550.000000\n",
       "Andersonville                           1596.000000\n",
       "Lincoln Park, Chicago                   1695.000000\n",
       "Lake Shore Dr-Gold Coast                1750.000000\n",
       "Roscoe Village                          1775.000000\n",
       "South Loop                              1943.000000\n",
       "Wicker Park                             1980.000000\n",
       "Gold Coast - Lincoln Park - Old Town    2000.000000\n",
       "West Town                               2000.000000\n",
       "River North                             2088.800000\n",
       "Streeterville                           2650.000000\n",
       "Name: Price, dtype: float64"
      ]
     },
     "execution_count": 131,
     "metadata": {},
     "output_type": "execute_result"
    }
   ],
   "source": [
    "#sort price to find cheapest\n",
    "ch_apts.groupby('Neighborhood').mean()['Price'].sort_values()"
   ]
  },
  {
   "cell_type": "code",
   "execution_count": 132,
   "metadata": {
    "colab": {
     "base_uri": "https://localhost:8080/",
     "height": 842
    },
    "colab_type": "code",
    "id": "kuHF75vEXl3Z",
    "outputId": "275d0023-82f1-4e09-c595-2e046eb98a12"
   },
   "outputs": [
    {
     "data": {
      "image/png": "[encoded data removed]",
      "text/plain": [
       "<Figure size 1080x720 with 1 Axes>"
      ]
     },
     "metadata": {
      "needs_background": "light"
     },
     "output_type": "display_data"
    }
   ],
   "source": [
    "plt.figure(figsize=(15,10))\n",
    "params = {'legend.fontsize': 'x-large',\n",
    "          'figure.figsize': (15, 5),\n",
    "         'axes.labelsize': 'x-large',\n",
    "         'axes.titlesize':'x-large',\n",
    "         'xtick.labelsize':'x-large',\n",
    "         'ytick.labelsize':'x-large'}\n",
    "pylab.rcParams.update(params)\n",
    "\n",
    "sns.boxplot(x='Neighborhood', y='Price', data=ch_apts)\n",
    "plt.xlabel(\"Neighborhood\");\n",
    "plt.xticks(rotation=75)\n",
    "plt.ylabel(\"Price USD\");\n",
    "plt.title(\"Prices by Neighborhood - Boxplots\");"
   ]
  },
  {
   "cell_type": "code",
   "execution_count": 178,
   "metadata": {
    "colab": {},
    "colab_type": "code",
    "id": "HXfJa2EVXl2E"
   },
   "outputs": [
    {
     "data": {
      "text/plain": [
       "['West Loop', 'Logan Square', 'Uptown', 'Chicago', 'River North']"
      ]
     },
     "execution_count": 178,
     "metadata": {},
     "output_type": "execute_result"
    }
   ],
   "source": [
    "############################\n",
    "############################\n",
    "# 1 bedroom apts\n",
    "###########################\n",
    "###########################\n",
    "###########################\n",
    "\n",
    "# get 5 most popular neighborhoods \n",
    "chicago_apts['Neighborhood'].value_counts()[:5].index.tolist()\n",
    "\n",
    "#break it down and do a sns barplot below with the Neighborhood hue so you can compare those different areas\n",
    "#sns.stripplot(data=chicago_apts, y=\"Price\",x=\"Num_Bedrooms\", jitter=True)\n",
    "#sns.barplot(data=chicago_apts, y= \"Price\", x=\"Num_Bedrooms\",hue=\"Neighborhood\")"
   ]
  },
  {
   "cell_type": "code",
   "execution_count": 150,
   "metadata": {},
   "outputs": [
    {
     "name": "stdout",
     "output_type": "stream",
     "text": [
      "<class 'pandas.core.frame.DataFrame'>\n",
      "RangeIndex: 101 entries, 0 to 100\n",
      "Data columns (total 8 columns):\n",
      " #   Column        Non-Null Count  Dtype  \n",
      "---  ------        --------------  -----  \n",
      " 0   Unnamed: 0    101 non-null    int64  \n",
      " 1   Posted        101 non-null    object \n",
      " 2   Neighborhood  101 non-null    object \n",
      " 3   Post_Title    101 non-null    object \n",
      " 4   Num_Bedrooms  71 non-null     float64\n",
      " 5   Sqft          33 non-null     float64\n",
      " 6   URL           101 non-null    object \n",
      " 7   Price         101 non-null    int64  \n",
      "dtypes: float64(2), int64(2), object(4)\n",
      "memory usage: 6.4+ KB\n"
     ]
    },
    {
     "data": {
      "text/plain": [
       "(101, 8)"
      ]
     },
     "execution_count": 150,
     "metadata": {},
     "output_type": "execute_result"
    },
    {
     "data": {
      "text/plain": [
       "Index(['Unnamed: 0', 'Posted', 'Neighborhood', 'Post_Title', 'Num_Bedrooms',\n",
       "       'Sqft', 'URL', 'Price'],\n",
       "      dtype='object')"
      ]
     },
     "execution_count": 150,
     "metadata": {},
     "output_type": "execute_result"
    },
    {
     "data": {
      "text/html": [
       "<div>\n",
       "<style scoped>\n",
       "    .dataframe tbody tr th:only-of-type {\n",
       "        vertical-align: middle;\n",
       "    }\n",
       "\n",
       "    .dataframe tbody tr th {\n",
       "        vertical-align: top;\n",
       "    }\n",
       "\n",
       "    .dataframe thead th {\n",
       "        text-align: right;\n",
       "    }\n",
       "</style>\n",
       "<table border=\"1\" class=\"dataframe\">\n",
       "  <thead>\n",
       "    <tr style=\"text-align: right;\">\n",
       "      <th></th>\n",
       "      <th>Unnamed: 0</th>\n",
       "      <th>Posted</th>\n",
       "      <th>Neighborhood</th>\n",
       "      <th>Post_Title</th>\n",
       "      <th>Num_Bedrooms</th>\n",
       "      <th>Sqft</th>\n",
       "      <th>URL</th>\n",
       "      <th>Price</th>\n",
       "    </tr>\n",
       "  </thead>\n",
       "  <tbody>\n",
       "    <tr>\n",
       "      <th>0</th>\n",
       "      <td>1</td>\n",
       "      <td>2020-12-02 12:56:00</td>\n",
       "      <td>Roscoe Village</td>\n",
       "      <td>Roscoe Village - Large 1 Bed / 1 Bath / Den</td>\n",
       "      <td>1.0</td>\n",
       "      <td>1000.0</td>\n",
       "      <td>https://chicago.craigslist.org/chc/apa/d/chica...</td>\n",
       "      <td>1775</td>\n",
       "    </tr>\n",
       "    <tr>\n",
       "      <th>1</th>\n",
       "      <td>2</td>\n",
       "      <td>2020-12-02 12:52:00</td>\n",
       "      <td>Kenwood</td>\n",
       "      <td>4746 S Greenwood Ave, Unit 3E</td>\n",
       "      <td>2.0</td>\n",
       "      <td>860.0</td>\n",
       "      <td>https://chicago.craigslist.org/chc/apa/d/chica...</td>\n",
       "      <td>1595</td>\n",
       "    </tr>\n",
       "    <tr>\n",
       "      <th>2</th>\n",
       "      <td>3</td>\n",
       "      <td>2020-12-02 12:47:00</td>\n",
       "      <td>Logan Square</td>\n",
       "      <td>Logan Square 1 Bed Close 2 SQ! HWF|Cats Ok|1 M...</td>\n",
       "      <td>1.0</td>\n",
       "      <td>NaN</td>\n",
       "      <td>https://chicago.craigslist.org/chc/apa/d/chica...</td>\n",
       "      <td>1095</td>\n",
       "    </tr>\n",
       "    <tr>\n",
       "      <th>3</th>\n",
       "      <td>4</td>\n",
       "      <td>2020-12-02 12:46:00</td>\n",
       "      <td>Logan Square</td>\n",
       "      <td>Updated Logan Square 3 Bed w/HWF|DW|Pets Ok|De...</td>\n",
       "      <td>3.0</td>\n",
       "      <td>1034.0</td>\n",
       "      <td>https://chicago.craigslist.org/chc/apa/d/chica...</td>\n",
       "      <td>1695</td>\n",
       "    </tr>\n",
       "    <tr>\n",
       "      <th>4</th>\n",
       "      <td>5</td>\n",
       "      <td>2020-12-02 12:44:00</td>\n",
       "      <td>Logan Square</td>\n",
       "      <td>Logan Square 2 Bed w/HWF|Balcony|Pets Ok|One M...</td>\n",
       "      <td>2.0</td>\n",
       "      <td>940.0</td>\n",
       "      <td>https://chicago.craigslist.org/chc/apa/d/chica...</td>\n",
       "      <td>1495</td>\n",
       "    </tr>\n",
       "  </tbody>\n",
       "</table>\n",
       "</div>"
      ],
      "text/plain": [
       "   Unnamed: 0               Posted    Neighborhood  \\\n",
       "0           1  2020-12-02 12:56:00  Roscoe Village   \n",
       "1           2  2020-12-02 12:52:00         Kenwood   \n",
       "2           3  2020-12-02 12:47:00    Logan Square   \n",
       "3           4  2020-12-02 12:46:00    Logan Square   \n",
       "4           5  2020-12-02 12:44:00    Logan Square   \n",
       "\n",
       "                                          Post_Title  Num_Bedrooms    Sqft  \\\n",
       "0        Roscoe Village - Large 1 Bed / 1 Bath / Den           1.0  1000.0   \n",
       "1                      4746 S Greenwood Ave, Unit 3E           2.0   860.0   \n",
       "2  Logan Square 1 Bed Close 2 SQ! HWF|Cats Ok|1 M...           1.0     NaN   \n",
       "3  Updated Logan Square 3 Bed w/HWF|DW|Pets Ok|De...           3.0  1034.0   \n",
       "4  Logan Square 2 Bed w/HWF|Balcony|Pets Ok|One M...           2.0   940.0   \n",
       "\n",
       "                                                 URL  Price  \n",
       "0  https://chicago.craigslist.org/chc/apa/d/chica...   1775  \n",
       "1  https://chicago.craigslist.org/chc/apa/d/chica...   1595  \n",
       "2  https://chicago.craigslist.org/chc/apa/d/chica...   1095  \n",
       "3  https://chicago.craigslist.org/chc/apa/d/chica...   1695  \n",
       "4  https://chicago.craigslist.org/chc/apa/d/chica...   1495  "
      ]
     },
     "execution_count": 150,
     "metadata": {},
     "output_type": "execute_result"
    }
   ],
   "source": [
    "#Focusing on 1 bedroom apts\n",
    "#use created file\n",
    "chicago_apts = pd.read_csv(\"Craigslist-Data.csv\")\n",
    "\n",
    "chicago_apts.info()\n",
    "chicago_apts.shape\n",
    "chicago_apts.columns\n",
    "chicago_apts.head()"
   ]
  },
  {
   "cell_type": "code",
   "execution_count": 153,
   "metadata": {},
   "outputs": [
    {
     "data": {
      "text/plain": [
       "(38, 8)"
      ]
     },
     "execution_count": 153,
     "metadata": {},
     "output_type": "execute_result"
    }
   ],
   "source": [
    "one = chicago_apts[chicago_apts.Num_Bedrooms.eq(1.0)]\n",
    "one.shape"
   ]
  },
  {
   "cell_type": "code",
   "execution_count": 156,
   "metadata": {},
   "outputs": [
    {
     "data": {
      "image/png": "[encoded data removed]",
      "text/plain": [
       "<Figure size 720x432 with 1 Axes>"
      ]
     },
     "metadata": {
      "needs_background": "light"
     },
     "output_type": "display_data"
    }
   ],
   "source": [
    "#start to look at the distributions\n",
    "from matplotlib import figure\n",
    "import seaborn as sns\n",
    "import matplotlib.pyplot as plt\n",
    "%matplotlib inline\n",
    "\n",
    "plt.figure(figsize=(10, 6))\n",
    "plt.hist(one['Price'], edgecolor='black');\n",
    "plt.xlabel(\"Price\")\n",
    "plt.ylabel('Count')\n",
    "plt.title(\"Distribution of Rent for 1 bedroom Apts in Chicago\");"
   ]
  },
  {
   "cell_type": "code",
   "execution_count": 157,
   "metadata": {},
   "outputs": [
    {
     "data": {
      "image/png": "[encoded data removed]",
      "text/plain": [
       "<Figure size 864x576 with 1 Axes>"
      ]
     },
     "metadata": {
      "needs_background": "light"
     },
     "output_type": "display_data"
    }
   ],
   "source": [
    "import matplotlib.pylab as pylab\n",
    "params = {'legend.fontsize': 'x-large',\n",
    "          'figure.figsize': (15, 5),\n",
    "         'axes.labelsize': 'x-large',\n",
    "         'axes.titlesize':'x-large',\n",
    "         'xtick.labelsize':'x-large',\n",
    "         'ytick.labelsize':'x-large'}\n",
    "pylab.rcParams.update(params)\n",
    "\n",
    "plt.figure(figsize=(12, 8))\n",
    "sns.scatterplot(x='Price', y='Sqft', hue='Num_Bedrooms', palette='summer', x_jitter=True, y_jitter=True, s=125, data=one.dropna())\n",
    "plt.legend(fontsize=12)\n",
    "plt.xlabel(\"Price\", fontsize=18)\n",
    "plt.ylabel(\"Square Footage\", fontsize=18);\n",
    "plt.title(\"Price vs. Square Footage Colored by Number of Bedrooms\", fontsize=18);"
   ]
  },
  {
   "cell_type": "code",
   "execution_count": 163,
   "metadata": {},
   "outputs": [
    {
     "data": {
      "image/png": "[encoded data removed]",
      "text/plain": [
       "<Figure size 864x576 with 1 Axes>"
      ]
     },
     "metadata": {
      "needs_background": "light"
     },
     "output_type": "display_data"
    }
   ],
   "source": [
    "plt.figure(figsize=(12, 8))\n",
    "sns.regplot(x='Price', y='Sqft', data=one.dropna());\n",
    "plt.title('Price vs. Square Footage Regression Plot');\n",
    "plt.xlabel(\"Price (USD)\");\n",
    "plt.ylabel(\"Square Feet\");"
   ]
  },
  {
   "cell_type": "code",
   "execution_count": 164,
   "metadata": {},
   "outputs": [
    {
     "data": {
      "text/html": [
       "<div>\n",
       "<style scoped>\n",
       "    .dataframe tbody tr th:only-of-type {\n",
       "        vertical-align: middle;\n",
       "    }\n",
       "\n",
       "    .dataframe tbody tr th {\n",
       "        vertical-align: top;\n",
       "    }\n",
       "\n",
       "    .dataframe thead th {\n",
       "        text-align: right;\n",
       "    }\n",
       "</style>\n",
       "<table border=\"1\" class=\"dataframe\">\n",
       "  <thead>\n",
       "    <tr style=\"text-align: right;\">\n",
       "      <th></th>\n",
       "      <th>Num_Bedrooms</th>\n",
       "      <th>Sqft</th>\n",
       "      <th>Price</th>\n",
       "    </tr>\n",
       "    <tr>\n",
       "      <th>Neighborhood</th>\n",
       "      <th></th>\n",
       "      <th></th>\n",
       "      <th></th>\n",
       "    </tr>\n",
       "  </thead>\n",
       "  <tbody>\n",
       "    <tr>\n",
       "      <th>Adams Near Wells</th>\n",
       "      <td>1.000000</td>\n",
       "      <td>NaN</td>\n",
       "      <td>1245.000000</td>\n",
       "    </tr>\n",
       "    <tr>\n",
       "      <th>Albany Park</th>\n",
       "      <td>1.666667</td>\n",
       "      <td>NaN</td>\n",
       "      <td>1300.000000</td>\n",
       "    </tr>\n",
       "    <tr>\n",
       "      <th>Andersonville</th>\n",
       "      <td>2.000000</td>\n",
       "      <td>900.0</td>\n",
       "      <td>1596.000000</td>\n",
       "    </tr>\n",
       "    <tr>\n",
       "      <th>Auburn Gresham</th>\n",
       "      <td>2.000000</td>\n",
       "      <td>843.0</td>\n",
       "      <td>915.000000</td>\n",
       "    </tr>\n",
       "    <tr>\n",
       "      <th>Avondale</th>\n",
       "      <td>2.000000</td>\n",
       "      <td>NaN</td>\n",
       "      <td>1395.000000</td>\n",
       "    </tr>\n",
       "    <tr>\n",
       "      <th>Bucktown</th>\n",
       "      <td>2.000000</td>\n",
       "      <td>1000.0</td>\n",
       "      <td>1250.000000</td>\n",
       "    </tr>\n",
       "    <tr>\n",
       "      <th>Chicago</th>\n",
       "      <td>1.800000</td>\n",
       "      <td>950.0</td>\n",
       "      <td>1042.500000</td>\n",
       "    </tr>\n",
       "    <tr>\n",
       "      <th>Chicago - Uptown</th>\n",
       "      <td>1.000000</td>\n",
       "      <td>NaN</td>\n",
       "      <td>950.000000</td>\n",
       "    </tr>\n",
       "    <tr>\n",
       "      <th>Downtown South Loop</th>\n",
       "      <td>2.000000</td>\n",
       "      <td>850.0</td>\n",
       "      <td>1550.000000</td>\n",
       "    </tr>\n",
       "    <tr>\n",
       "      <th>East Rogers Park</th>\n",
       "      <td>1.000000</td>\n",
       "      <td>NaN</td>\n",
       "      <td>1185.000000</td>\n",
       "    </tr>\n",
       "    <tr>\n",
       "      <th>Edgewater</th>\n",
       "      <td>1.000000</td>\n",
       "      <td>300.0</td>\n",
       "      <td>857.600000</td>\n",
       "    </tr>\n",
       "    <tr>\n",
       "      <th>Gold Coast - Lincoln Park - Old Town</th>\n",
       "      <td>2.000000</td>\n",
       "      <td>1200.0</td>\n",
       "      <td>2000.000000</td>\n",
       "    </tr>\n",
       "    <tr>\n",
       "      <th>Grand Crossing</th>\n",
       "      <td>2.000000</td>\n",
       "      <td>896.0</td>\n",
       "      <td>980.000000</td>\n",
       "    </tr>\n",
       "    <tr>\n",
       "      <th>Hyde Park</th>\n",
       "      <td>1.000000</td>\n",
       "      <td>1000.0</td>\n",
       "      <td>1000.000000</td>\n",
       "    </tr>\n",
       "    <tr>\n",
       "      <th>Kenwood</th>\n",
       "      <td>1.500000</td>\n",
       "      <td>805.0</td>\n",
       "      <td>1495.000000</td>\n",
       "    </tr>\n",
       "    <tr>\n",
       "      <th>Lake Shore Dr-Gold Coast</th>\n",
       "      <td>1.000000</td>\n",
       "      <td>950.0</td>\n",
       "      <td>1750.000000</td>\n",
       "    </tr>\n",
       "    <tr>\n",
       "      <th>Lakeview</th>\n",
       "      <td>1.000000</td>\n",
       "      <td>1000.0</td>\n",
       "      <td>1350.000000</td>\n",
       "    </tr>\n",
       "    <tr>\n",
       "      <th>Lincoln Park</th>\n",
       "      <td>1.000000</td>\n",
       "      <td>NaN</td>\n",
       "      <td>1250.000000</td>\n",
       "    </tr>\n",
       "    <tr>\n",
       "      <th>Lincoln Park, Chicago</th>\n",
       "      <td>1.000000</td>\n",
       "      <td>NaN</td>\n",
       "      <td>1695.000000</td>\n",
       "    </tr>\n",
       "    <tr>\n",
       "      <th>Lincoln Square</th>\n",
       "      <td>1.000000</td>\n",
       "      <td>NaN</td>\n",
       "      <td>1185.000000</td>\n",
       "    </tr>\n",
       "    <tr>\n",
       "      <th>Logan Square</th>\n",
       "      <td>1.888889</td>\n",
       "      <td>939.0</td>\n",
       "      <td>1267.000000</td>\n",
       "    </tr>\n",
       "    <tr>\n",
       "      <th>Pilsen</th>\n",
       "      <td>2.000000</td>\n",
       "      <td>NaN</td>\n",
       "      <td>1100.000000</td>\n",
       "    </tr>\n",
       "    <tr>\n",
       "      <th>Portage Park</th>\n",
       "      <td>1.000000</td>\n",
       "      <td>NaN</td>\n",
       "      <td>1000.000000</td>\n",
       "    </tr>\n",
       "    <tr>\n",
       "      <th>Ravenswood</th>\n",
       "      <td>1.333333</td>\n",
       "      <td>1100.0</td>\n",
       "      <td>1408.333333</td>\n",
       "    </tr>\n",
       "    <tr>\n",
       "      <th>River North</th>\n",
       "      <td>2.000000</td>\n",
       "      <td>1425.0</td>\n",
       "      <td>2088.800000</td>\n",
       "    </tr>\n",
       "    <tr>\n",
       "      <th>Rogers Park</th>\n",
       "      <td>1.000000</td>\n",
       "      <td>670.0</td>\n",
       "      <td>1078.750000</td>\n",
       "    </tr>\n",
       "    <tr>\n",
       "      <th>Roscoe Village</th>\n",
       "      <td>1.000000</td>\n",
       "      <td>1000.0</td>\n",
       "      <td>1775.000000</td>\n",
       "    </tr>\n",
       "    <tr>\n",
       "      <th>South Loop</th>\n",
       "      <td>2.000000</td>\n",
       "      <td>1123.0</td>\n",
       "      <td>1943.000000</td>\n",
       "    </tr>\n",
       "    <tr>\n",
       "      <th>South Shore</th>\n",
       "      <td>1.000000</td>\n",
       "      <td>500.0</td>\n",
       "      <td>770.000000</td>\n",
       "    </tr>\n",
       "    <tr>\n",
       "      <th>Streeterville</th>\n",
       "      <td>3.000000</td>\n",
       "      <td>NaN</td>\n",
       "      <td>2650.000000</td>\n",
       "    </tr>\n",
       "    <tr>\n",
       "      <th>Uptown</th>\n",
       "      <td>1.400000</td>\n",
       "      <td>675.0</td>\n",
       "      <td>1041.111111</td>\n",
       "    </tr>\n",
       "    <tr>\n",
       "      <th>Washington Park</th>\n",
       "      <td>3.000000</td>\n",
       "      <td>1500.0</td>\n",
       "      <td>1350.000000</td>\n",
       "    </tr>\n",
       "    <tr>\n",
       "      <th>West Loop</th>\n",
       "      <td>1.000000</td>\n",
       "      <td>920.0</td>\n",
       "      <td>1221.761905</td>\n",
       "    </tr>\n",
       "    <tr>\n",
       "      <th>West Town</th>\n",
       "      <td>2.000000</td>\n",
       "      <td>2000.0</td>\n",
       "      <td>2000.000000</td>\n",
       "    </tr>\n",
       "    <tr>\n",
       "      <th>West Wicker Park</th>\n",
       "      <td>3.000000</td>\n",
       "      <td>1200.0</td>\n",
       "      <td>1465.000000</td>\n",
       "    </tr>\n",
       "    <tr>\n",
       "      <th>Wicker Park</th>\n",
       "      <td>2.000000</td>\n",
       "      <td>NaN</td>\n",
       "      <td>1980.000000</td>\n",
       "    </tr>\n",
       "    <tr>\n",
       "      <th>Wrigleyville</th>\n",
       "      <td>2.000000</td>\n",
       "      <td>NaN</td>\n",
       "      <td>1325.000000</td>\n",
       "    </tr>\n",
       "  </tbody>\n",
       "</table>\n",
       "</div>"
      ],
      "text/plain": [
       "                                      Num_Bedrooms    Sqft        Price\n",
       "Neighborhood                                                           \n",
       "Adams Near Wells                          1.000000     NaN  1245.000000\n",
       "Albany Park                               1.666667     NaN  1300.000000\n",
       "Andersonville                             2.000000   900.0  1596.000000\n",
       "Auburn Gresham                            2.000000   843.0   915.000000\n",
       "Avondale                                  2.000000     NaN  1395.000000\n",
       "Bucktown                                  2.000000  1000.0  1250.000000\n",
       "Chicago                                   1.800000   950.0  1042.500000\n",
       "Chicago - Uptown                          1.000000     NaN   950.000000\n",
       "Downtown South Loop                       2.000000   850.0  1550.000000\n",
       "East Rogers Park                          1.000000     NaN  1185.000000\n",
       "Edgewater                                 1.000000   300.0   857.600000\n",
       "Gold Coast - Lincoln Park - Old Town      2.000000  1200.0  2000.000000\n",
       "Grand Crossing                            2.000000   896.0   980.000000\n",
       "Hyde Park                                 1.000000  1000.0  1000.000000\n",
       "Kenwood                                   1.500000   805.0  1495.000000\n",
       "Lake Shore Dr-Gold Coast                  1.000000   950.0  1750.000000\n",
       "Lakeview                                  1.000000  1000.0  1350.000000\n",
       "Lincoln Park                              1.000000     NaN  1250.000000\n",
       "Lincoln Park, Chicago                     1.000000     NaN  1695.000000\n",
       "Lincoln Square                            1.000000     NaN  1185.000000\n",
       "Logan Square                              1.888889   939.0  1267.000000\n",
       "Pilsen                                    2.000000     NaN  1100.000000\n",
       "Portage Park                              1.000000     NaN  1000.000000\n",
       "Ravenswood                                1.333333  1100.0  1408.333333\n",
       "River North                               2.000000  1425.0  2088.800000\n",
       "Rogers Park                               1.000000   670.0  1078.750000\n",
       "Roscoe Village                            1.000000  1000.0  1775.000000\n",
       "South Loop                                2.000000  1123.0  1943.000000\n",
       "South Shore                               1.000000   500.0   770.000000\n",
       "Streeterville                             3.000000     NaN  2650.000000\n",
       "Uptown                                    1.400000   675.0  1041.111111\n",
       "Washington Park                           3.000000  1500.0  1350.000000\n",
       "West Loop                                 1.000000   920.0  1221.761905\n",
       "West Town                                 2.000000  2000.0  2000.000000\n",
       "West Wicker Park                          3.000000  1200.0  1465.000000\n",
       "Wicker Park                               2.000000     NaN  1980.000000\n",
       "Wrigleyville                              2.000000     NaN  1325.000000"
      ]
     },
     "execution_count": 164,
     "metadata": {},
     "output_type": "execute_result"
    }
   ],
   "source": [
    "#group by neighborhood\n",
    "ch_apts.groupby('Neighborhood').mean()"
   ]
  },
  {
   "cell_type": "code",
   "execution_count": 166,
   "metadata": {},
   "outputs": [
    {
     "data": {
      "text/plain": [
       "Neighborhood\n",
       "South Shore                  770.000000\n",
       "Chicago                      942.000000\n",
       "Chicago - Uptown             950.000000\n",
       "Edgewater                    957.000000\n",
       "Hyde Park                   1000.000000\n",
       "Portage Park                1000.000000\n",
       "Uptown                      1057.666667\n",
       "Lincoln Square              1120.000000\n",
       "Albany Park                 1175.000000\n",
       "East Rogers Park            1185.000000\n",
       "Adams Near Wells            1245.000000\n",
       "Rogers Park                 1260.000000\n",
       "Logan Square                1295.000000\n",
       "Lakeview                    1350.000000\n",
       "Kenwood                     1395.000000\n",
       "Lincoln Park                1400.000000\n",
       "Ravenswood                  1437.500000\n",
       "West Loop                   1655.375000\n",
       "Lincoln Park, Chicago       1695.000000\n",
       "Lake Shore Dr-Gold Coast    1750.000000\n",
       "Roscoe Village              1775.000000\n",
       "River North                 2550.000000\n",
       "Name: Price, dtype: float64"
      ]
     },
     "execution_count": 166,
     "metadata": {},
     "output_type": "execute_result"
    }
   ],
   "source": [
    "#sort price to find cheapest\n",
    "one.groupby('Neighborhood').mean()['Price'].sort_values()"
   ]
  },
  {
   "cell_type": "code",
   "execution_count": 154,
   "metadata": {
    "colab": {},
    "colab_type": "code",
    "id": "sLu8ltkzXlus"
   },
   "outputs": [
    {
     "data": {
      "image/png": "[encoded data removed]",
      "text/plain": [
       "<Figure size 1080x720 with 1 Axes>"
      ]
     },
     "metadata": {
      "needs_background": "light"
     },
     "output_type": "display_data"
    }
   ],
   "source": [
    "plt.figure(figsize=(15,10))\n",
    "params = {'legend.fontsize': 'x-large',\n",
    "          'figure.figsize': (15, 5),\n",
    "         'axes.labelsize': 'x-large',\n",
    "         'axes.titlesize':'x-large',\n",
    "         'xtick.labelsize':'x-large',\n",
    "         'ytick.labelsize':'x-large'}\n",
    "pylab.rcParams.update(params)\n",
    "\n",
    "sns.boxplot(x='Neighborhood', y='Price', data=one)\n",
    "plt.xlabel(\"Neighborhood\");\n",
    "plt.xticks(rotation=75)\n",
    "plt.ylabel(\"Price USD\");\n",
    "plt.title(\"Prices by Neighborhood - Boxplots\");"
   ]
  },
  {
   "cell_type": "code",
   "execution_count": 0,
   "metadata": {
    "colab": {},
    "colab_type": "code",
    "id": "MMaWO5vgXlnc"
   },
   "outputs": [],
   "source": []
  },
  {
   "cell_type": "code",
   "execution_count": 0,
   "metadata": {
    "colab": {},
    "colab_type": "code",
    "id": "14HUxGXDXllp"
   },
   "outputs": [],
   "source": []
  },
  {
   "cell_type": "code",
   "execution_count": 0,
   "metadata": {
    "colab": {},
    "colab_type": "code",
    "id": "-siXGg8RXlf6"
   },
   "outputs": [],
   "source": []
  }
 ],
 "metadata": {
  "colab": {
   "collapsed_sections": [],
   "name": "Welcome To Colaboratory",
   "provenance": []
  },
  "kernelspec": {
   "display_name": "Python 3",
   "language": "python",
   "name": "python3"
  },
  "language_info": {
   "codemirror_mode": {
    "name": "ipython",
    "version": 3
   },
   "file_extension": ".py",
   "mimetype": "text/x-python",
   "name": "python",
   "nbconvert_exporter": "python",
   "pygments_lexer": "ipython3",
   "version": "3.7.6"
  }
 },
 "nbformat": 4,
 "nbformat_minor": 1
}
