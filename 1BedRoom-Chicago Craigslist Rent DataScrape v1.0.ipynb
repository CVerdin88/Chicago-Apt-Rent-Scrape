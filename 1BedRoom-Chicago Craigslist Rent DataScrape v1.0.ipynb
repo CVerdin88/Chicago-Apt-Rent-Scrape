{
 "cells": [
  {
   "cell_type": "markdown",
   "metadata": {},
   "source": [
    "Updated: 12/8/2020\n",
    "\n",
    "Scraping Craigslist's rental section to get accurate representation of the prices and square footage of 1 bedrooms throughout different Chicago neighorhoods."
   ]
  },
  {
   "cell_type": "code",
   "execution_count": 8,
   "metadata": {
    "colab": {
     "base_uri": "https://localhost:8080/",
     "height": 52
    },
    "colab_type": "code",
    "id": "_jGyBgvjXlXo",
    "outputId": "a5319979-e33b-460f-e3f5-73cc2bb58cb8"
   },
   "outputs": [
    {
     "name": "stdout",
     "output_type": "stream",
     "text": [
      "<class 'bs4.element.ResultSet'>\n",
      "120\n"
     ]
    }
   ],
   "source": [
    "\n",
    "#import get to call a get request on the site\n",
    "from requests import get\n",
    "\n",
    "#get the 1st page of the chicago housing prices \n",
    "#get rid of posts without a pic using their filter\n",
    "response = get('https://chicago.craigslist.org/search/chc/apa?hasPic=1&availabilityMode=0')\n",
    "\n",
    "from bs4 import BeautifulSoup\n",
    "html_soup = BeautifulSoup(response.text, 'html.parser')\n",
    "\n",
    "#get the macro-container for the housing posts\n",
    "posts = html_soup.find_all('li', class_= 'result-row')\n",
    "print(type(posts)) #to double check that I got a ResultSet\n",
    "print(len(posts)) #to double check I got 120 (elements/page)"
   ]
  },
  {
   "cell_type": "code",
   "execution_count": 9,
   "metadata": {
    "colab": {},
    "colab_type": "code",
    "id": "b1vwc4vZXlaF"
   },
   "outputs": [],
   "source": [
    "#get first post\n",
    "post_one = posts[0]"
   ]
  },
  {
   "cell_type": "code",
   "execution_count": 10,
   "metadata": {
    "colab": {
     "base_uri": "https://localhost:8080/",
     "height": 34
    },
    "colab_type": "code",
    "id": "BaxtdUl4Xlci",
    "outputId": "9d9cb440-03e9-4eb4-dbb6-2729989a78e9"
   },
   "outputs": [
    {
     "data": {
      "text/plain": [
       "'$1,500'"
      ]
     },
     "execution_count": 10,
     "metadata": {},
     "output_type": "execute_result"
    }
   ],
   "source": [
    "#price of 1st post\n",
    "post_one_price = post_one.a.text\n",
    "#remove comma from listing. Need to do later for all the posts\n",
    "#post_one_price = post_one.a.text.replace(',', '')\n",
    "post_one_price.strip()"
   ]
  },
  {
   "cell_type": "code",
   "execution_count": 11,
   "metadata": {
    "colab": {},
    "colab_type": "code",
    "id": "pqmoMN5VXlg4"
   },
   "outputs": [],
   "source": [
    "#get the time of the post in datetime format\n",
    "post_one_time = post_one.find('time', class_= 'result-date')\n",
    "post_one_datetime = post_one_time['datetime']"
   ]
  },
  {
   "cell_type": "code",
   "execution_count": 12,
   "metadata": {
    "colab": {},
    "colab_type": "code",
    "id": "xjHdFsk7XljA"
   },
   "outputs": [],
   "source": [
    "#title is a and that class, link is grabbing the href attribute of that variable\n",
    "post_one_title = post_one.find('a', class_='result-title hdrlnk')\n",
    "post_one_link = post_one_title['href']\n",
    "\n",
    "#easy to grab the post title by taking the text element of the title variable\n",
    "post_one_title_text = post_one_title.text"
   ]
  },
  {
   "cell_type": "code",
   "execution_count": 13,
   "metadata": {},
   "outputs": [],
   "source": [
    "#execute multiple statements per cell\n",
    "from IPython.core.interactiveshell import InteractiveShell\n",
    "InteractiveShell.ast_node_interactivity = \"all\""
   ]
  },
  {
   "cell_type": "code",
   "execution_count": 14,
   "metadata": {
    "colab": {
     "base_uri": "https://localhost:8080/",
     "height": 200
    },
    "colab_type": "code",
    "id": "aCOC0VNZXlpN",
    "outputId": "f2483405-30ba-476d-9bc7-7240b120064c"
   },
   "outputs": [
    {
     "data": {
      "text/plain": [
       "'2br'"
      ]
     },
     "execution_count": 14,
     "metadata": {},
     "output_type": "execute_result"
    },
    {
     "data": {
      "text/plain": [
       "<span class=\"housing\">\n",
       "                    2br -\n",
       "                </span>"
      ]
     },
     "execution_count": 14,
     "metadata": {},
     "output_type": "execute_result"
    },
    {
     "ename": "IndexError",
     "evalue": "list index out of range",
     "output_type": "error",
     "traceback": [
      "\u001b[1;31m---------------------------------------------------------------------------\u001b[0m",
      "\u001b[1;31mIndexError\u001b[0m                                Traceback (most recent call last)",
      "\u001b[1;32m<ipython-input-14-48c7016b7f3d>\u001b[0m in \u001b[0;36m<module>\u001b[1;34m\u001b[0m\n\u001b[0;32m      8\u001b[0m \u001b[0mpost_one_sqft\u001b[0m\u001b[1;33m\u001b[0m\u001b[1;33m\u001b[0m\u001b[0m\n\u001b[0;32m      9\u001b[0m \u001b[1;33m\u001b[0m\u001b[0m\n\u001b[1;32m---> 10\u001b[1;33m \u001b[0mpost_one_sqft\u001b[0m \u001b[1;33m=\u001b[0m \u001b[0mpost_one\u001b[0m\u001b[1;33m.\u001b[0m\u001b[0mfind\u001b[0m\u001b[1;33m(\u001b[0m\u001b[1;34m'span'\u001b[0m\u001b[1;33m,\u001b[0m \u001b[0mclass_\u001b[0m \u001b[1;33m=\u001b[0m \u001b[1;34m'housing'\u001b[0m\u001b[1;33m)\u001b[0m\u001b[1;33m.\u001b[0m\u001b[0mtext\u001b[0m\u001b[1;33m.\u001b[0m\u001b[0msplit\u001b[0m\u001b[1;33m(\u001b[0m\u001b[1;33m)\u001b[0m\u001b[1;33m[\u001b[0m\u001b[1;36m2\u001b[0m\u001b[1;33m]\u001b[0m\u001b[1;33m[\u001b[0m\u001b[1;33m:\u001b[0m\u001b[1;33m-\u001b[0m\u001b[1;36m3\u001b[0m\u001b[1;33m]\u001b[0m\u001b[1;33m\u001b[0m\u001b[1;33m\u001b[0m\u001b[0m\n\u001b[0m\u001b[0;32m     11\u001b[0m \u001b[0mpost_one_sqft\u001b[0m\u001b[1;33m\u001b[0m\u001b[1;33m\u001b[0m\u001b[0m\n\u001b[0;32m     12\u001b[0m \u001b[1;31m#post_one_sqft = post_one.find('span', class_ = 'housing').text.split()[2][:-3] #cleans the ft2 at the end\u001b[0m\u001b[1;33m\u001b[0m\u001b[1;33m\u001b[0m\u001b[1;33m\u001b[0m\u001b[0m\n",
      "\u001b[1;31mIndexError\u001b[0m: list index out of range"
     ]
    }
   ],
   "source": [
    "#grabs the whole segment of housing details. We will need missing value handling in the loop as this kind of detail is not common in posts\n",
    "#the text can be split, and we can use indexing to grab the elements we want. number of bedrooms is the first element.\n",
    "#sqft is the third element\n",
    "post_one_num_bedrooms = post_one.find('span', class_ = 'housing').text.split()[0]\n",
    "post_one_num_bedrooms\n",
    "\n",
    "post_one_sqft = post_one.find('span', class_ = 'housing')\n",
    "post_one_sqft\n",
    "\n",
    "post_one_sqft = post_one.find('span', class_ = 'housing').text.split()[2][:-3]\n",
    "post_one_sqft\n",
    "#post_one_sqft = post_one.find('span', class_ = 'housing').text.split()[2][:-3] #cleans the ft2 at the end"
   ]
  },
  {
   "cell_type": "code",
   "execution_count": 15,
   "metadata": {
    "colab": {},
    "colab_type": "code",
    "id": "-x-QMD_NXlsF"
   },
   "outputs": [],
   "source": [
    "#the neighborhood is grabbed by finding the span class 'result-hood' and pulling the text element from there\n",
    "\n",
    "post_one_hood = posts[0].find('span', class_='result-hood').text"
   ]
  },
  {
   "cell_type": "code",
   "execution_count": 16,
   "metadata": {
    "colab": {
     "base_uri": "https://localhost:8080/",
     "height": 520
    },
    "colab_type": "code",
    "id": "-kqViHwzXlwa",
    "outputId": "26f8f94e-c23a-4fd7-9abf-4c7bada70b24"
   },
   "outputs": [
    {
     "name": "stdout",
     "output_type": "stream",
     "text": [
      "Page 1 scraped successfully!\n",
      "Page 2 scraped successfully!\n",
      "Page 3 scraped successfully!\n",
      "Page 4 scraped successfully!\n",
      "Page 5 scraped successfully!\n",
      "Page 6 scraped successfully!\n",
      "Page 7 scraped successfully!\n",
      "Page 8 scraped successfully!\n",
      "Page 9 scraped successfully!\n",
      "Page 10 scraped successfully!\n",
      "Page 11 scraped successfully!\n",
      "Page 12 scraped successfully!\n",
      "Page 13 scraped successfully!\n",
      "Page 14 scraped successfully!\n",
      "Page 15 scraped successfully!\n",
      "Page 16 scraped successfully!\n",
      "Page 17 scraped successfully!\n",
      "Page 18 scraped successfully!\n",
      "Page 19 scraped successfully!\n",
      "Page 20 scraped successfully!\n",
      "Page 21 scraped successfully!\n",
      "Page 22 scraped successfully!\n",
      "Page 23 scraped successfully!\n",
      "Page 24 scraped successfully!\n",
      "Page 25 scraped successfully!\n",
      "Page 26 scraped successfully!\n",
      "\n",
      "\n",
      "Scrape complete!\n"
     ]
    }
   ],
   "source": [
    "#build out the loop\n",
    "from time import sleep\n",
    "import re\n",
    "##this will allow us to scrape without getting blocked by craigslist\n",
    "from random import randint #avoid throttling by not sending too many requests one after the other\n",
    "from warnings import warn\n",
    "from time import time\n",
    "from IPython.core.display import clear_output\n",
    "import numpy as np\n",
    "\n",
    "#find the total number of posts to find the limit of the pagination\n",
    "results_num = html_soup.find('div', class_= 'search-legend')\n",
    "results_total = int(results_num.find('span', class_='totalcount').text) #pulled the total count of posts as the upper bound of the pages array\n",
    "\n",
    "#each page has 119 posts so each new page is defined as follows: s=120, s=240, s=360, and so on. So we need to step in size 120 in the np.arange function\n",
    "pages = np.arange(0, results_total+1, 120)\n",
    "\n",
    "iterations = 0\n",
    "\n",
    "post_timing = []\n",
    "post_hoods = []\n",
    "post_title_texts = []\n",
    "bedroom_counts = []\n",
    "sqfts = []\n",
    "post_links = []\n",
    "post_prices = []\n",
    "\n",
    "for page in pages:\n",
    "    \n",
    "    #get request\n",
    "    response = get(\"https://chicago.craigslist.org/search/chc/apa?\" \n",
    "                   + \"s=\" #the parameter for defining the page number \n",
    "                   + str(page) #the page number in the pages array from earlier\n",
    "                   + \"&hasPic=1\"\n",
    "                   + \"&availabilityMode=0\")\n",
    "\n",
    "    sleep(randint(1,5))\n",
    "     \n",
    "    #throw warning for status codes that are not 200\n",
    "    if response.status_code != 200:\n",
    "        warn('Request: {}; Status code: {}'.format(requests, response.status_code))\n",
    "        \n",
    "    #define the html text\n",
    "    page_html = BeautifulSoup(response.text, 'html.parser')\n",
    "    \n",
    "    #define the posts\n",
    "    posts = html_soup.find_all('li', class_= 'result-row')\n",
    "        \n",
    "    #extract data item-wise\n",
    "    for post in posts:\n",
    "\n",
    "        if post.find('span', class_ = 'result-hood') is not None:\n",
    "\n",
    "            #posting date\n",
    "            #grab the datetime element 0 for date and 1 for time\n",
    "            post_datetime = post.find('time', class_= 'result-date')['datetime']\n",
    "            post_timing.append(post_datetime)\n",
    "\n",
    "            #neighborhoods\n",
    "            post_hood = post.find('span', class_= 'result-hood').text\n",
    "            post_hoods.append(post_hood)\n",
    "\n",
    "            #title text\n",
    "            post_title = post.find('a', class_='result-title hdrlnk')\n",
    "            post_title_text = post_title.text\n",
    "            post_title_texts.append(post_title_text)\n",
    "\n",
    "            #post link\n",
    "            post_link = post_title['href']\n",
    "            post_links.append(post_link)\n",
    "            \n",
    "            #removes the \\n whitespace from each side, removes the currency symbol, the comma \n",
    "            #and turns it into an int\n",
    "            post_price = int(post.a.text.strip().replace(\"$\", \"\").replace(\",\",\"\"))\n",
    "            #post_price = int(post.a.text.strip().replace(',', '')\n",
    "            post_prices.append(post_price)\n",
    "                        \n",
    "            if post.find('span', class_ = 'housing') is not None:\n",
    "                \n",
    "                #if the first element is accidentally square footage\n",
    "                if 'ft2' in post.find('span', class_ = 'housing').text.split()[0]:\n",
    "                    \n",
    "                    #make bedroom nan\n",
    "                    bedroom_count = np.nan\n",
    "                    bedroom_counts.append(bedroom_count)\n",
    "                    \n",
    "                    #make sqft the first element\n",
    "                    sqft = int(post.find('span', class_ = 'housing').text.split()[0][:-3])\n",
    "                    sqfts.append(sqft)\n",
    "                    \n",
    "                #if the length of the housing details element is more than 2\n",
    "                elif len(post.find('span', class_ = 'housing').text.split()) > 2:\n",
    "                    \n",
    "                    #therefore element 0 will be bedroom count\n",
    "                    bedroom_count = post.find('span', class_ = 'housing').text.replace(\"br\", \"\").split()[0]\n",
    "                    bedroom_counts.append(bedroom_count)\n",
    "                    \n",
    "                    #and sqft will be number 3, so set these here and append\n",
    "                    sqft = int(post.find('span', class_ = 'housing').text.split()[2][:-3])\n",
    "                    sqfts.append(sqft)\n",
    "                    \n",
    "                #if there is num bedrooms but no sqft\n",
    "                elif len(post.find('span', class_ = 'housing').text.split()) == 2:\n",
    "                    \n",
    "                    #therefore element 0 will be bedroom count\n",
    "                    bedroom_count = post.find('span', class_ = 'housing').text.replace(\"br\", \"\").split()[0]\n",
    "                    bedroom_counts.append(bedroom_count)\n",
    "                    \n",
    "                    #and sqft will be number 3, so set these here and append\n",
    "                    sqft = np.nan\n",
    "                    sqfts.append(sqft)                    \n",
    "                \n",
    "                else:\n",
    "                    bedroom_count = np.nan\n",
    "                    bedroom_counts.append(bedroom_count)\n",
    "                \n",
    "                    sqft = np.nan\n",
    "                    sqfts.append(sqft)\n",
    "                \n",
    "            #if none of those conditions catch, make bedroom nan, this won't be needed    \n",
    "            else:\n",
    "                bedroom_count = np.nan\n",
    "                bedroom_counts.append(bedroom_count)\n",
    "                \n",
    "                sqft = np.nan\n",
    "                sqfts.append(sqft)\n",
    "            #    bedroom_counts.append(bedroom_count)\n",
    "                \n",
    "            #    sqft = np.nan\n",
    "            #    sqfts.append(sqft)\n",
    "                \n",
    "    iterations += 1\n",
    "    print(\"Page \" + str(iterations) + \" scraped successfully!\")\n",
    "\n",
    "print(\"\\n\")\n",
    "\n",
    "print(\"Scrape complete!\")"
   ]
  },
  {
   "cell_type": "code",
   "execution_count": 17,
   "metadata": {
    "colab": {
     "base_uri": "https://localhost:8080/",
     "height": 754
    },
    "colab_type": "code",
    "id": "Qhfokzt7XlzC",
    "outputId": "e418b495-e965-4c4b-e0f9-02892661535a"
   },
   "outputs": [
    {
     "name": "stdout",
     "output_type": "stream",
     "text": [
      "<class 'pandas.core.frame.DataFrame'>\n",
      "RangeIndex: 2626 entries, 0 to 2625\n",
      "Data columns (total 7 columns):\n",
      " #   Column        Non-Null Count  Dtype  \n",
      "---  ------        --------------  -----  \n",
      " 0   Posted        2626 non-null   object \n",
      " 1   Neighborhood  2626 non-null   object \n",
      " 2   Post_Title    2626 non-null   object \n",
      " 3   Num_Bedrooms  2314 non-null   object \n",
      " 4   Sqft          624 non-null    float64\n",
      " 5   URL           2626 non-null   object \n",
      " 6   Price         2626 non-null   int64  \n",
      "dtypes: float64(1), int64(1), object(5)\n",
      "memory usage: 143.7+ KB\n",
      "None\n"
     ]
    },
    {
     "data": {
      "text/html": [
       "<div>\n",
       "<style scoped>\n",
       "    .dataframe tbody tr th:only-of-type {\n",
       "        vertical-align: middle;\n",
       "    }\n",
       "\n",
       "    .dataframe tbody tr th {\n",
       "        vertical-align: top;\n",
       "    }\n",
       "\n",
       "    .dataframe thead th {\n",
       "        text-align: right;\n",
       "    }\n",
       "</style>\n",
       "<table border=\"1\" class=\"dataframe\">\n",
       "  <thead>\n",
       "    <tr style=\"text-align: right;\">\n",
       "      <th></th>\n",
       "      <th>Posted</th>\n",
       "      <th>Neighborhood</th>\n",
       "      <th>Post_Title</th>\n",
       "      <th>Num_Bedrooms</th>\n",
       "      <th>Sqft</th>\n",
       "      <th>URL</th>\n",
       "      <th>Price</th>\n",
       "    </tr>\n",
       "  </thead>\n",
       "  <tbody>\n",
       "    <tr>\n",
       "      <th>0</th>\n",
       "      <td>2020-12-08 12:56</td>\n",
       "      <td>(CHICAGO)</td>\n",
       "      <td>AVAILABLE NOW!!!!-3802 N SEELEY-2S 2 BED/ 1 BATH</td>\n",
       "      <td>2</td>\n",
       "      <td>NaN</td>\n",
       "      <td>https://chicago.craigslist.org/chc/apa/d/chica...</td>\n",
       "      <td>1500</td>\n",
       "    </tr>\n",
       "    <tr>\n",
       "      <th>1</th>\n",
       "      <td>2020-12-08 12:55</td>\n",
       "      <td>(Edgewater/ Chicago)</td>\n",
       "      <td>1 bedroom in Edgewater neighborhood 1ST MONTH ...</td>\n",
       "      <td>1</td>\n",
       "      <td>NaN</td>\n",
       "      <td>https://chicago.craigslist.org/chc/apa/d/chica...</td>\n",
       "      <td>875</td>\n",
       "    </tr>\n",
       "    <tr>\n",
       "      <th>2</th>\n",
       "      <td>2020-12-08 12:50</td>\n",
       "      <td>(South Loop)</td>\n",
       "      <td>SOUTH LOOP! AMAZING LOFT STYLE Jr 1 bed WD, hd...</td>\n",
       "      <td>1</td>\n",
       "      <td>NaN</td>\n",
       "      <td>https://chicago.craigslist.org/chc/apa/d/chica...</td>\n",
       "      <td>1170</td>\n",
       "    </tr>\n",
       "    <tr>\n",
       "      <th>3</th>\n",
       "      <td>2020-12-08 12:50</td>\n",
       "      <td>(Pilsen/UIC Area/ Pink Line)</td>\n",
       "      <td>RENOVATED Pilsen 1 Bed with in-unit washer/dryer</td>\n",
       "      <td>1</td>\n",
       "      <td>NaN</td>\n",
       "      <td>https://chicago.craigslist.org/chc/apa/d/chica...</td>\n",
       "      <td>1400</td>\n",
       "    </tr>\n",
       "    <tr>\n",
       "      <th>4</th>\n",
       "      <td>2020-12-08 12:48</td>\n",
       "      <td>(CHICAGO)</td>\n",
       "      <td>AVAILABLE NOW!!!!-HOT SOUTHPORT CORRIDOR LOCAT...</td>\n",
       "      <td>1</td>\n",
       "      <td>NaN</td>\n",
       "      <td>https://chicago.craigslist.org/chc/apa/d/chica...</td>\n",
       "      <td>1495</td>\n",
       "    </tr>\n",
       "    <tr>\n",
       "      <th>5</th>\n",
       "      <td>2020-12-08 12:44</td>\n",
       "      <td>(On 70th St. and Crandon)</td>\n",
       "      <td>2209-2211 E. 70th St: HUGE 2BR/1BA Apartment</td>\n",
       "      <td>2</td>\n",
       "      <td>1000.0</td>\n",
       "      <td>https://chicago.craigslist.org/chc/apa/d/70th-...</td>\n",
       "      <td>1175</td>\n",
       "    </tr>\n",
       "    <tr>\n",
       "      <th>6</th>\n",
       "      <td>2020-12-08 12:42</td>\n",
       "      <td>(Uptown/Andersonvile)</td>\n",
       "      <td>1 bedroom in west uptown/andersonvile 1ST MONT...</td>\n",
       "      <td>1</td>\n",
       "      <td>NaN</td>\n",
       "      <td>https://chicago.craigslist.org/chc/apa/d/chica...</td>\n",
       "      <td>895</td>\n",
       "    </tr>\n",
       "    <tr>\n",
       "      <th>7</th>\n",
       "      <td>2020-12-08 12:41</td>\n",
       "      <td>(Pilsen)</td>\n",
       "      <td>Pilsen apartment for rent</td>\n",
       "      <td>2</td>\n",
       "      <td>NaN</td>\n",
       "      <td>https://chicago.craigslist.org/chc/apa/d/chica...</td>\n",
       "      <td>950</td>\n",
       "    </tr>\n",
       "    <tr>\n",
       "      <th>8</th>\n",
       "      <td>2020-12-08 12:40</td>\n",
       "      <td>(CHICAGO)</td>\n",
       "      <td>HOT SOUTHPORT CORRIDOR LOCATION-1417 W CORNELI...</td>\n",
       "      <td>1</td>\n",
       "      <td>NaN</td>\n",
       "      <td>https://chicago.craigslist.org/chc/apa/d/chica...</td>\n",
       "      <td>1495</td>\n",
       "    </tr>\n",
       "    <tr>\n",
       "      <th>9</th>\n",
       "      <td>2020-12-08 12:40</td>\n",
       "      <td>(South Shore)</td>\n",
       "      <td>2209 E 70th St - LOVELY GARDEN UNIT 1BD/1BTH</td>\n",
       "      <td>1</td>\n",
       "      <td>NaN</td>\n",
       "      <td>https://chicago.craigslist.org/chc/apa/d/chica...</td>\n",
       "      <td>800</td>\n",
       "    </tr>\n",
       "  </tbody>\n",
       "</table>\n",
       "</div>"
      ],
      "text/plain": [
       "             Posted                   Neighborhood  \\\n",
       "0  2020-12-08 12:56                      (CHICAGO)   \n",
       "1  2020-12-08 12:55           (Edgewater/ Chicago)   \n",
       "2  2020-12-08 12:50                   (South Loop)   \n",
       "3  2020-12-08 12:50   (Pilsen/UIC Area/ Pink Line)   \n",
       "4  2020-12-08 12:48                      (CHICAGO)   \n",
       "5  2020-12-08 12:44      (On 70th St. and Crandon)   \n",
       "6  2020-12-08 12:42          (Uptown/Andersonvile)   \n",
       "7  2020-12-08 12:41                       (Pilsen)   \n",
       "8  2020-12-08 12:40                      (CHICAGO)   \n",
       "9  2020-12-08 12:40                  (South Shore)   \n",
       "\n",
       "                                          Post_Title Num_Bedrooms    Sqft  \\\n",
       "0   AVAILABLE NOW!!!!-3802 N SEELEY-2S 2 BED/ 1 BATH            2     NaN   \n",
       "1  1 bedroom in Edgewater neighborhood 1ST MONTH ...            1     NaN   \n",
       "2  SOUTH LOOP! AMAZING LOFT STYLE Jr 1 bed WD, hd...            1     NaN   \n",
       "3   RENOVATED Pilsen 1 Bed with in-unit washer/dryer            1     NaN   \n",
       "4  AVAILABLE NOW!!!!-HOT SOUTHPORT CORRIDOR LOCAT...            1     NaN   \n",
       "5       2209-2211 E. 70th St: HUGE 2BR/1BA Apartment            2  1000.0   \n",
       "6  1 bedroom in west uptown/andersonvile 1ST MONT...            1     NaN   \n",
       "7                          Pilsen apartment for rent            2     NaN   \n",
       "8  HOT SOUTHPORT CORRIDOR LOCATION-1417 W CORNELI...            1     NaN   \n",
       "9       2209 E 70th St - LOVELY GARDEN UNIT 1BD/1BTH            1     NaN   \n",
       "\n",
       "                                                 URL  Price  \n",
       "0  https://chicago.craigslist.org/chc/apa/d/chica...   1500  \n",
       "1  https://chicago.craigslist.org/chc/apa/d/chica...    875  \n",
       "2  https://chicago.craigslist.org/chc/apa/d/chica...   1170  \n",
       "3  https://chicago.craigslist.org/chc/apa/d/chica...   1400  \n",
       "4  https://chicago.craigslist.org/chc/apa/d/chica...   1495  \n",
       "5  https://chicago.craigslist.org/chc/apa/d/70th-...   1175  \n",
       "6  https://chicago.craigslist.org/chc/apa/d/chica...    895  \n",
       "7  https://chicago.craigslist.org/chc/apa/d/chica...    950  \n",
       "8  https://chicago.craigslist.org/chc/apa/d/chica...   1495  \n",
       "9  https://chicago.craigslist.org/chc/apa/d/chica...    800  "
      ]
     },
     "execution_count": 17,
     "metadata": {},
     "output_type": "execute_result"
    }
   ],
   "source": [
    "import pandas as pd\n",
    "\n",
    "ch_apts = pd.DataFrame({'Posted': post_timing,\n",
    "                       'Neighborhood': post_hoods,\n",
    "                       'Post_Title': post_title_texts,\n",
    "                       'Num_Bedrooms': bedroom_counts,\n",
    "                        'Sqft': sqfts,\n",
    "                        'URL': post_links,\n",
    "                       'Price': post_prices})\n",
    "print(ch_apts.info())\n",
    "ch_apts.head(10)"
   ]
  },
  {
   "cell_type": "code",
   "execution_count": null,
   "metadata": {
    "colab": {},
    "colab_type": "code",
    "id": "TE8SXNrUXl5u"
   },
   "outputs": [],
   "source": [
    "########################DATA CLEANING\n"
   ]
  },
  {
   "cell_type": "code",
   "execution_count": 18,
   "metadata": {
    "colab": {},
    "colab_type": "code",
    "id": "HTnHEt61Xl82"
   },
   "outputs": [
    {
     "data": {
      "text/plain": [
       "101"
      ]
     },
     "execution_count": 18,
     "metadata": {},
     "output_type": "execute_result"
    }
   ],
   "source": [
    "#Deleting duplicate postings bc people spam Craigslist with fake postings\n",
    "# the duplicate postings are most likely spam\n",
    "#Displays uniqe posts\n",
    "ch_apts = ch_apts.drop_duplicates(subset='URL')\n",
    "len(ch_apts.drop_duplicates(subset='URL'))\n",
    "\n",
    "#converts the # of bedrooms to a float (since np.nan is a float too)\n",
    "ch_apts['Num_Bedrooms'] = ch_apts['Num_Bedrooms'].apply(lambda x: float(x))\n",
    "\n",
    "#convert datetime string into datetime object to work with it\n",
    "from datetime import datetime\n",
    "ch_apts['Posted'] = pd.to_datetime(ch_apts['Posted'])\n",
    "\n",
    "#Checking neighborhoods that there are with ch_apts['neighborhood'].unique()\n",
    "#Seeing that allowed me to know what I needed to deal with in terms of cleaning those\n",
    "\n",
    "#remove the parenthesis from the left and right of the neighborhoods\n",
    "ch_apts['Neighborhood'] = ch_apts['Neighborhood'].map(lambda x: x.lstrip('(').rstrip(')'))\n",
    "\n",
    "ch_apts['Neighborhood'] = ch_apts['Neighborhood'].apply(lambda x: re.sub(r'[()]+', '', x))\n",
    "\n",
    "#titlecase them\n",
    "ch_apts['Neighborhood'] = ch_apts['Neighborhood'].str.title()\n",
    "\n",
    "#just take the first name of the neighborhood list, splitting on the '/' delimiter\n",
    "ch_apts['Neighborhood'] = ch_apts['Neighborhood'].apply(lambda x: x.split('/')[0])\n",
    "\n",
    "#fix one-offs that\n",
    "########################\n",
    "#####################\n",
    "\n",
    "#UPDATE\n",
    "###################\n",
    "########################\n",
    "#remove whitespaces\n",
    "ch_apts['Neighborhood'] = ch_apts['Neighborhood'].apply(lambda x: x.strip())"
   ]
  },
  {
   "cell_type": "code",
   "execution_count": 19,
   "metadata": {
    "colab": {
     "base_uri": "https://localhost:8080/",
     "height": 97
    },
    "colab_type": "code",
    "id": "XgR7WxPvXmAG",
    "outputId": "b83d69e4-30a2-4f76-f20d-5e3d04716d1e"
   },
   "outputs": [
    {
     "data": {
      "text/html": [
       "<div>\n",
       "<style scoped>\n",
       "    .dataframe tbody tr th:only-of-type {\n",
       "        vertical-align: middle;\n",
       "    }\n",
       "\n",
       "    .dataframe tbody tr th {\n",
       "        vertical-align: top;\n",
       "    }\n",
       "\n",
       "    .dataframe thead th {\n",
       "        text-align: right;\n",
       "    }\n",
       "</style>\n",
       "<table border=\"1\" class=\"dataframe\">\n",
       "  <thead>\n",
       "    <tr style=\"text-align: right;\">\n",
       "      <th></th>\n",
       "      <th>Posted</th>\n",
       "      <th>Neighborhood</th>\n",
       "      <th>Post_Title</th>\n",
       "      <th>Num_Bedrooms</th>\n",
       "      <th>Sqft</th>\n",
       "      <th>URL</th>\n",
       "      <th>Price</th>\n",
       "    </tr>\n",
       "  </thead>\n",
       "  <tbody>\n",
       "    <tr>\n",
       "      <th>0</th>\n",
       "      <td>2020-12-08 12:56:00</td>\n",
       "      <td>Chicago</td>\n",
       "      <td>AVAILABLE NOW!!!!-3802 N SEELEY-2S 2 BED/ 1 BATH</td>\n",
       "      <td>2.0</td>\n",
       "      <td>NaN</td>\n",
       "      <td>https://chicago.craigslist.org/chc/apa/d/chica...</td>\n",
       "      <td>1500</td>\n",
       "    </tr>\n",
       "  </tbody>\n",
       "</table>\n",
       "</div>"
      ],
      "text/plain": [
       "               Posted Neighborhood  \\\n",
       "0 2020-12-08 12:56:00      Chicago   \n",
       "\n",
       "                                         Post_Title  Num_Bedrooms  Sqft  \\\n",
       "0  AVAILABLE NOW!!!!-3802 N SEELEY-2S 2 BED/ 1 BATH           2.0   NaN   \n",
       "\n",
       "                                                 URL  Price  \n",
       "0  https://chicago.craigslist.org/chc/apa/d/chica...   1500  "
      ]
     },
     "execution_count": 19,
     "metadata": {},
     "output_type": "execute_result"
    }
   ],
   "source": [
    "### EXPLORATORY DATA ANALYSIS\n",
    "#Checking first record\n",
    "ch_apts.head(1)"
   ]
  },
  {
   "cell_type": "code",
   "execution_count": 22,
   "metadata": {},
   "outputs": [
    {
     "data": {
      "text/plain": [
       "array(['Chicago', 'Edgewater', 'South Loop', 'Pilsen', 'Uptown',\n",
       "       'South Shore', 'North Kenwood', 'Bucktown', 'Little Italy',\n",
       "       'Rogers Park', 'Lincoln Park', 'West Lakeview', 'Lakeview',\n",
       "       'Buena Park', 'Chicago & Lasalle', 'River North', 'Irving Park',\n",
       "       'Chicago, Illinois', 'Fulton Market, Chicago', 'Lincoln Square',\n",
       "       'Andersonville', 'All Pets', 'Hyde Park',\n",
       "       'South Loop Mccormick Square', 'Evanston', 'Jefferson Park',\n",
       "       'Lakeview, Chicago', 'Sheridan Park', 'Roscoe Village',\n",
       "       'Gold Coast', 'Logan Square', 'Auburn Gresham', 'Glenview',\n",
       "       'Wrigleyville', 'Ukrainian Village', 'Chicago - Uptown',\n",
       "       'Midway Area', 'Chicago Prime Bridgeport', 'Beacon & Wilson',\n",
       "       'Chicago, Il'], dtype=object)"
      ]
     },
     "execution_count": 22,
     "metadata": {},
     "output_type": "execute_result"
    },
    {
     "data": {
      "text/plain": [
       "array(['Chicago', 'Edgewater', 'South Loop', 'Pilsen', 'Uptown',\n",
       "       'South Shore', 'North Kenwood', 'Bucktown', 'Little Italy',\n",
       "       'Rogers Park', 'Lincoln Park', 'West Lakeview', 'Lakeview',\n",
       "       'Buena Park', 'Chicago & Lasalle', 'River North', 'Irving Park',\n",
       "       'Chicago, Illinois', 'Fulton Market, Chicago', 'Lincoln Square',\n",
       "       'Andersonville', 'Hyde Park', 'South Loop Mccormick Square',\n",
       "       'Evanston', 'Jefferson Park', 'Lakeview, Chicago', 'Sheridan Park',\n",
       "       'Roscoe Village', 'Gold Coast', 'Logan Square', 'Auburn Gresham',\n",
       "       'Glenview', 'Wrigleyville', 'Ukrainian Village',\n",
       "       'Chicago - Uptown', 'Midway Area', 'Chicago Prime Bridgeport',\n",
       "       'Beacon & Wilson', 'Chicago, Il'], dtype=object)"
      ]
     },
     "execution_count": 22,
     "metadata": {},
     "output_type": "execute_result"
    }
   ],
   "source": [
    "#Checking unique neighborhood names\n",
    "ch_apts.Neighborhood.unique()\n",
    "\n",
    "#removing listings that have addresses as listings\n",
    "ch_apts = ch_apts[(ch_apts.Neighborhood != 'On 70Th St. And Crandon')]\n",
    "ch_apts = ch_apts[(ch_apts.Neighborhood != '1317 W. 18Th Street | #1F | Chicago, Il')]\n",
    "ch_apts = ch_apts[(ch_apts.Neighborhood != '1550 S Hamlin  North Lawndale')]\n",
    "ch_apts = ch_apts[(ch_apts.Neighborhood != 'Augusta Blvd At California Ave')]\n",
    "ch_apts = ch_apts[(ch_apts.Neighborhood != 'All Pets')]\n",
    "ch_apts = ch_apts[(ch_apts.Neighborhood != '3144 W 39Th Pl')]\n",
    "ch_apts = ch_apts[(ch_apts.Neighborhood != '1550 S Hamlin  North Lawndale')]\n",
    "ch_apts = ch_apts[(ch_apts.Neighborhood != '8901 S Loomis - Brainerd Senior Center')]\n",
    "ch_apts = ch_apts[(ch_apts.Neighborhood != '737 E 69Th')]\n",
    "ch_apts = ch_apts[(ch_apts.Neighborhood != '737 E 69Th')]\n",
    "ch_apts = ch_apts[(ch_apts.Neighborhood != '3144 W 39Th Pl, Chicago Il.')]\n",
    "\n",
    "\n",
    "\n",
    "\n",
    "\n",
    "\n",
    "#(ch_apts.Neighborhood != 10)]\n",
    "\n",
    "ch_apts.Neighborhood.unique()\n"
   ]
  },
  {
   "cell_type": "code",
   "execution_count": 23,
   "metadata": {
    "colab": {
     "base_uri": "https://localhost:8080/",
     "height": 1000
    },
    "colab_type": "code",
    "id": "xm8yaMzelE_J",
    "outputId": "44a8000c-67df-4648-d5a2-2572a78994f0"
   },
   "outputs": [
    {
     "data": {
      "text/html": [
       "<div>\n",
       "<style scoped>\n",
       "    .dataframe tbody tr th:only-of-type {\n",
       "        vertical-align: middle;\n",
       "    }\n",
       "\n",
       "    .dataframe tbody tr th {\n",
       "        vertical-align: top;\n",
       "    }\n",
       "\n",
       "    .dataframe thead th {\n",
       "        text-align: right;\n",
       "    }\n",
       "</style>\n",
       "<table border=\"1\" class=\"dataframe\">\n",
       "  <thead>\n",
       "    <tr style=\"text-align: right;\">\n",
       "      <th></th>\n",
       "      <th>Posted</th>\n",
       "      <th>Neighborhood</th>\n",
       "      <th>Post_Title</th>\n",
       "      <th>Num_Bedrooms</th>\n",
       "      <th>Sqft</th>\n",
       "      <th>URL</th>\n",
       "      <th>Price</th>\n",
       "    </tr>\n",
       "  </thead>\n",
       "  <tbody>\n",
       "    <tr>\n",
       "      <th>0</th>\n",
       "      <td>2020-12-08 12:56:00</td>\n",
       "      <td>Chicago</td>\n",
       "      <td>AVAILABLE NOW!!!!-3802 N SEELEY-2S 2 BED/ 1 BATH</td>\n",
       "      <td>2.0</td>\n",
       "      <td>NaN</td>\n",
       "      <td>https://chicago.craigslist.org/chc/apa/d/chica...</td>\n",
       "      <td>1500</td>\n",
       "    </tr>\n",
       "    <tr>\n",
       "      <th>1</th>\n",
       "      <td>2020-12-08 12:55:00</td>\n",
       "      <td>Edgewater</td>\n",
       "      <td>1 bedroom in Edgewater neighborhood 1ST MONTH ...</td>\n",
       "      <td>1.0</td>\n",
       "      <td>NaN</td>\n",
       "      <td>https://chicago.craigslist.org/chc/apa/d/chica...</td>\n",
       "      <td>875</td>\n",
       "    </tr>\n",
       "    <tr>\n",
       "      <th>2</th>\n",
       "      <td>2020-12-08 12:50:00</td>\n",
       "      <td>South Loop</td>\n",
       "      <td>SOUTH LOOP! AMAZING LOFT STYLE Jr 1 bed WD, hd...</td>\n",
       "      <td>1.0</td>\n",
       "      <td>NaN</td>\n",
       "      <td>https://chicago.craigslist.org/chc/apa/d/chica...</td>\n",
       "      <td>1170</td>\n",
       "    </tr>\n",
       "    <tr>\n",
       "      <th>3</th>\n",
       "      <td>2020-12-08 12:50:00</td>\n",
       "      <td>Pilsen</td>\n",
       "      <td>RENOVATED Pilsen 1 Bed with in-unit washer/dryer</td>\n",
       "      <td>1.0</td>\n",
       "      <td>NaN</td>\n",
       "      <td>https://chicago.craigslist.org/chc/apa/d/chica...</td>\n",
       "      <td>1400</td>\n",
       "    </tr>\n",
       "    <tr>\n",
       "      <th>4</th>\n",
       "      <td>2020-12-08 12:48:00</td>\n",
       "      <td>Chicago</td>\n",
       "      <td>AVAILABLE NOW!!!!-HOT SOUTHPORT CORRIDOR LOCAT...</td>\n",
       "      <td>1.0</td>\n",
       "      <td>NaN</td>\n",
       "      <td>https://chicago.craigslist.org/chc/apa/d/chica...</td>\n",
       "      <td>1495</td>\n",
       "    </tr>\n",
       "    <tr>\n",
       "      <th>...</th>\n",
       "      <td>...</td>\n",
       "      <td>...</td>\n",
       "      <td>...</td>\n",
       "      <td>...</td>\n",
       "      <td>...</td>\n",
       "      <td>...</td>\n",
       "      <td>...</td>\n",
       "    </tr>\n",
       "    <tr>\n",
       "      <th>94</th>\n",
       "      <td>2020-12-08 09:17:00</td>\n",
       "      <td>Chicago</td>\n",
       "      <td>Amazing One   Bedroom Apartments  @Willard Squ...</td>\n",
       "      <td>1.0</td>\n",
       "      <td>NaN</td>\n",
       "      <td>https://chicago.craigslist.org/chc/apa/d/chica...</td>\n",
       "      <td>934</td>\n",
       "    </tr>\n",
       "    <tr>\n",
       "      <th>95</th>\n",
       "      <td>2020-12-08 09:16:00</td>\n",
       "      <td>Lakeview</td>\n",
       "      <td>521 W. Brompton in Lakeview: Studio - Free Hea...</td>\n",
       "      <td>NaN</td>\n",
       "      <td>NaN</td>\n",
       "      <td>https://chicago.craigslist.org/chc/apa/d/chica...</td>\n",
       "      <td>1015</td>\n",
       "    </tr>\n",
       "    <tr>\n",
       "      <th>97</th>\n",
       "      <td>2020-12-08 09:15:00</td>\n",
       "      <td>Lakeview</td>\n",
       "      <td>517 W. Brompton in Lakeview: Studio- Free Heat...</td>\n",
       "      <td>NaN</td>\n",
       "      <td>NaN</td>\n",
       "      <td>https://chicago.craigslist.org/chc/apa/d/chica...</td>\n",
       "      <td>1055</td>\n",
       "    </tr>\n",
       "    <tr>\n",
       "      <th>98</th>\n",
       "      <td>2020-12-08 09:14:00</td>\n",
       "      <td>Uptown</td>\n",
       "      <td>Cheerful 1 Bedroom, 1 Bath in Uptown, Availabl...</td>\n",
       "      <td>1.0</td>\n",
       "      <td>408.0</td>\n",
       "      <td>https://chicago.craigslist.org/chc/apa/d/chica...</td>\n",
       "      <td>1075</td>\n",
       "    </tr>\n",
       "    <tr>\n",
       "      <th>99</th>\n",
       "      <td>2020-12-08 09:14:00</td>\n",
       "      <td>Rogers Park</td>\n",
       "      <td>2 bedroom in West Rogers Park</td>\n",
       "      <td>2.0</td>\n",
       "      <td>800.0</td>\n",
       "      <td>https://chicago.craigslist.org/chc/apa/d/chica...</td>\n",
       "      <td>1375</td>\n",
       "    </tr>\n",
       "  </tbody>\n",
       "</table>\n",
       "<p>94 rows × 7 columns</p>\n",
       "</div>"
      ],
      "text/plain": [
       "                Posted Neighborhood  \\\n",
       "0  2020-12-08 12:56:00      Chicago   \n",
       "1  2020-12-08 12:55:00    Edgewater   \n",
       "2  2020-12-08 12:50:00   South Loop   \n",
       "3  2020-12-08 12:50:00       Pilsen   \n",
       "4  2020-12-08 12:48:00      Chicago   \n",
       "..                 ...          ...   \n",
       "94 2020-12-08 09:17:00      Chicago   \n",
       "95 2020-12-08 09:16:00     Lakeview   \n",
       "97 2020-12-08 09:15:00     Lakeview   \n",
       "98 2020-12-08 09:14:00       Uptown   \n",
       "99 2020-12-08 09:14:00  Rogers Park   \n",
       "\n",
       "                                           Post_Title  Num_Bedrooms   Sqft  \\\n",
       "0    AVAILABLE NOW!!!!-3802 N SEELEY-2S 2 BED/ 1 BATH           2.0    NaN   \n",
       "1   1 bedroom in Edgewater neighborhood 1ST MONTH ...           1.0    NaN   \n",
       "2   SOUTH LOOP! AMAZING LOFT STYLE Jr 1 bed WD, hd...           1.0    NaN   \n",
       "3    RENOVATED Pilsen 1 Bed with in-unit washer/dryer           1.0    NaN   \n",
       "4   AVAILABLE NOW!!!!-HOT SOUTHPORT CORRIDOR LOCAT...           1.0    NaN   \n",
       "..                                                ...           ...    ...   \n",
       "94  Amazing One   Bedroom Apartments  @Willard Squ...           1.0    NaN   \n",
       "95  521 W. Brompton in Lakeview: Studio - Free Hea...           NaN    NaN   \n",
       "97  517 W. Brompton in Lakeview: Studio- Free Heat...           NaN    NaN   \n",
       "98  Cheerful 1 Bedroom, 1 Bath in Uptown, Availabl...           1.0  408.0   \n",
       "99                      2 bedroom in West Rogers Park           2.0  800.0   \n",
       "\n",
       "                                                  URL  Price  \n",
       "0   https://chicago.craigslist.org/chc/apa/d/chica...   1500  \n",
       "1   https://chicago.craigslist.org/chc/apa/d/chica...    875  \n",
       "2   https://chicago.craigslist.org/chc/apa/d/chica...   1170  \n",
       "3   https://chicago.craigslist.org/chc/apa/d/chica...   1400  \n",
       "4   https://chicago.craigslist.org/chc/apa/d/chica...   1495  \n",
       "..                                                ...    ...  \n",
       "94  https://chicago.craigslist.org/chc/apa/d/chica...    934  \n",
       "95  https://chicago.craigslist.org/chc/apa/d/chica...   1015  \n",
       "97  https://chicago.craigslist.org/chc/apa/d/chica...   1055  \n",
       "98  https://chicago.craigslist.org/chc/apa/d/chica...   1075  \n",
       "99  https://chicago.craigslist.org/chc/apa/d/chica...   1375  \n",
       "\n",
       "[94 rows x 7 columns]"
      ]
     },
     "execution_count": 23,
     "metadata": {},
     "output_type": "execute_result"
    }
   ],
   "source": [
    "#Correcting neighborhood names\n",
    "for Post_Title in ch_apts:\n",
    "  ch_apts.loc[ch_apts['Post_Title'].str.contains('Andersonville'), 'Neighborhood'] = 'Andersonville'\n",
    "  ch_apts.loc[ch_apts['Post_Title'].str.contains('andersonville'), 'Neighborhood'] = 'Andersonville'\n",
    "  ch_apts.loc[ch_apts['Post_Title'].str.contains('Archer Heights'), 'Neighborhood'] = 'Archer Heights'\n",
    "  ch_apts.loc[ch_apts['Post_Title'].str.contains('archer Heights'), 'Neighborhood'] = 'Archer Heights'\n",
    "  ch_apts.loc[ch_apts['Post_Title'].str.contains('Ashburn'), 'Neighborhood'] = 'Ashburn'\n",
    "  ch_apts.loc[ch_apts['Post_Title'].str.contains('ashburn'), 'Neighborhood'] = 'Ashburn'\n",
    "  ch_apts.loc[ch_apts['Post_Title'].str.contains('Austin'), 'Neighborhood'] = 'Austin'\n",
    "  ch_apts.loc[ch_apts['Post_Title'].str.contains('austin'), 'Neighborhood'] = 'Austin'\n",
    "  ch_apts.loc[ch_apts['Post_Title'].str.contains('avon'), 'Neighborhood'] = 'Avondale'\n",
    "  ch_apts.loc[ch_apts['Post_Title'].str.contains('Avon'), 'Neighborhood'] = 'Avondale'  \n",
    "  ch_apts.loc[ch_apts['Post_Title'].str.contains('Albany'), 'Neighborhood'] = 'Albany Park'\n",
    "  ch_apts.loc[ch_apts['Post_Title'].str.contains('albany'), 'Neighborhood'] = 'Albany Park'\n",
    "  ch_apts.loc[ch_apts['Post_Title'].str.contains('Beverly'), 'Neighborhood'] = 'Beverly'\n",
    "  ch_apts.loc[ch_apts['Post_Title'].str.contains('beverly'), 'Neighborhood'] = 'Beverly'\n",
    "  ch_apts.loc[ch_apts['Post_Title'].str.contains('buck'), 'Neighborhood'] = 'Bucktown'\n",
    "  ch_apts.loc[ch_apts['Post_Title'].str.contains('Buck'), 'Neighborhood'] = 'Bucktown'\n",
    "  ch_apts.loc[ch_apts['Post_Title'].str.contains('Boys'), 'Neighborhood'] = 'Boystown'\n",
    "  ch_apts.loc[ch_apts['Post_Title'].str.contains('boys'), 'Neighborhood'] = 'Boystown'\n",
    "  ch_apts.loc[ch_apts['Post_Title'].str.contains('China'), 'Neighborhood'] = 'Chinatown'\n",
    "  ch_apts.loc[ch_apts['Post_Title'].str.contains('china'), 'Neighborhood'] = 'Chinatown'\n",
    "  ch_apts.loc[ch_apts['Post_Title'].str.contains('Depaul'), 'Neighborhood'] = 'Depaul'\n",
    "  ch_apts.loc[ch_apts['Post_Title'].str.contains('depaul'), 'Neighborhood'] = 'Depaul'\n",
    "  ch_apts.loc[ch_apts['Post_Title'].str.contains('Edison'), 'Neighborhood'] = 'Edison Park'\n",
    "  ch_apts.loc[ch_apts['Post_Title'].str.contains('edison'), 'Neighborhood'] = 'Edison Park'\n",
    "  ch_apts.loc[ch_apts['Post_Title'].str.contains('Edgewater'), 'Neighborhood'] = 'Edgewater'\n",
    "  ch_apts.loc[ch_apts['Post_Title'].str.contains('edgewater'), 'Neighborhood'] = 'Edgewater'\n",
    "  ch_apts.loc[ch_apts['Post_Title'].str.contains('Englewood'), 'Neighborhood'] = 'Englewood'\n",
    "  ch_apts.loc[ch_apts['Post_Title'].str.contains('englewood'), 'Neighborhood'] = 'Englewood'\n",
    "  ch_apts.loc[ch_apts['Post_Title'].str.contains('Galewood'), 'Neighborhood'] = 'Galewood'\n",
    "  ch_apts.loc[ch_apts['Post_Title'].str.contains('galewood'), 'Neighborhood'] = 'Galewood'\n",
    "  ch_apts.loc[ch_apts['Post_Title'].str.contains('Garfield Park'), 'Neighborhood'] = 'Garfield Park'\n",
    "  ch_apts.loc[ch_apts['Post_Title'].str.contains('garfield Park'), 'Neighborhood'] = 'Garfield Park'\n",
    "  ch_apts.loc[ch_apts['Post_Title'].str.contains('Gold Coast'), 'Neighborhood'] = 'Gold Coast'\n",
    "  ch_apts.loc[ch_apts['Post_Title'].str.contains('gold'), 'Neighborhood'] = 'Gold Coast'\n",
    "  ch_apts.loc[ch_apts['Post_Title'].str.contains('Gresham'), 'Neighborhood'] = 'Gresham'\n",
    "  ch_apts.loc[ch_apts['Post_Title'].str.contains('gresham'), 'Neighborhood'] = 'Gresham'\n",
    "  ch_apts.loc[ch_apts['Post_Title'].str.contains('Humb'), 'Neighborhood'] = 'Humboldt Park'\n",
    "  ch_apts.loc[ch_apts['Post_Title'].str.contains('humb'), 'Neighborhood'] = 'Humboldt Park'\n",
    "  ch_apts.loc[ch_apts['Post_Title'].str.contains('Hyde'), 'Neighborhood'] = 'Hyde Park'\n",
    "  ch_apts.loc[ch_apts['Post_Title'].str.contains('hyde'), 'Neighborhood'] = 'Hyde Park'\n",
    "  ch_apts.loc[ch_apts['Post_Title'].str.contains('Jefferson'), 'Neighborhood'] = 'Jefferson Park'\n",
    "  ch_apts.loc[ch_apts['Post_Title'].str.contains('jefferson'), 'Neighborhood'] = 'Jefferson Park'\n",
    "  ch_apts.loc[ch_apts['Post_Title'].str.contains('Kenwood'), 'Neighborhood'] = 'Kenwood'\n",
    "  ch_apts.loc[ch_apts['Post_Title'].str.contains('kenwood'), 'Neighborhood'] = 'Kenwood'\n",
    "  ch_apts.loc[ch_apts['Post_Title'].str.contains('Lakeview'), 'Neighborhood'] = 'Lakeview'\n",
    "  ch_apts.loc[ch_apts['Post_Title'].str.contains('lakeview'), 'Neighborhood'] = 'Lakeview'\n",
    "  ch_apts.loc[ch_apts['Post_Title'].str.contains('Little Village'), 'Neighborhood'] = 'Little Village'\n",
    "  ch_apts.loc[ch_apts['Post_Title'].str.contains('Little village'), 'Neighborhood'] = 'Little Village'\n",
    "  ch_apts.loc[ch_apts['Post_Title'].str.contains('little village'), 'Neighborhood'] = 'Little Village'\n",
    "  ch_apts.loc[ch_apts['Post_Title'].str.contains('lil village'), 'Neighborhood'] = 'Little Village'\n",
    "  ch_apts.loc[ch_apts['Post_Title'].str.contains('Lil village'), 'Neighborhood'] = 'Little Village'\n",
    "  ch_apts.loc[ch_apts['Post_Title'].str.contains('Lincoln Park'), 'Neighborhood'] = 'Lincoln Park'\n",
    "  ch_apts.loc[ch_apts['Post_Title'].str.contains('lincoln park'), 'Neighborhood'] = 'Lincoln Park'\n",
    "  ch_apts.loc[ch_apts['Post_Title'].str.contains('Lincoln Square'), 'Neighborhood'] = 'Lincoln Square'\n",
    "  ch_apts.loc[ch_apts['Post_Title'].str.contains('lincoln square'), 'Neighborhood'] = 'Lincoln Square'\n",
    "  ch_apts.loc[ch_apts['Post_Title'].str.contains('Logan'), 'Neighborhood'] = 'Logan Square'\n",
    "  ch_apts.loc[ch_apts['Post_Title'].str.contains('logan'), 'Neighborhood'] = 'Logan Square'\n",
    "  ch_apts.loc[ch_apts['Post_Title'].str.contains('Marquette Park'), 'Neighborhood'] = 'Marquette Park'\n",
    "  ch_apts.loc[ch_apts['Post_Title'].str.contains('marquette park'), 'Neighborhood'] = 'Marquette Park'\n",
    "  ch_apts.loc[ch_apts['Post_Title'].str.contains('Midway'), 'Neighborhood'] = 'Midway'\n",
    "  ch_apts.loc[ch_apts['Post_Title'].str.contains('midway'), 'Neighborhood'] = 'Midway'\n",
    "  ch_apts.loc[ch_apts['Post_Title'].str.contains('Mount Greenwood'), 'Neighborhood'] = 'Mount Greenwood'\n",
    "  ch_apts.loc[ch_apts['Post_Title'].str.contains('mount greenwood'), 'Neighborhood'] = 'Mount Greenwood'\n",
    "  ch_apts.loc[ch_apts['Post_Title'].str.contains('Norwood'), 'Neighborhood'] = 'Norwood Park'\n",
    "  ch_apts.loc[ch_apts['Post_Title'].str.contains('norwood'), 'Neighborhood'] = 'Norwood Park'\n",
    "  ch_apts.loc[ch_apts['Post_Title'].str.contains('Irving'), 'Neighborhood'] = 'Irving Park'\n",
    "  ch_apts.loc[ch_apts['Post_Title'].str.contains('irving'), 'Neighborhood'] = 'Irving Park'\n",
    "  ch_apts.loc[ch_apts['Post_Title'].str.contains('Old Town'), 'Neighborhood'] = 'Old Town'\n",
    "  ch_apts.loc[ch_apts['Post_Title'].str.contains('old town'), 'Neighborhood'] = 'Old Town'\n",
    "  ch_apts.loc[ch_apts['Post_Title'].str.contains('Pilsen'), 'Neighborhood'] = 'Pilsen'\n",
    "  ch_apts.loc[ch_apts['Post_Title'].str.contains('pilsen'), 'Neighborhood'] = 'Pilsen'\n",
    "  ch_apts.loc[ch_apts['Post_Title'].str.contains('Portage'), 'Neighborhood'] = 'Portage Park'\n",
    "  ch_apts.loc[ch_apts['Post_Title'].str.contains('portage'), 'Neighborhood'] = 'Portage Park'\n",
    "  ch_apts.loc[ch_apts['Post_Title'].str.contains('Pullman'), 'Neighborhood'] = 'Pullman'\n",
    "  ch_apts.loc[ch_apts['Post_Title'].str.contains('pullman'), 'Neighborhood'] = 'Pullman'\n",
    "  ch_apts.loc[ch_apts['Post_Title'].str.contains('Ravens'), 'Neighborhood'] = 'Ravenswood'\n",
    "  ch_apts.loc[ch_apts['Post_Title'].str.contains('ravens'), 'Neighborhood'] = 'Ravenswood'\n",
    "  ch_apts.loc[ch_apts['Post_Title'].str.contains('River North'), 'Neighborhood'] = 'River North'\n",
    "  ch_apts.loc[ch_apts['Post_Title'].str.contains('river north'), 'Neighborhood'] = 'River North'\n",
    "  ch_apts.loc[ch_apts['Post_Title'].str.contains('River West'), 'Neighborhood'] = 'River West'\n",
    "  ch_apts.loc[ch_apts['Post_Title'].str.contains('river west'), 'Neighborhood'] = 'River West'\n",
    "  ch_apts.loc[ch_apts['Post_Title'].str.contains('Rogers'), 'Neighborhood'] = 'Rogers Park'\n",
    "  ch_apts.loc[ch_apts['Post_Title'].str.contains('rogers'), 'Neighborhood'] = 'Rogers Park'\n",
    "  ch_apts.loc[ch_apts['Post_Title'].str.contains('rodgers'), 'Neighborhood'] = 'Rogers Park'\n",
    "  ch_apts.loc[ch_apts['Post_Title'].str.contains('Roscoe Village'), 'Neighborhood'] = 'Roscoe Village'\n",
    "  ch_apts.loc[ch_apts['Post_Title'].str.contains('roscoe village'), 'Neighborhood'] = 'Roscoe Village'\n",
    "  ch_apts.loc[ch_apts['Post_Title'].str.contains('Sauganash'), 'Neighborhood'] = 'Sauganash'\n",
    "  ch_apts.loc[ch_apts['Post_Title'].str.contains('sauganash'), 'Neighborhood'] = 'Sauganash'\n",
    "  ch_apts.loc[ch_apts['Post_Title'].str.contains('South Loop'), 'Neighborhood'] = 'South Loop'\n",
    "  ch_apts.loc[ch_apts['Post_Title'].str.contains('south loop'), 'Neighborhood'] = 'South Loop'\n",
    "  ch_apts.loc[ch_apts['Post_Title'].str.contains('South Shore'), 'Neighborhood'] = 'South Shore'\n",
    "  ch_apts.loc[ch_apts['Post_Title'].str.contains('south shore'), 'Neighborhood'] = 'South Shore'\n",
    "  ch_apts.loc[ch_apts['Post_Title'].str.contains('Streeter'), 'Neighborhood'] = 'Streeterville'\n",
    "  ch_apts.loc[ch_apts['Post_Title'].str.contains('streeter'), 'Neighborhood'] = 'Streeterville'\n",
    "  ch_apts.loc[ch_apts['Post_Title'].str.contains('Uptown'), 'Neighborhood'] = 'Uptown'\n",
    "  ch_apts.loc[ch_apts['Post_Title'].str.contains('uptown'), 'Neighborhood'] = 'Uptown'\n",
    "  ch_apts.loc[ch_apts['Post_Title'].str.contains('West Loop'), 'Neighborhood'] = 'West Loop'\n",
    "  ch_apts.loc[ch_apts['Post_Title'].str.contains('west loop'), 'Neighborhood'] = 'West Loop'\n",
    "  ch_apts.loc[ch_apts['Post_Title'].str.contains('West Town'), 'Neighborhood'] = 'West Town'\n",
    "  ch_apts.loc[ch_apts['Post_Title'].str.contains('west town'), 'Neighborhood'] = 'West Town'\n",
    "  ch_apts.loc[ch_apts['Post_Title'].str.contains('Wicker'), 'Neighborhood'] = 'Wicker Park'\n",
    "  ch_apts.loc[ch_apts['Post_Title'].str.contains('wicker'), 'Neighborhood'] = 'Wicker Park'\n",
    "  ch_apts.loc[ch_apts['Post_Title'].str.contains('Wrigleyville'), 'Neighborhood'] = 'Wrigleyville'\n",
    "  ch_apts.loc[ch_apts['Post_Title'].str.contains('wrigleyville'), 'Neighborhood'] = 'Wrigleyville'\n",
    "  ch_apts.loc[ch_apts['Post_Title'].str.contains('wrigley'), 'Neighborhood'] = 'Wrigleyville'\n",
    "  ch_apts.loc[ch_apts['Post_Title'].str.contains('Ukrainian Village'), 'Neighborhood'] = 'Ukrainian Village'\n",
    "  ch_apts.loc[ch_apts['Post_Title'].str.contains('ukrainian village'), 'Neighborhood'] = 'Ukrainian Village'\n",
    "\n",
    "ch_apts"
   ]
  },
  {
   "cell_type": "code",
   "execution_count": 24,
   "metadata": {
    "colab": {
     "base_uri": "https://localhost:8080/",
     "height": 225
    },
    "colab_type": "code",
    "id": "LoRKReDVXmDd",
    "outputId": "bc2140ee-1e95-4432-b6f2-8ec4625c4689"
   },
   "outputs": [
    {
     "name": "stdout",
     "output_type": "stream",
     "text": [
      "<class 'pandas.core.frame.DataFrame'>\n",
      "Int64Index: 94 entries, 0 to 99\n",
      "Data columns (total 7 columns):\n",
      " #   Column        Non-Null Count  Dtype         \n",
      "---  ------        --------------  -----         \n",
      " 0   Posted        94 non-null     datetime64[ns]\n",
      " 1   Neighborhood  94 non-null     object        \n",
      " 2   Post_Title    94 non-null     object        \n",
      " 3   Num_Bedrooms  82 non-null     float64       \n",
      " 4   Sqft          21 non-null     float64       \n",
      " 5   URL           94 non-null     object        \n",
      " 6   Price         94 non-null     int64         \n",
      "dtypes: datetime64[ns](1), float64(2), int64(1), object(3)\n",
      "memory usage: 5.9+ KB\n"
     ]
    }
   ],
   "source": [
    "ch_apts.info()"
   ]
  },
  {
   "cell_type": "code",
   "execution_count": 25,
   "metadata": {
    "colab": {
     "base_uri": "https://localhost:8080/",
     "height": 414
    },
    "colab_type": "code",
    "id": "fnfRnj7TXog2",
    "outputId": "e87b5fa2-e06c-4fd4-94b4-fbe196ca01e8"
   },
   "outputs": [
    {
     "data": {
      "text/plain": [
       "'C:\\\\Users\\\\chris\\\\2020'"
      ]
     },
     "execution_count": 25,
     "metadata": {},
     "output_type": "execute_result"
    }
   ],
   "source": [
    "import pandas as pd, numpy as np\n",
    "\n",
    "#get current directory\n",
    "%pwd\n",
    "\n",
    "#export dataframe to csv file\n",
    "ch_apts.to_csv(r'C:\\\\Users\\\\chris\\\\2020\\Craigslist-Data.csv')"
   ]
  },
  {
   "cell_type": "code",
   "execution_count": 26,
   "metadata": {},
   "outputs": [
    {
     "name": "stdout",
     "output_type": "stream",
     "text": [
      "<class 'pandas.core.frame.DataFrame'>\n",
      "RangeIndex: 94 entries, 0 to 93\n",
      "Data columns (total 8 columns):\n",
      " #   Column        Non-Null Count  Dtype  \n",
      "---  ------        --------------  -----  \n",
      " 0   Unnamed: 0    94 non-null     int64  \n",
      " 1   Posted        94 non-null     object \n",
      " 2   Neighborhood  94 non-null     object \n",
      " 3   Post_Title    94 non-null     object \n",
      " 4   Num_Bedrooms  82 non-null     float64\n",
      " 5   Sqft          21 non-null     float64\n",
      " 6   URL           94 non-null     object \n",
      " 7   Price         94 non-null     int64  \n",
      "dtypes: float64(2), int64(2), object(4)\n",
      "memory usage: 6.0+ KB\n"
     ]
    },
    {
     "data": {
      "text/plain": [
       "(94, 8)"
      ]
     },
     "execution_count": 26,
     "metadata": {},
     "output_type": "execute_result"
    },
    {
     "data": {
      "text/plain": [
       "Index(['Unnamed: 0', 'Posted', 'Neighborhood', 'Post_Title', 'Num_Bedrooms',\n",
       "       'Sqft', 'URL', 'Price'],\n",
       "      dtype='object')"
      ]
     },
     "execution_count": 26,
     "metadata": {},
     "output_type": "execute_result"
    }
   ],
   "source": [
    "#use created file\n",
    "chicago_apts = pd.read_csv(\"Craigslist-Data.csv\")\n",
    "\n",
    "chicago_apts.info()\n",
    "chicago_apts.shape\n",
    "chicago_apts.columns"
   ]
  },
  {
   "cell_type": "code",
   "execution_count": 27,
   "metadata": {
    "colab": {
     "base_uri": "https://localhost:8080/",
     "height": 413
    },
    "colab_type": "code",
    "id": "wUJGdnDxXo1b",
    "outputId": "998c602a-36bb-4094-aa40-5724ad331ef7",
    "scrolled": false
   },
   "outputs": [
    {
     "data": {
      "image/png": "[encoded data removed]",
      "text/plain": [
       "<Figure size 720x432 with 1 Axes>"
      ]
     },
     "metadata": {
      "needs_background": "light"
     },
     "output_type": "display_data"
    }
   ],
   "source": [
    "#start to look at the distributions\n",
    "from matplotlib import figure\n",
    "import seaborn as sns\n",
    "import matplotlib.pyplot as plt\n",
    "%matplotlib inline\n",
    "\n",
    "plt.figure(figsize=(10, 6))\n",
    "plt.hist(chicago_apts['Price'], edgecolor='black');\n",
    "plt.xlabel(\"Price\")\n",
    "plt.ylabel('Count')\n",
    "plt.title(\"Distribution of Rent\");"
   ]
  },
  {
   "cell_type": "code",
   "execution_count": null,
   "metadata": {},
   "outputs": [],
   "source": []
  },
  {
   "cell_type": "code",
   "execution_count": null,
   "metadata": {},
   "outputs": [],
   "source": []
  },
  {
   "cell_type": "code",
   "execution_count": null,
   "metadata": {},
   "outputs": [],
   "source": []
  },
  {
   "cell_type": "code",
   "execution_count": null,
   "metadata": {},
   "outputs": [],
   "source": []
  },
  {
   "cell_type": "code",
   "execution_count": null,
   "metadata": {},
   "outputs": [],
   "source": []
  },
  {
   "cell_type": "code",
   "execution_count": null,
   "metadata": {},
   "outputs": [],
   "source": []
  },
  {
   "cell_type": "code",
   "execution_count": null,
   "metadata": {},
   "outputs": [],
   "source": []
  },
  {
   "cell_type": "code",
   "execution_count": null,
   "metadata": {},
   "outputs": [],
   "source": []
  },
  {
   "cell_type": "code",
   "execution_count": null,
   "metadata": {},
   "outputs": [],
   "source": []
  },
  {
   "cell_type": "code",
   "execution_count": null,
   "metadata": {},
   "outputs": [],
   "source": []
  },
  {
   "cell_type": "code",
   "execution_count": 28,
   "metadata": {
    "colab": {
     "base_uri": "https://localhost:8080/",
     "height": 529
    },
    "colab_type": "code",
    "id": "2Eor2W_qXoz9",
    "outputId": "8af2344e-9691-4744-cc93-99c89f85aac6"
   },
   "outputs": [
    {
     "data": {
      "image/png": "[encoded data removed]",
      "text/plain": [
       "<Figure size 864x576 with 1 Axes>"
      ]
     },
     "metadata": {
      "needs_background": "light"
     },
     "output_type": "display_data"
    }
   ],
   "source": [
    "import matplotlib.pylab as pylab\n",
    "params = {'legend.fontsize': 'x-large',\n",
    "          'figure.figsize': (15, 5),\n",
    "         'axes.labelsize': 'x-large',\n",
    "         'axes.titlesize':'x-large',\n",
    "         'xtick.labelsize':'x-large',\n",
    "         'ytick.labelsize':'x-large'}\n",
    "pylab.rcParams.update(params)\n",
    "\n",
    "plt.figure(figsize=(12, 8))\n",
    "sns.scatterplot(x='Price', y='Sqft', hue='Num_Bedrooms', palette='summer', x_jitter=True, y_jitter=True, s=100, data=ch_apts.dropna())\n",
    "plt.legend(fontsize=12)\n",
    "plt.xlabel(\"Price\", fontsize=18)\n",
    "plt.ylabel(\"Square Footage\", fontsize=18);\n",
    "plt.title(\"Price vs. Square Footage Colored by Number of Bedrooms\", fontsize=18);"
   ]
  },
  {
   "cell_type": "code",
   "execution_count": 29,
   "metadata": {
    "colab": {
     "base_uri": "https://localhost:8080/",
     "height": 522
    },
    "colab_type": "code",
    "id": "JxFiuvMgXow_",
    "outputId": "2025d02c-67af-41b2-bda5-5b853987432d"
   },
   "outputs": [
    {
     "data": {
      "image/png": "[encoded data removed]",
      "text/plain": [
       "<Figure size 864x576 with 1 Axes>"
      ]
     },
     "metadata": {
      "needs_background": "light"
     },
     "output_type": "display_data"
    }
   ],
   "source": [
    "plt.figure(figsize=(12, 8))\n",
    "sns.regplot(x='Price', y='Sqft', data=ch_apts.dropna());\n",
    "plt.title('Price vs. Square Footage Regression Plot');\n",
    "plt.xlabel(\"Price (USD)\");\n",
    "plt.ylabel(\"Square Feet\");"
   ]
  },
  {
   "cell_type": "code",
   "execution_count": 30,
   "metadata": {
    "colab": {
     "base_uri": "https://localhost:8080/",
     "height": 141
    },
    "colab_type": "code",
    "id": "382JUVRFXoup",
    "outputId": "02b5696c-05e2-489f-ef93-a26279be8df6"
   },
   "outputs": [
    {
     "data": {
      "text/html": [
       "<div>\n",
       "<style scoped>\n",
       "    .dataframe tbody tr th:only-of-type {\n",
       "        vertical-align: middle;\n",
       "    }\n",
       "\n",
       "    .dataframe tbody tr th {\n",
       "        vertical-align: top;\n",
       "    }\n",
       "\n",
       "    .dataframe thead th {\n",
       "        text-align: right;\n",
       "    }\n",
       "</style>\n",
       "<table border=\"1\" class=\"dataframe\">\n",
       "  <thead>\n",
       "    <tr style=\"text-align: right;\">\n",
       "      <th></th>\n",
       "      <th>Num_Bedrooms</th>\n",
       "      <th>Sqft</th>\n",
       "      <th>Price</th>\n",
       "    </tr>\n",
       "  </thead>\n",
       "  <tbody>\n",
       "    <tr>\n",
       "      <th>Num_Bedrooms</th>\n",
       "      <td>1.000000</td>\n",
       "      <td>0.473636</td>\n",
       "      <td>0.423594</td>\n",
       "    </tr>\n",
       "    <tr>\n",
       "      <th>Sqft</th>\n",
       "      <td>0.473636</td>\n",
       "      <td>1.000000</td>\n",
       "      <td>0.774407</td>\n",
       "    </tr>\n",
       "    <tr>\n",
       "      <th>Price</th>\n",
       "      <td>0.423594</td>\n",
       "      <td>0.774407</td>\n",
       "      <td>1.000000</td>\n",
       "    </tr>\n",
       "  </tbody>\n",
       "</table>\n",
       "</div>"
      ],
      "text/plain": [
       "              Num_Bedrooms      Sqft     Price\n",
       "Num_Bedrooms      1.000000  0.473636  0.423594\n",
       "Sqft              0.473636  1.000000  0.774407\n",
       "Price             0.423594  0.774407  1.000000"
      ]
     },
     "execution_count": 30,
     "metadata": {},
     "output_type": "execute_result"
    }
   ],
   "source": [
    "#correlations of # of bedrooms, sqft and price\n",
    "ch_apts.corr()"
   ]
  },
  {
   "cell_type": "code",
   "execution_count": 31,
   "metadata": {
    "colab": {
     "base_uri": "https://localhost:8080/",
     "height": 1000
    },
    "colab_type": "code",
    "id": "EVFEsr5pXosE",
    "outputId": "eb662494-eec7-4abe-9fb1-950f9487372f"
   },
   "outputs": [
    {
     "data": {
      "text/html": [
       "<div>\n",
       "<style scoped>\n",
       "    .dataframe tbody tr th:only-of-type {\n",
       "        vertical-align: middle;\n",
       "    }\n",
       "\n",
       "    .dataframe tbody tr th {\n",
       "        vertical-align: top;\n",
       "    }\n",
       "\n",
       "    .dataframe thead th {\n",
       "        text-align: right;\n",
       "    }\n",
       "</style>\n",
       "<table border=\"1\" class=\"dataframe\">\n",
       "  <thead>\n",
       "    <tr style=\"text-align: right;\">\n",
       "      <th></th>\n",
       "      <th>Num_Bedrooms</th>\n",
       "      <th>Sqft</th>\n",
       "      <th>Price</th>\n",
       "    </tr>\n",
       "    <tr>\n",
       "      <th>Neighborhood</th>\n",
       "      <th></th>\n",
       "      <th></th>\n",
       "      <th></th>\n",
       "    </tr>\n",
       "  </thead>\n",
       "  <tbody>\n",
       "    <tr>\n",
       "      <th>Andersonville</th>\n",
       "      <td>1.000000</td>\n",
       "      <td>NaN</td>\n",
       "      <td>1070.000000</td>\n",
       "    </tr>\n",
       "    <tr>\n",
       "      <th>Auburn Gresham</th>\n",
       "      <td>1.000000</td>\n",
       "      <td>525.0</td>\n",
       "      <td>740.000000</td>\n",
       "    </tr>\n",
       "    <tr>\n",
       "      <th>Bucktown</th>\n",
       "      <td>1.666667</td>\n",
       "      <td>980.0</td>\n",
       "      <td>1365.000000</td>\n",
       "    </tr>\n",
       "    <tr>\n",
       "      <th>Buena Park</th>\n",
       "      <td>NaN</td>\n",
       "      <td>NaN</td>\n",
       "      <td>850.000000</td>\n",
       "    </tr>\n",
       "    <tr>\n",
       "      <th>Chicago</th>\n",
       "      <td>1.833333</td>\n",
       "      <td>1089.0</td>\n",
       "      <td>1287.083333</td>\n",
       "    </tr>\n",
       "    <tr>\n",
       "      <th>Chicago &amp; Lasalle</th>\n",
       "      <td>2.000000</td>\n",
       "      <td>1000.0</td>\n",
       "      <td>1695.000000</td>\n",
       "    </tr>\n",
       "    <tr>\n",
       "      <th>Chicago - Uptown</th>\n",
       "      <td>1.000000</td>\n",
       "      <td>NaN</td>\n",
       "      <td>950.000000</td>\n",
       "    </tr>\n",
       "    <tr>\n",
       "      <th>Chicago Prime Bridgeport</th>\n",
       "      <td>2.000000</td>\n",
       "      <td>650.0</td>\n",
       "      <td>995.000000</td>\n",
       "    </tr>\n",
       "    <tr>\n",
       "      <th>Chicago, Illinois</th>\n",
       "      <td>1.000000</td>\n",
       "      <td>885.0</td>\n",
       "      <td>875.000000</td>\n",
       "    </tr>\n",
       "    <tr>\n",
       "      <th>Edgewater</th>\n",
       "      <td>1.000000</td>\n",
       "      <td>NaN</td>\n",
       "      <td>951.000000</td>\n",
       "    </tr>\n",
       "    <tr>\n",
       "      <th>Evanston</th>\n",
       "      <td>2.000000</td>\n",
       "      <td>NaN</td>\n",
       "      <td>1507.500000</td>\n",
       "    </tr>\n",
       "    <tr>\n",
       "      <th>Glenview</th>\n",
       "      <td>1.000000</td>\n",
       "      <td>700.0</td>\n",
       "      <td>1100.000000</td>\n",
       "    </tr>\n",
       "    <tr>\n",
       "      <th>Gold Coast</th>\n",
       "      <td>1.000000</td>\n",
       "      <td>1000.0</td>\n",
       "      <td>1465.000000</td>\n",
       "    </tr>\n",
       "    <tr>\n",
       "      <th>Hyde Park</th>\n",
       "      <td>1.000000</td>\n",
       "      <td>NaN</td>\n",
       "      <td>1435.000000</td>\n",
       "    </tr>\n",
       "    <tr>\n",
       "      <th>Irving Park</th>\n",
       "      <td>3.000000</td>\n",
       "      <td>1600.0</td>\n",
       "      <td>1750.000000</td>\n",
       "    </tr>\n",
       "    <tr>\n",
       "      <th>Jefferson Park</th>\n",
       "      <td>3.000000</td>\n",
       "      <td>NaN</td>\n",
       "      <td>1475.000000</td>\n",
       "    </tr>\n",
       "    <tr>\n",
       "      <th>Lakeview</th>\n",
       "      <td>1.476190</td>\n",
       "      <td>1050.0</td>\n",
       "      <td>1427.571429</td>\n",
       "    </tr>\n",
       "    <tr>\n",
       "      <th>Lincoln Park</th>\n",
       "      <td>1.750000</td>\n",
       "      <td>NaN</td>\n",
       "      <td>1671.250000</td>\n",
       "    </tr>\n",
       "    <tr>\n",
       "      <th>Lincoln Square</th>\n",
       "      <td>3.000000</td>\n",
       "      <td>2800.0</td>\n",
       "      <td>2695.000000</td>\n",
       "    </tr>\n",
       "    <tr>\n",
       "      <th>Little Italy</th>\n",
       "      <td>1.000000</td>\n",
       "      <td>2400.0</td>\n",
       "      <td>3000.000000</td>\n",
       "    </tr>\n",
       "    <tr>\n",
       "      <th>Logan Square</th>\n",
       "      <td>1.000000</td>\n",
       "      <td>900.0</td>\n",
       "      <td>1750.000000</td>\n",
       "    </tr>\n",
       "    <tr>\n",
       "      <th>Midway Area</th>\n",
       "      <td>1.000000</td>\n",
       "      <td>NaN</td>\n",
       "      <td>610.000000</td>\n",
       "    </tr>\n",
       "    <tr>\n",
       "      <th>North Kenwood</th>\n",
       "      <td>1.000000</td>\n",
       "      <td>NaN</td>\n",
       "      <td>895.000000</td>\n",
       "    </tr>\n",
       "    <tr>\n",
       "      <th>Pilsen</th>\n",
       "      <td>1.333333</td>\n",
       "      <td>NaN</td>\n",
       "      <td>1245.000000</td>\n",
       "    </tr>\n",
       "    <tr>\n",
       "      <th>River North</th>\n",
       "      <td>1.000000</td>\n",
       "      <td>NaN</td>\n",
       "      <td>1571.000000</td>\n",
       "    </tr>\n",
       "    <tr>\n",
       "      <th>Rogers Park</th>\n",
       "      <td>2.333333</td>\n",
       "      <td>1350.0</td>\n",
       "      <td>1691.666667</td>\n",
       "    </tr>\n",
       "    <tr>\n",
       "      <th>Roscoe Village</th>\n",
       "      <td>1.000000</td>\n",
       "      <td>900.0</td>\n",
       "      <td>1395.000000</td>\n",
       "    </tr>\n",
       "    <tr>\n",
       "      <th>Sheridan Park</th>\n",
       "      <td>2.000000</td>\n",
       "      <td>NaN</td>\n",
       "      <td>1292.000000</td>\n",
       "    </tr>\n",
       "    <tr>\n",
       "      <th>South Loop</th>\n",
       "      <td>1.000000</td>\n",
       "      <td>NaN</td>\n",
       "      <td>1170.000000</td>\n",
       "    </tr>\n",
       "    <tr>\n",
       "      <th>South Loop Mccormick Square</th>\n",
       "      <td>2.000000</td>\n",
       "      <td>1125.0</td>\n",
       "      <td>2265.000000</td>\n",
       "    </tr>\n",
       "    <tr>\n",
       "      <th>South Shore</th>\n",
       "      <td>1.000000</td>\n",
       "      <td>NaN</td>\n",
       "      <td>800.000000</td>\n",
       "    </tr>\n",
       "    <tr>\n",
       "      <th>Ukrainian Village</th>\n",
       "      <td>2.000000</td>\n",
       "      <td>NaN</td>\n",
       "      <td>1575.000000</td>\n",
       "    </tr>\n",
       "    <tr>\n",
       "      <th>Uptown</th>\n",
       "      <td>1.000000</td>\n",
       "      <td>408.0</td>\n",
       "      <td>973.333333</td>\n",
       "    </tr>\n",
       "    <tr>\n",
       "      <th>West Lakeview</th>\n",
       "      <td>2.000000</td>\n",
       "      <td>NaN</td>\n",
       "      <td>2100.000000</td>\n",
       "    </tr>\n",
       "    <tr>\n",
       "      <th>West Loop</th>\n",
       "      <td>1.000000</td>\n",
       "      <td>1100.0</td>\n",
       "      <td>2900.000000</td>\n",
       "    </tr>\n",
       "  </tbody>\n",
       "</table>\n",
       "</div>"
      ],
      "text/plain": [
       "                             Num_Bedrooms    Sqft        Price\n",
       "Neighborhood                                                  \n",
       "Andersonville                    1.000000     NaN  1070.000000\n",
       "Auburn Gresham                   1.000000   525.0   740.000000\n",
       "Bucktown                         1.666667   980.0  1365.000000\n",
       "Buena Park                            NaN     NaN   850.000000\n",
       "Chicago                          1.833333  1089.0  1287.083333\n",
       "Chicago & Lasalle                2.000000  1000.0  1695.000000\n",
       "Chicago - Uptown                 1.000000     NaN   950.000000\n",
       "Chicago Prime Bridgeport         2.000000   650.0   995.000000\n",
       "Chicago, Illinois                1.000000   885.0   875.000000\n",
       "Edgewater                        1.000000     NaN   951.000000\n",
       "Evanston                         2.000000     NaN  1507.500000\n",
       "Glenview                         1.000000   700.0  1100.000000\n",
       "Gold Coast                       1.000000  1000.0  1465.000000\n",
       "Hyde Park                        1.000000     NaN  1435.000000\n",
       "Irving Park                      3.000000  1600.0  1750.000000\n",
       "Jefferson Park                   3.000000     NaN  1475.000000\n",
       "Lakeview                         1.476190  1050.0  1427.571429\n",
       "Lincoln Park                     1.750000     NaN  1671.250000\n",
       "Lincoln Square                   3.000000  2800.0  2695.000000\n",
       "Little Italy                     1.000000  2400.0  3000.000000\n",
       "Logan Square                     1.000000   900.0  1750.000000\n",
       "Midway Area                      1.000000     NaN   610.000000\n",
       "North Kenwood                    1.000000     NaN   895.000000\n",
       "Pilsen                           1.333333     NaN  1245.000000\n",
       "River North                      1.000000     NaN  1571.000000\n",
       "Rogers Park                      2.333333  1350.0  1691.666667\n",
       "Roscoe Village                   1.000000   900.0  1395.000000\n",
       "Sheridan Park                    2.000000     NaN  1292.000000\n",
       "South Loop                       1.000000     NaN  1170.000000\n",
       "South Loop Mccormick Square      2.000000  1125.0  2265.000000\n",
       "South Shore                      1.000000     NaN   800.000000\n",
       "Ukrainian Village                2.000000     NaN  1575.000000\n",
       "Uptown                           1.000000   408.0   973.333333\n",
       "West Lakeview                    2.000000     NaN  2100.000000\n",
       "West Loop                        1.000000  1100.0  2900.000000"
      ]
     },
     "execution_count": 31,
     "metadata": {},
     "output_type": "execute_result"
    }
   ],
   "source": [
    "#group by neighborhood\n",
    "ch_apts.groupby('Neighborhood').mean()"
   ]
  },
  {
   "cell_type": "code",
   "execution_count": 32,
   "metadata": {
    "colab": {
     "base_uri": "https://localhost:8080/",
     "height": 901
    },
    "colab_type": "code",
    "id": "29mw0QmmXonp",
    "outputId": "0311e2cc-1497-4959-fa79-107f4d340fa2"
   },
   "outputs": [
    {
     "data": {
      "text/plain": [
       "Neighborhood\n",
       "Midway Area                     610.000000\n",
       "Auburn Gresham                  740.000000\n",
       "South Shore                     800.000000\n",
       "Buena Park                      850.000000\n",
       "Chicago, Illinois               875.000000\n",
       "North Kenwood                   895.000000\n",
       "Chicago - Uptown                950.000000\n",
       "Edgewater                       951.000000\n",
       "Uptown                          973.333333\n",
       "Chicago Prime Bridgeport        995.000000\n",
       "Andersonville                  1070.000000\n",
       "Glenview                       1100.000000\n",
       "South Loop                     1170.000000\n",
       "Pilsen                         1245.000000\n",
       "Chicago                        1287.083333\n",
       "Sheridan Park                  1292.000000\n",
       "Bucktown                       1365.000000\n",
       "Roscoe Village                 1395.000000\n",
       "Lakeview                       1427.571429\n",
       "Hyde Park                      1435.000000\n",
       "Gold Coast                     1465.000000\n",
       "Jefferson Park                 1475.000000\n",
       "Evanston                       1507.500000\n",
       "River North                    1571.000000\n",
       "Ukrainian Village              1575.000000\n",
       "Lincoln Park                   1671.250000\n",
       "Rogers Park                    1691.666667\n",
       "Chicago & Lasalle              1695.000000\n",
       "Logan Square                   1750.000000\n",
       "Irving Park                    1750.000000\n",
       "West Lakeview                  2100.000000\n",
       "South Loop Mccormick Square    2265.000000\n",
       "Lincoln Square                 2695.000000\n",
       "West Loop                      2900.000000\n",
       "Little Italy                   3000.000000\n",
       "Name: Price, dtype: float64"
      ]
     },
     "execution_count": 32,
     "metadata": {},
     "output_type": "execute_result"
    }
   ],
   "source": [
    "#sort price to find cheapest\n",
    "ch_apts.groupby('Neighborhood').mean()['Price'].sort_values()"
   ]
  },
  {
   "cell_type": "code",
   "execution_count": 33,
   "metadata": {
    "colab": {
     "base_uri": "https://localhost:8080/",
     "height": 842
    },
    "colab_type": "code",
    "id": "kuHF75vEXl3Z",
    "outputId": "275d0023-82f1-4e09-c595-2e046eb98a12"
   },
   "outputs": [
    {
     "data": {
      "image/png": "[encoded data removed]",
      "text/plain": [
       "<Figure size 1080x720 with 1 Axes>"
      ]
     },
     "metadata": {
      "needs_background": "light"
     },
     "output_type": "display_data"
    }
   ],
   "source": [
    "plt.figure(figsize=(15,10))\n",
    "params = {'legend.fontsize': 'x-large',\n",
    "          'figure.figsize': (15, 5),\n",
    "         'axes.labelsize': 'x-large',\n",
    "         'axes.titlesize':'x-large',\n",
    "         'xtick.labelsize':'x-large',\n",
    "         'ytick.labelsize':'x-large'}\n",
    "pylab.rcParams.update(params)\n",
    "\n",
    "sns.boxplot(x='Neighborhood', y='Price', data=ch_apts)\n",
    "plt.xlabel(\"Neighborhood\");\n",
    "plt.xticks(rotation=75)\n",
    "plt.ylabel(\"Price USD\");\n",
    "plt.title(\"Prices by Neighborhood - Boxplots\");"
   ]
  },
  {
   "cell_type": "code",
   "execution_count": 34,
   "metadata": {
    "colab": {},
    "colab_type": "code",
    "id": "HXfJa2EVXl2E"
   },
   "outputs": [
    {
     "data": {
      "text/plain": [
       "['Lakeview', 'Chicago', 'Sheridan Park', 'Lincoln Park', 'Gold Coast']"
      ]
     },
     "execution_count": 34,
     "metadata": {},
     "output_type": "execute_result"
    }
   ],
   "source": [
    "############################\n",
    "############################\n",
    "# 1 bedroom apts\n",
    "###########################\n",
    "###########################\n",
    "###########################\n",
    "\n",
    "# get 5 most popular neighborhoods \n",
    "chicago_apts['Neighborhood'].value_counts()[:5].index.tolist()\n",
    "\n",
    "#break it down and do a sns barplot below with the Neighborhood hue so you can compare those different areas\n",
    "#sns.stripplot(data=chicago_apts, y=\"Price\",x=\"Num_Bedrooms\", jitter=True)\n",
    "#sns.barplot(data=chicago_apts, y= \"Price\", x=\"Num_Bedrooms\",hue=\"Neighborhood\")"
   ]
  },
  {
   "cell_type": "code",
   "execution_count": 35,
   "metadata": {},
   "outputs": [
    {
     "name": "stdout",
     "output_type": "stream",
     "text": [
      "<class 'pandas.core.frame.DataFrame'>\n",
      "RangeIndex: 94 entries, 0 to 93\n",
      "Data columns (total 8 columns):\n",
      " #   Column        Non-Null Count  Dtype  \n",
      "---  ------        --------------  -----  \n",
      " 0   Unnamed: 0    94 non-null     int64  \n",
      " 1   Posted        94 non-null     object \n",
      " 2   Neighborhood  94 non-null     object \n",
      " 3   Post_Title    94 non-null     object \n",
      " 4   Num_Bedrooms  82 non-null     float64\n",
      " 5   Sqft          21 non-null     float64\n",
      " 6   URL           94 non-null     object \n",
      " 7   Price         94 non-null     int64  \n",
      "dtypes: float64(2), int64(2), object(4)\n",
      "memory usage: 6.0+ KB\n"
     ]
    },
    {
     "data": {
      "text/plain": [
       "(94, 8)"
      ]
     },
     "execution_count": 35,
     "metadata": {},
     "output_type": "execute_result"
    },
    {
     "data": {
      "text/plain": [
       "Index(['Unnamed: 0', 'Posted', 'Neighborhood', 'Post_Title', 'Num_Bedrooms',\n",
       "       'Sqft', 'URL', 'Price'],\n",
       "      dtype='object')"
      ]
     },
     "execution_count": 35,
     "metadata": {},
     "output_type": "execute_result"
    },
    {
     "data": {
      "text/html": [
       "<div>\n",
       "<style scoped>\n",
       "    .dataframe tbody tr th:only-of-type {\n",
       "        vertical-align: middle;\n",
       "    }\n",
       "\n",
       "    .dataframe tbody tr th {\n",
       "        vertical-align: top;\n",
       "    }\n",
       "\n",
       "    .dataframe thead th {\n",
       "        text-align: right;\n",
       "    }\n",
       "</style>\n",
       "<table border=\"1\" class=\"dataframe\">\n",
       "  <thead>\n",
       "    <tr style=\"text-align: right;\">\n",
       "      <th></th>\n",
       "      <th>Unnamed: 0</th>\n",
       "      <th>Posted</th>\n",
       "      <th>Neighborhood</th>\n",
       "      <th>Post_Title</th>\n",
       "      <th>Num_Bedrooms</th>\n",
       "      <th>Sqft</th>\n",
       "      <th>URL</th>\n",
       "      <th>Price</th>\n",
       "    </tr>\n",
       "  </thead>\n",
       "  <tbody>\n",
       "    <tr>\n",
       "      <th>0</th>\n",
       "      <td>0</td>\n",
       "      <td>2020-12-08 12:56:00</td>\n",
       "      <td>Chicago</td>\n",
       "      <td>AVAILABLE NOW!!!!-3802 N SEELEY-2S 2 BED/ 1 BATH</td>\n",
       "      <td>2.0</td>\n",
       "      <td>NaN</td>\n",
       "      <td>https://chicago.craigslist.org/chc/apa/d/chica...</td>\n",
       "      <td>1500</td>\n",
       "    </tr>\n",
       "    <tr>\n",
       "      <th>1</th>\n",
       "      <td>1</td>\n",
       "      <td>2020-12-08 12:55:00</td>\n",
       "      <td>Edgewater</td>\n",
       "      <td>1 bedroom in Edgewater neighborhood 1ST MONTH ...</td>\n",
       "      <td>1.0</td>\n",
       "      <td>NaN</td>\n",
       "      <td>https://chicago.craigslist.org/chc/apa/d/chica...</td>\n",
       "      <td>875</td>\n",
       "    </tr>\n",
       "    <tr>\n",
       "      <th>2</th>\n",
       "      <td>2</td>\n",
       "      <td>2020-12-08 12:50:00</td>\n",
       "      <td>South Loop</td>\n",
       "      <td>SOUTH LOOP! AMAZING LOFT STYLE Jr 1 bed WD, hd...</td>\n",
       "      <td>1.0</td>\n",
       "      <td>NaN</td>\n",
       "      <td>https://chicago.craigslist.org/chc/apa/d/chica...</td>\n",
       "      <td>1170</td>\n",
       "    </tr>\n",
       "    <tr>\n",
       "      <th>3</th>\n",
       "      <td>3</td>\n",
       "      <td>2020-12-08 12:50:00</td>\n",
       "      <td>Pilsen</td>\n",
       "      <td>RENOVATED Pilsen 1 Bed with in-unit washer/dryer</td>\n",
       "      <td>1.0</td>\n",
       "      <td>NaN</td>\n",
       "      <td>https://chicago.craigslist.org/chc/apa/d/chica...</td>\n",
       "      <td>1400</td>\n",
       "    </tr>\n",
       "    <tr>\n",
       "      <th>4</th>\n",
       "      <td>4</td>\n",
       "      <td>2020-12-08 12:48:00</td>\n",
       "      <td>Chicago</td>\n",
       "      <td>AVAILABLE NOW!!!!-HOT SOUTHPORT CORRIDOR LOCAT...</td>\n",
       "      <td>1.0</td>\n",
       "      <td>NaN</td>\n",
       "      <td>https://chicago.craigslist.org/chc/apa/d/chica...</td>\n",
       "      <td>1495</td>\n",
       "    </tr>\n",
       "  </tbody>\n",
       "</table>\n",
       "</div>"
      ],
      "text/plain": [
       "   Unnamed: 0               Posted Neighborhood  \\\n",
       "0           0  2020-12-08 12:56:00      Chicago   \n",
       "1           1  2020-12-08 12:55:00    Edgewater   \n",
       "2           2  2020-12-08 12:50:00   South Loop   \n",
       "3           3  2020-12-08 12:50:00       Pilsen   \n",
       "4           4  2020-12-08 12:48:00      Chicago   \n",
       "\n",
       "                                          Post_Title  Num_Bedrooms  Sqft  \\\n",
       "0   AVAILABLE NOW!!!!-3802 N SEELEY-2S 2 BED/ 1 BATH           2.0   NaN   \n",
       "1  1 bedroom in Edgewater neighborhood 1ST MONTH ...           1.0   NaN   \n",
       "2  SOUTH LOOP! AMAZING LOFT STYLE Jr 1 bed WD, hd...           1.0   NaN   \n",
       "3   RENOVATED Pilsen 1 Bed with in-unit washer/dryer           1.0   NaN   \n",
       "4  AVAILABLE NOW!!!!-HOT SOUTHPORT CORRIDOR LOCAT...           1.0   NaN   \n",
       "\n",
       "                                                 URL  Price  \n",
       "0  https://chicago.craigslist.org/chc/apa/d/chica...   1500  \n",
       "1  https://chicago.craigslist.org/chc/apa/d/chica...    875  \n",
       "2  https://chicago.craigslist.org/chc/apa/d/chica...   1170  \n",
       "3  https://chicago.craigslist.org/chc/apa/d/chica...   1400  \n",
       "4  https://chicago.craigslist.org/chc/apa/d/chica...   1495  "
      ]
     },
     "execution_count": 35,
     "metadata": {},
     "output_type": "execute_result"
    }
   ],
   "source": [
    "#Focusing on 1 bedroom apts\n",
    "#use created file\n",
    "chicago_apts = pd.read_csv(\"Craigslist-Data.csv\")\n",
    "\n",
    "chicago_apts.info()\n",
    "chicago_apts.shape\n",
    "chicago_apts.columns\n",
    "chicago_apts.head()"
   ]
  },
  {
   "cell_type": "code",
   "execution_count": 36,
   "metadata": {},
   "outputs": [
    {
     "data": {
      "text/plain": [
       "(47, 8)"
      ]
     },
     "execution_count": 36,
     "metadata": {},
     "output_type": "execute_result"
    }
   ],
   "source": [
    "one = chicago_apts[chicago_apts.Num_Bedrooms.eq(1.0)]\n",
    "one.shape"
   ]
  },
  {
   "cell_type": "code",
   "execution_count": 37,
   "metadata": {},
   "outputs": [
    {
     "data": {
      "image/png": "[encoded data removed]",
      "text/plain": [
       "<Figure size 720x432 with 1 Axes>"
      ]
     },
     "metadata": {
      "needs_background": "light"
     },
     "output_type": "display_data"
    }
   ],
   "source": [
    "#start to look at the distributions\n",
    "from matplotlib import figure\n",
    "import seaborn as sns\n",
    "import matplotlib.pyplot as plt\n",
    "%matplotlib inline\n",
    "\n",
    "plt.figure(figsize=(10, 6))\n",
    "plt.hist(one['Price'], edgecolor='black');\n",
    "plt.xlabel(\"Price\")\n",
    "plt.ylabel('Count')\n",
    "plt.title(\"Distribution of Rent for 1 bedroom Apts in Chicago\");"
   ]
  },
  {
   "cell_type": "code",
   "execution_count": 38,
   "metadata": {},
   "outputs": [
    {
     "data": {
      "image/png": "[encoded data removed]",
      "text/plain": [
       "<Figure size 864x576 with 1 Axes>"
      ]
     },
     "metadata": {
      "needs_background": "light"
     },
     "output_type": "display_data"
    }
   ],
   "source": [
    "import matplotlib.pylab as pylab\n",
    "params = {'legend.fontsize': 'x-large',\n",
    "          'figure.figsize': (15, 5),\n",
    "         'axes.labelsize': 'x-large',\n",
    "         'axes.titlesize':'x-large',\n",
    "         'xtick.labelsize':'x-large',\n",
    "         'ytick.labelsize':'x-large'}\n",
    "pylab.rcParams.update(params)\n",
    "\n",
    "plt.figure(figsize=(12, 8))\n",
    "sns.scatterplot(x='Price', y='Sqft', hue='Num_Bedrooms', palette='summer', x_jitter=True, y_jitter=True, s=125, data=one.dropna())\n",
    "plt.legend(fontsize=12)\n",
    "plt.xlabel(\"Price\", fontsize=18)\n",
    "plt.ylabel(\"Square Footage\", fontsize=18);\n",
    "plt.title(\"Price vs. Square Footage Colored by Number of Bedrooms\", fontsize=18);"
   ]
  },
  {
   "cell_type": "code",
   "execution_count": 39,
   "metadata": {},
   "outputs": [
    {
     "data": {
      "image/png": "[encoded data removed]",
      "text/plain": [
       "<Figure size 864x576 with 1 Axes>"
      ]
     },
     "metadata": {
      "needs_background": "light"
     },
     "output_type": "display_data"
    }
   ],
   "source": [
    "plt.figure(figsize=(12, 8))\n",
    "sns.regplot(x='Price', y='Sqft', data=one.dropna());\n",
    "plt.title('Price vs. Square Footage Regression Plot');\n",
    "plt.xlabel(\"Price (USD)\");\n",
    "plt.ylabel(\"Square Feet\");"
   ]
  },
  {
   "cell_type": "code",
   "execution_count": 40,
   "metadata": {},
   "outputs": [
    {
     "data": {
      "text/html": [
       "<div>\n",
       "<style scoped>\n",
       "    .dataframe tbody tr th:only-of-type {\n",
       "        vertical-align: middle;\n",
       "    }\n",
       "\n",
       "    .dataframe tbody tr th {\n",
       "        vertical-align: top;\n",
       "    }\n",
       "\n",
       "    .dataframe thead th {\n",
       "        text-align: right;\n",
       "    }\n",
       "</style>\n",
       "<table border=\"1\" class=\"dataframe\">\n",
       "  <thead>\n",
       "    <tr style=\"text-align: right;\">\n",
       "      <th></th>\n",
       "      <th>Num_Bedrooms</th>\n",
       "      <th>Sqft</th>\n",
       "      <th>Price</th>\n",
       "    </tr>\n",
       "    <tr>\n",
       "      <th>Neighborhood</th>\n",
       "      <th></th>\n",
       "      <th></th>\n",
       "      <th></th>\n",
       "    </tr>\n",
       "  </thead>\n",
       "  <tbody>\n",
       "    <tr>\n",
       "      <th>Andersonville</th>\n",
       "      <td>1.000000</td>\n",
       "      <td>NaN</td>\n",
       "      <td>1070.000000</td>\n",
       "    </tr>\n",
       "    <tr>\n",
       "      <th>Auburn Gresham</th>\n",
       "      <td>1.000000</td>\n",
       "      <td>525.0</td>\n",
       "      <td>740.000000</td>\n",
       "    </tr>\n",
       "    <tr>\n",
       "      <th>Bucktown</th>\n",
       "      <td>1.666667</td>\n",
       "      <td>980.0</td>\n",
       "      <td>1365.000000</td>\n",
       "    </tr>\n",
       "    <tr>\n",
       "      <th>Buena Park</th>\n",
       "      <td>NaN</td>\n",
       "      <td>NaN</td>\n",
       "      <td>850.000000</td>\n",
       "    </tr>\n",
       "    <tr>\n",
       "      <th>Chicago</th>\n",
       "      <td>1.833333</td>\n",
       "      <td>1089.0</td>\n",
       "      <td>1287.083333</td>\n",
       "    </tr>\n",
       "    <tr>\n",
       "      <th>Chicago &amp; Lasalle</th>\n",
       "      <td>2.000000</td>\n",
       "      <td>1000.0</td>\n",
       "      <td>1695.000000</td>\n",
       "    </tr>\n",
       "    <tr>\n",
       "      <th>Chicago - Uptown</th>\n",
       "      <td>1.000000</td>\n",
       "      <td>NaN</td>\n",
       "      <td>950.000000</td>\n",
       "    </tr>\n",
       "    <tr>\n",
       "      <th>Chicago Prime Bridgeport</th>\n",
       "      <td>2.000000</td>\n",
       "      <td>650.0</td>\n",
       "      <td>995.000000</td>\n",
       "    </tr>\n",
       "    <tr>\n",
       "      <th>Chicago, Illinois</th>\n",
       "      <td>1.000000</td>\n",
       "      <td>885.0</td>\n",
       "      <td>875.000000</td>\n",
       "    </tr>\n",
       "    <tr>\n",
       "      <th>Edgewater</th>\n",
       "      <td>1.000000</td>\n",
       "      <td>NaN</td>\n",
       "      <td>951.000000</td>\n",
       "    </tr>\n",
       "    <tr>\n",
       "      <th>Evanston</th>\n",
       "      <td>2.000000</td>\n",
       "      <td>NaN</td>\n",
       "      <td>1507.500000</td>\n",
       "    </tr>\n",
       "    <tr>\n",
       "      <th>Glenview</th>\n",
       "      <td>1.000000</td>\n",
       "      <td>700.0</td>\n",
       "      <td>1100.000000</td>\n",
       "    </tr>\n",
       "    <tr>\n",
       "      <th>Gold Coast</th>\n",
       "      <td>1.000000</td>\n",
       "      <td>1000.0</td>\n",
       "      <td>1465.000000</td>\n",
       "    </tr>\n",
       "    <tr>\n",
       "      <th>Hyde Park</th>\n",
       "      <td>1.000000</td>\n",
       "      <td>NaN</td>\n",
       "      <td>1435.000000</td>\n",
       "    </tr>\n",
       "    <tr>\n",
       "      <th>Irving Park</th>\n",
       "      <td>3.000000</td>\n",
       "      <td>1600.0</td>\n",
       "      <td>1750.000000</td>\n",
       "    </tr>\n",
       "    <tr>\n",
       "      <th>Jefferson Park</th>\n",
       "      <td>3.000000</td>\n",
       "      <td>NaN</td>\n",
       "      <td>1475.000000</td>\n",
       "    </tr>\n",
       "    <tr>\n",
       "      <th>Lakeview</th>\n",
       "      <td>1.476190</td>\n",
       "      <td>1050.0</td>\n",
       "      <td>1427.571429</td>\n",
       "    </tr>\n",
       "    <tr>\n",
       "      <th>Lincoln Park</th>\n",
       "      <td>1.750000</td>\n",
       "      <td>NaN</td>\n",
       "      <td>1671.250000</td>\n",
       "    </tr>\n",
       "    <tr>\n",
       "      <th>Lincoln Square</th>\n",
       "      <td>3.000000</td>\n",
       "      <td>2800.0</td>\n",
       "      <td>2695.000000</td>\n",
       "    </tr>\n",
       "    <tr>\n",
       "      <th>Little Italy</th>\n",
       "      <td>1.000000</td>\n",
       "      <td>2400.0</td>\n",
       "      <td>3000.000000</td>\n",
       "    </tr>\n",
       "    <tr>\n",
       "      <th>Logan Square</th>\n",
       "      <td>1.000000</td>\n",
       "      <td>900.0</td>\n",
       "      <td>1750.000000</td>\n",
       "    </tr>\n",
       "    <tr>\n",
       "      <th>Midway Area</th>\n",
       "      <td>1.000000</td>\n",
       "      <td>NaN</td>\n",
       "      <td>610.000000</td>\n",
       "    </tr>\n",
       "    <tr>\n",
       "      <th>North Kenwood</th>\n",
       "      <td>1.000000</td>\n",
       "      <td>NaN</td>\n",
       "      <td>895.000000</td>\n",
       "    </tr>\n",
       "    <tr>\n",
       "      <th>Pilsen</th>\n",
       "      <td>1.333333</td>\n",
       "      <td>NaN</td>\n",
       "      <td>1245.000000</td>\n",
       "    </tr>\n",
       "    <tr>\n",
       "      <th>River North</th>\n",
       "      <td>1.000000</td>\n",
       "      <td>NaN</td>\n",
       "      <td>1571.000000</td>\n",
       "    </tr>\n",
       "    <tr>\n",
       "      <th>Rogers Park</th>\n",
       "      <td>2.333333</td>\n",
       "      <td>1350.0</td>\n",
       "      <td>1691.666667</td>\n",
       "    </tr>\n",
       "    <tr>\n",
       "      <th>Roscoe Village</th>\n",
       "      <td>1.000000</td>\n",
       "      <td>900.0</td>\n",
       "      <td>1395.000000</td>\n",
       "    </tr>\n",
       "    <tr>\n",
       "      <th>Sheridan Park</th>\n",
       "      <td>2.000000</td>\n",
       "      <td>NaN</td>\n",
       "      <td>1292.000000</td>\n",
       "    </tr>\n",
       "    <tr>\n",
       "      <th>South Loop</th>\n",
       "      <td>1.000000</td>\n",
       "      <td>NaN</td>\n",
       "      <td>1170.000000</td>\n",
       "    </tr>\n",
       "    <tr>\n",
       "      <th>South Loop Mccormick Square</th>\n",
       "      <td>2.000000</td>\n",
       "      <td>1125.0</td>\n",
       "      <td>2265.000000</td>\n",
       "    </tr>\n",
       "    <tr>\n",
       "      <th>South Shore</th>\n",
       "      <td>1.000000</td>\n",
       "      <td>NaN</td>\n",
       "      <td>800.000000</td>\n",
       "    </tr>\n",
       "    <tr>\n",
       "      <th>Ukrainian Village</th>\n",
       "      <td>2.000000</td>\n",
       "      <td>NaN</td>\n",
       "      <td>1575.000000</td>\n",
       "    </tr>\n",
       "    <tr>\n",
       "      <th>Uptown</th>\n",
       "      <td>1.000000</td>\n",
       "      <td>408.0</td>\n",
       "      <td>973.333333</td>\n",
       "    </tr>\n",
       "    <tr>\n",
       "      <th>West Lakeview</th>\n",
       "      <td>2.000000</td>\n",
       "      <td>NaN</td>\n",
       "      <td>2100.000000</td>\n",
       "    </tr>\n",
       "    <tr>\n",
       "      <th>West Loop</th>\n",
       "      <td>1.000000</td>\n",
       "      <td>1100.0</td>\n",
       "      <td>2900.000000</td>\n",
       "    </tr>\n",
       "  </tbody>\n",
       "</table>\n",
       "</div>"
      ],
      "text/plain": [
       "                             Num_Bedrooms    Sqft        Price\n",
       "Neighborhood                                                  \n",
       "Andersonville                    1.000000     NaN  1070.000000\n",
       "Auburn Gresham                   1.000000   525.0   740.000000\n",
       "Bucktown                         1.666667   980.0  1365.000000\n",
       "Buena Park                            NaN     NaN   850.000000\n",
       "Chicago                          1.833333  1089.0  1287.083333\n",
       "Chicago & Lasalle                2.000000  1000.0  1695.000000\n",
       "Chicago - Uptown                 1.000000     NaN   950.000000\n",
       "Chicago Prime Bridgeport         2.000000   650.0   995.000000\n",
       "Chicago, Illinois                1.000000   885.0   875.000000\n",
       "Edgewater                        1.000000     NaN   951.000000\n",
       "Evanston                         2.000000     NaN  1507.500000\n",
       "Glenview                         1.000000   700.0  1100.000000\n",
       "Gold Coast                       1.000000  1000.0  1465.000000\n",
       "Hyde Park                        1.000000     NaN  1435.000000\n",
       "Irving Park                      3.000000  1600.0  1750.000000\n",
       "Jefferson Park                   3.000000     NaN  1475.000000\n",
       "Lakeview                         1.476190  1050.0  1427.571429\n",
       "Lincoln Park                     1.750000     NaN  1671.250000\n",
       "Lincoln Square                   3.000000  2800.0  2695.000000\n",
       "Little Italy                     1.000000  2400.0  3000.000000\n",
       "Logan Square                     1.000000   900.0  1750.000000\n",
       "Midway Area                      1.000000     NaN   610.000000\n",
       "North Kenwood                    1.000000     NaN   895.000000\n",
       "Pilsen                           1.333333     NaN  1245.000000\n",
       "River North                      1.000000     NaN  1571.000000\n",
       "Rogers Park                      2.333333  1350.0  1691.666667\n",
       "Roscoe Village                   1.000000   900.0  1395.000000\n",
       "Sheridan Park                    2.000000     NaN  1292.000000\n",
       "South Loop                       1.000000     NaN  1170.000000\n",
       "South Loop Mccormick Square      2.000000  1125.0  2265.000000\n",
       "South Shore                      1.000000     NaN   800.000000\n",
       "Ukrainian Village                2.000000     NaN  1575.000000\n",
       "Uptown                           1.000000   408.0   973.333333\n",
       "West Lakeview                    2.000000     NaN  2100.000000\n",
       "West Loop                        1.000000  1100.0  2900.000000"
      ]
     },
     "execution_count": 40,
     "metadata": {},
     "output_type": "execute_result"
    }
   ],
   "source": [
    "#group by neighborhood\n",
    "ch_apts.groupby('Neighborhood').mean()"
   ]
  },
  {
   "cell_type": "code",
   "execution_count": 41,
   "metadata": {},
   "outputs": [
    {
     "data": {
      "text/plain": [
       "Neighborhood\n",
       "Midway Area           610.0\n",
       "Auburn Gresham        740.0\n",
       "South Shore           800.0\n",
       "Chicago, Illinois     875.0\n",
       "Chicago - Uptown      950.0\n",
       "Edgewater             951.0\n",
       "Uptown                985.0\n",
       "North Kenwood        1000.0\n",
       "Andersonville        1070.0\n",
       "Glenview             1100.0\n",
       "Sheridan Park        1145.0\n",
       "South Loop           1170.0\n",
       "Bucktown             1200.0\n",
       "Chicago              1256.0\n",
       "Lakeview             1376.8\n",
       "Pilsen               1392.5\n",
       "Roscoe Village       1395.0\n",
       "Hyde Park            1435.0\n",
       "Gold Coast           1465.0\n",
       "River North          1571.0\n",
       "Lincoln Park         1600.0\n",
       "Logan Square         1750.0\n",
       "West Loop            2900.0\n",
       "Little Italy         3000.0\n",
       "Name: Price, dtype: float64"
      ]
     },
     "execution_count": 41,
     "metadata": {},
     "output_type": "execute_result"
    }
   ],
   "source": [
    "#sort price to find cheapest\n",
    "one.groupby('Neighborhood').mean()['Price'].sort_values()"
   ]
  },
  {
   "cell_type": "code",
   "execution_count": 43,
   "metadata": {
    "colab": {},
    "colab_type": "code",
    "id": "sLu8ltkzXlus"
   },
   "outputs": [
    {
     "data": {
      "image/png": "[encoded data removed]",
      "text/plain": [
       "<Figure size 1080x720 with 1 Axes>"
      ]
     },
     "metadata": {
      "needs_background": "light"
     },
     "output_type": "display_data"
    }
   ],
   "source": [
    "plt.figure(figsize=(15,10))\n",
    "params = {'legend.fontsize': 'x-large',\n",
    "          'figure.figsize': (15, 5),\n",
    "         'axes.labelsize': 'x-large',\n",
    "         'axes.titlesize':'x-large',\n",
    "         'xtick.labelsize':'x-large',\n",
    "         'ytick.labelsize':'x-large'}\n",
    "pylab.rcParams.update(params)\n",
    "\n",
    "sns.boxplot(x='Neighborhood', y='Price', data=one)\n",
    "plt.xlabel(\"Neighborhood\");\n",
    "plt.xticks(rotation=75)\n",
    "plt.ylabel(\"Price USD\");\n",
    "plt.title(\"Prices by Neighborhood of One Bedrooms - Boxplots\");"
   ]
  },
  {
   "cell_type": "code",
   "execution_count": null,
   "metadata": {
    "colab": {},
    "colab_type": "code",
    "id": "MMaWO5vgXlnc"
   },
   "outputs": [],
   "source": []
  },
  {
   "cell_type": "code",
   "execution_count": null,
   "metadata": {
    "colab": {},
    "colab_type": "code",
    "id": "14HUxGXDXllp"
   },
   "outputs": [],
   "source": []
  },
  {
   "cell_type": "code",
   "execution_count": null,
   "metadata": {
    "colab": {},
    "colab_type": "code",
    "id": "-siXGg8RXlf6"
   },
   "outputs": [],
   "source": []
  }
 ],
 "metadata": {
  "colab": {
   "collapsed_sections": [],
   "name": "Welcome To Colaboratory",
   "provenance": []
  },
  "kernelspec": {
   "display_name": "Python 3",
   "language": "python",
   "name": "python3"
  },
  "language_info": {
   "codemirror_mode": {
    "name": "ipython",
    "version": 3
   },
   "file_extension": ".py",
   "mimetype": "text/x-python",
   "name": "python",
   "nbconvert_exporter": "python",
   "pygments_lexer": "ipython3",
   "version": "3.7.6"
  }
 },
 "nbformat": 4,
 "nbformat_minor": 1
}
